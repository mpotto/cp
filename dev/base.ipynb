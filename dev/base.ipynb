{
 "cells": [
  {
   "cell_type": "markdown",
   "metadata": {},
   "source": [
    "# Base Notebook (CP-ML)\n",
    "\n",
    "#### Contents\n",
    "\n",
    "* [Data and Preprocessing](#Data-and-Preprocessing)\n",
    "* [Visualization](#Visualization)\n",
    "* [Processing and Feature Engineering](#Processing-and-Feature-Engineering)\n",
    "* [Models, Cross-Validation and Tuning](#Models,-Cross-Validation-and-Tuning)\n",
    "* [Model Evaluation](#Model-Evaluation)"
   ]
  },
  {
   "cell_type": "code",
   "execution_count": 1,
   "metadata": {},
   "outputs": [],
   "source": [
    "import numpy as np\n",
    "import matplotlib.pyplot as plt\n",
    "import matplotlib as mpl\n",
    "import pandas as pd"
   ]
  },
  {
   "cell_type": "code",
   "execution_count": 2,
   "metadata": {},
   "outputs": [],
   "source": [
    "import os\n",
    "import glob"
   ]
  },
  {
   "cell_type": "code",
   "execution_count": 3,
   "metadata": {},
   "outputs": [],
   "source": [
    "from cp import CIFParser, PDBParser, StructureParser\n",
    "from mpl_toolkits.mplot3d import Axes3D"
   ]
  },
  {
   "cell_type": "markdown",
   "metadata": {},
   "source": [
    "*Set seed for reproducibility*"
   ]
  },
  {
   "cell_type": "code",
   "execution_count": 4,
   "metadata": {},
   "outputs": [],
   "source": [
    "np.random.seed(42)"
   ]
  },
  {
   "cell_type": "markdown",
   "metadata": {},
   "source": [
    "## Data and Preprocessing\n",
    "**[&uarr; Return to Contents](#Contents)**"
   ]
  },
  {
   "cell_type": "code",
   "execution_count": 5,
   "metadata": {},
   "outputs": [],
   "source": [
    "data_d0 = 'E:/ic-exp-uobs/dens-035/'"
   ]
  },
  {
   "cell_type": "code",
   "execution_count": 6,
   "metadata": {},
   "outputs": [],
   "source": [
    "cifs = np.array(glob.glob(os.path.join(data_d0, '*.cif')))\n",
    "pdbs = np.array(glob.glob(os.path.join(data_d0, '*.pdb')))"
   ]
  },
  {
   "cell_type": "code",
   "execution_count": 7,
   "metadata": {},
   "outputs": [],
   "source": [
    "def parse_multiple_structures(cif_list, pdb_list):\n",
    "    multiple_struct_df = pd.DataFrame()\n",
    "    for cif, pdb in zip(cif_list, pdb_list):\n",
    "        structure = StructureParser(cif, pdb)\n",
    "        structure.parse()\n",
    "        multiple_struct_df = multiple_struct_df.append(structure.structure_df(pdb_id=True))\n",
    "    return multiple_struct_df"
   ]
  },
  {
   "cell_type": "code",
   "execution_count": 8,
   "metadata": {},
   "outputs": [],
   "source": [
    "def sample_files(n_structures, cif_list, pdb_list):\n",
    "    permuted_indexes = np.random.permutation(len(cif_list))\n",
    "    sampled_cifs = cif_list[permuted_indexes][:n_structures]\n",
    "    sampled_pdbs = pdb_list[permuted_indexes][:n_structures]\n",
    "    return sampled_cifs, sampled_pdbs"
   ]
  },
  {
   "cell_type": "code",
   "execution_count": 9,
   "metadata": {},
   "outputs": [],
   "source": [
    "def reduce_mem_usage(df):\n",
    "    start_mem = df.memory_usage().sum() / 1024**2\n",
    "    print('Memory usage of dataframe is {:.2f} MB'.format(start_mem))\n",
    "    \n",
    "    for col in df.columns:\n",
    "        col_type = df[col].dtype\n",
    "\n",
    "        if col_type != object:\n",
    "            c_min = df[col].min()\n",
    "            c_max = df[col].max()\n",
    "            if str(col_type)[:3] == 'int':\n",
    "                if c_min > np.iinfo(np.int8).min and c_max < np.iinfo(np.int8).max:\n",
    "                    df[col] = df[col].astype(np.int8)\n",
    "                elif c_min > np.iinfo(np.int16).min and c_max < np.iinfo(np.int16).max:\n",
    "                    df[col] = df[col].astype(np.int16)\n",
    "                elif c_min > np.iinfo(np.int32).min and c_max < np.iinfo(np.int32).max:\n",
    "                    df[col] = df[col].astype(np.int32)\n",
    "                elif c_min > np.iinfo(np.int64).min and c_max < np.iinfo(np.int64).max:\n",
    "                    df[col] = df[col].astype(np.int64)  \n",
    "            else:\n",
    "                if c_min > np.finfo(np.float16).min and c_max < np.finfo(np.float16).max:\n",
    "                    df[col] = df[col].astype(np.float16)\n",
    "                elif c_min > np.finfo(np.float32).min and c_max < np.finfo(np.float32).max:\n",
    "                    df[col] = df[col].astype(np.float32)\n",
    "                else:\n",
    "                    df[col] = df[col].astype(np.float64)\n",
    "        else:\n",
    "            df[col] = df[col].astype('category')\n",
    "\n",
    "    end_mem = df.memory_usage().sum() / 1024**2\n",
    "    print('Memory usage after optimization is: {:.2f} MB'.format(end_mem))\n",
    "    print('Decreased by {:.1f}%'.format(100 * (start_mem - end_mem) / start_mem))\n",
    "    return df"
   ]
  },
  {
   "cell_type": "markdown",
   "metadata": {},
   "source": [
    "*Set sample size*"
   ]
  },
  {
   "cell_type": "code",
   "execution_count": 10,
   "metadata": {},
   "outputs": [],
   "source": [
    "n_structures_sample = 5"
   ]
  },
  {
   "cell_type": "code",
   "execution_count": 11,
   "metadata": {},
   "outputs": [],
   "source": [
    "cif_sample, pdb_sample = sample_files(n_structures_sample, cifs, pdbs)"
   ]
  },
  {
   "cell_type": "code",
   "execution_count": 12,
   "metadata": {},
   "outputs": [],
   "source": [
    "full_df = parse_multiple_structures(cif_sample, pdb_sample)"
   ]
  },
  {
   "cell_type": "code",
   "execution_count": 13,
   "metadata": {},
   "outputs": [
    {
     "name": "stdout",
     "output_type": "stream",
     "text": [
      "Memory usage of dataframe is 133.37 MB\n",
      "Memory usage after optimization is: 30.22 MB\n",
      "Decreased by 77.3%\n"
     ]
    }
   ],
   "source": [
    "ms_df = reduce_mem_usage(full_df)"
   ]
  },
  {
   "cell_type": "code",
   "execution_count": 14,
   "metadata": {},
   "outputs": [],
   "source": [
    "ms_df['SIGUOBS'] = ms_df['UOBS']*ms_df['SIGFOBS']/ms_df['FOBS']"
   ]
  },
  {
   "cell_type": "code",
   "execution_count": 15,
   "metadata": {},
   "outputs": [
    {
     "data": {
      "text/plain": [
       "(546273, 31)"
      ]
     },
     "execution_count": 15,
     "metadata": {},
     "output_type": "execute_result"
    }
   ],
   "source": [
    "ms_df.shape"
   ]
  },
  {
   "cell_type": "markdown",
   "metadata": {},
   "source": [
    "## Visualization\n",
    "**[&uarr; Return to Contents](#Contents)**"
   ]
  },
  {
   "cell_type": "code",
   "execution_count": 16,
   "metadata": {},
   "outputs": [],
   "source": [
    "dropped_columns = ['pdbx_r_free_flag', 'crystal_system',\n",
    "                   'IT_number', 'name_H-M_alt', 'name_Hall', 'space_group_name_H-M',\n",
    "                   'space_group_name_Hall', 'Int_Tables_number', 'SYNCHROTRON', 'WILSON']"
   ]
  },
  {
   "cell_type": "code",
   "execution_count": 17,
   "metadata": {},
   "outputs": [],
   "source": [
    "ms_df_vis = ms_df.drop(dropped_columns, axis=1)"
   ]
  },
  {
   "cell_type": "code",
   "execution_count": 18,
   "metadata": {},
   "outputs": [],
   "source": [
    "ms_df_vis['COSPHI'] = np.cos(ms_df_vis['PHI']*np.pi/180.0)"
   ]
  },
  {
   "cell_type": "code",
   "execution_count": 19,
   "metadata": {},
   "outputs": [],
   "source": [
    "ms_df_vis['SINPHI'] = np.sin(ms_df_vis['PHI']*np.pi/180.0)"
   ]
  },
  {
   "cell_type": "markdown",
   "metadata": {},
   "source": [
    "###  Histogram"
   ]
  },
  {
   "cell_type": "code",
   "execution_count": 20,
   "metadata": {},
   "outputs": [
    {
     "data": {
      "text/plain": [
       "Index(['index_h', 'index_k', 'index_l', 'FOBS', 'SIGFOBS', 'UOBS', 'SIGUOBS',\n",
       "       'FC', 'PHI', 'FOM', 'RESOL', 'length_a', 'length_b', 'length_c',\n",
       "       'angle_alpha', 'angle_beta', 'angle_gamma', 'volume', 'SOLV',\n",
       "       'MATTHEWS', 'ID', 'COSPHI', 'SINPHI'],\n",
       "      dtype='object')"
      ]
     },
     "execution_count": 20,
     "metadata": {},
     "output_type": "execute_result"
    }
   ],
   "source": [
    "ms_df_vis.columns"
   ]
  },
  {
   "cell_type": "markdown",
   "metadata": {},
   "source": [
    "Dropped $\\alpha$ (```angle_alpha```) because it is the first angle to be determined and follows the convention of being the straight angle (reference here)."
   ]
  },
  {
   "cell_type": "code",
   "execution_count": 21,
   "metadata": {},
   "outputs": [
    {
     "data": {
      "image/png": "[encoded data removed]",
      "text/plain": [
       "<Figure size 1440x864 with 20 Axes>"
      ]
     },
     "metadata": {
      "needs_background": "light"
     },
     "output_type": "display_data"
    }
   ],
   "source": [
    "ms_df_vis.hist(figsize=(20,12), column=['index_h', 'index_k', 'index_l', 'FOBS', 'SIGFOBS', 'UOBS', 'SIGUOBS',\n",
    "       'FC', 'PHI', 'FOM', 'RESOL', 'length_a', 'length_b', 'length_c',\n",
    "       'volume', 'SOLV',\n",
    "       'MATTHEWS', 'COSPHI', 'SINPHI'],\n",
    "        color='steelblue', bins=80, density=True)\n",
    "plt.show()"
   ]
  },
  {
   "cell_type": "markdown",
   "metadata": {},
   "source": [
    "#### Conclusions\n",
    "\n",
    "* Very different data scales (for instance, ```UOBS``` and ```VOLUME```)\n",
    "* ```PHI``` has a very uniform distribution with spikes associated with centrosymmetric reflections. ```COSPHI``` may be better than ```PHI``` because it solves the problem of circular boundary conditions on ```PHI```, altough it is not sufficient to recover the angle (not invertible in $[-\\pi, \\pi]$). In this case, using a softmax layer may be a good idea.\n",
    "* Many distributions are heavy-tailed. Binning may an alternative (*e.g.* classes of resolution quality)."
   ]
  },
  {
   "cell_type": "markdown",
   "metadata": {},
   "source": [
    "### Probing pairwise correlations"
   ]
  },
  {
   "cell_type": "code",
   "execution_count": 22,
   "metadata": {},
   "outputs": [],
   "source": [
    "corr_matrix = ms_df_vis.corr()"
   ]
  },
  {
   "cell_type": "code",
   "execution_count": 23,
   "metadata": {},
   "outputs": [],
   "source": [
    "corr_attribs  = ['UOBS', 'SIGUOBS', 'FOBS', 'COSPHI', 'PHI']"
   ]
  },
  {
   "cell_type": "code",
   "execution_count": 24,
   "metadata": {},
   "outputs": [
    {
     "data": {
      "image/png": "[encoded data removed]",
      "text/plain": [
       "<Figure size 576x576 with 2 Axes>"
      ]
     },
     "metadata": {
      "needs_background": "light"
     },
     "output_type": "display_data"
    }
   ],
   "source": [
    "fig = plt.figure(figsize=(8,8))\n",
    "plt.imshow(corr_matrix.loc[corr_attribs, corr_attribs].values, cmap=plt.cm.gray_r)\n",
    "plt.colorbar(label='Correlation')\n",
    "ax = plt.gca()\n",
    "plt.xticks(np.arange(0, 5), corr_attribs)\n",
    "plt.yticks(np.arange(0, 5), corr_attribs)\n",
    "plt.show()"
   ]
  },
  {
   "cell_type": "code",
   "execution_count": 25,
   "metadata": {},
   "outputs": [],
   "source": [
    "full_attribs = list(corr_matrix.columns)"
   ]
  },
  {
   "cell_type": "code",
   "execution_count": 26,
   "metadata": {},
   "outputs": [
    {
     "data": {
      "image/png": "[encoded data removed]",
      "text/plain": [
       "<Figure size 576x576 with 2 Axes>"
      ]
     },
     "metadata": {
      "needs_background": "light"
     },
     "output_type": "display_data"
    }
   ],
   "source": [
    "fig = plt.figure(figsize=(8,8))\n",
    "plt.imshow(corr_matrix.values, cmap=plt.cm.viridis)\n",
    "plt.colorbar(label='Correlation')\n",
    "ax = plt.gca()\n",
    "plt.xticks(np.arange(len(full_attribs)), full_attribs, rotation='vertical')\n",
    "plt.yticks(np.arange(len(full_attribs)), full_attribs)\n",
    "plt.show()"
   ]
  },
  {
   "cell_type": "markdown",
   "metadata": {},
   "source": [
    "### Probing correlations in 3 dimensions"
   ]
  },
  {
   "cell_type": "code",
   "execution_count": 27,
   "metadata": {},
   "outputs": [],
   "source": [
    "sampling_rate = 200"
   ]
  },
  {
   "cell_type": "code",
   "execution_count": 28,
   "metadata": {},
   "outputs": [],
   "source": [
    "norm = plt.Normalize(vmin=-1, vmax=1)"
   ]
  },
  {
   "cell_type": "code",
   "execution_count": 29,
   "metadata": {},
   "outputs": [],
   "source": [
    "mask = np.logical_and(ms_df_vis['RESOL'][::sampling_rate] < 4, (ms_df_vis['UOBS'][::sampling_rate] < 0.015))"
   ]
  },
  {
   "cell_type": "code",
   "execution_count": 30,
   "metadata": {},
   "outputs": [
    {
     "data": {
      "image/png": "[encoded data removed]",
      "text/plain": [
       "<Figure size 864x576 with 2 Axes>"
      ]
     },
     "metadata": {
      "needs_background": "light"
     },
     "output_type": "display_data"
    }
   ],
   "source": [
    "fig = plt.figure(figsize=(12,8))\n",
    "ax = fig.gca(projection='3d')\n",
    "sc = ax.scatter(ms_df_vis['UOBS'][::sampling_rate][mask], ms_df_vis['SIGUOBS'][::sampling_rate][mask],\n",
    "                ms_df_vis['FOM'][::sampling_rate][mask],\n",
    "                'o',  c=ms_df_vis['COSPHI'][::sampling_rate][mask], \n",
    "                norm=norm, cmap=plt.cm.Reds,  s=4 , alpha=0.8)\n",
    "ax.set_xlabel('UOBS', labelpad=15, fontsize=14)\n",
    "ax.set_ylabel('SIGUOBS',labelpad=15, fontsize=14)\n",
    "ax.set_zlabel('FOM', labelpad=10, fontsize=14)\n",
    "cbar = plt.colorbar(sc, ax=ax, shrink=0.5, label='PHI')\n",
    "cbar.set_label(label='PHI', fontsize=14, labelpad=14, rotation='horizontal')\n",
    "ax.view_init(30, 40)\n",
    "plt.show()\n"
   ]
  },
  {
   "cell_type": "markdown",
   "metadata": {},
   "source": [
    "## Processing and Feature Engineering\n",
    "**[&uarr; Return to Contents](#Contents)**"
   ]
  },
  {
   "cell_type": "code",
   "execution_count": 31,
   "metadata": {},
   "outputs": [],
   "source": [
    "from sklearn.pipeline import Pipeline"
   ]
  },
  {
   "cell_type": "markdown",
   "metadata": {},
   "source": [
    "### Train and Test Sets"
   ]
  },
  {
   "cell_type": "code",
   "execution_count": 32,
   "metadata": {},
   "outputs": [],
   "source": [
    "from sklearn.model_selection import train_test_split"
   ]
  },
  {
   "cell_type": "code",
   "execution_count": 33,
   "metadata": {},
   "outputs": [],
   "source": [
    "base_df = ms_df_vis.copy()"
   ]
  },
  {
   "cell_type": "code",
   "execution_count": 34,
   "metadata": {},
   "outputs": [],
   "source": [
    "train_set, test_set = train_test_split(base_df, test_size=0.2, random_state=42)"
   ]
  },
  {
   "cell_type": "code",
   "execution_count": 35,
   "metadata": {},
   "outputs": [],
   "source": [
    "X_train, y_train = train_set.drop(['COSPHI', 'SINPHI', 'PHI', 'ID', 'FC'], axis=1), train_set['PHI']\n",
    "X_test, y_test = test_set.drop(['COSPHI', 'SINPHI', 'PHI', 'ID', 'FC'], axis=1), test_set['PHI']"
   ]
  },
  {
   "cell_type": "markdown",
   "metadata": {},
   "source": [
    "#### Processing indexes"
   ]
  },
  {
   "cell_type": "code",
   "execution_count": 36,
   "metadata": {},
   "outputs": [],
   "source": [
    "from sklearn.base import BaseEstimator, TransformerMixin"
   ]
  },
  {
   "cell_type": "code",
   "execution_count": 37,
   "metadata": {},
   "outputs": [],
   "source": [
    "class MillerIndexesEncoder(BaseEstimator, TransformerMixin):\n",
    "    \n",
    "    def __init__(self, encoding='planar',\n",
    "                 indexes=['index_h', 'index_k', 'index_l'],\n",
    "                 axes=['length_a', 'length_b', 'length_c'], \n",
    "                 angles=['THETA', 'VARPHI']):\n",
    "        self.encoding = encoding\n",
    "        self.indexes = indexes\n",
    "        self.axes = axes\n",
    "        self.angles = angles\n",
    "        \n",
    "    def _planar_enc(self, X, y=None):\n",
    "        temp_df = X.copy()\n",
    "        other_df = X.copy()\n",
    "        for index, ax in zip(self.indexes, self.axes):\n",
    "            plane_name = 'plane_'+ index[-1]\n",
    "            temp_df.loc[X[index] == 0, index] = np.inf\n",
    "            other_df[plane_name] = temp_df[ax]/temp_df[index]\n",
    "        return other_df\n",
    "        \n",
    "    def _angular_enc(self, X, y=None):\n",
    "        temp_df = X.copy()\n",
    "        h, k, l = X['index_h'].astype(np.int64), X['index_k'].astype(np.int64), X['index_l'].astype(np.int64)\n",
    "        temp_df[self.angles[0]] = np.arctan2(X['index_k'], X['index_h']) * 180.0/np.pi\n",
    "        temp_df[self.angles[1]] = np.arccos(X['index_l']/np.sqrt(h**2+k**2+l**2)) * 180.0/np.pi\n",
    "        return temp_df\n",
    "    \n",
    "    def fit(self, X, y=None):\n",
    "        return self\n",
    "    \n",
    "    def transform(self, X):\n",
    "        if self.encoding == 'planar':\n",
    "            return self._planar_enc(X)\n",
    "        \n",
    "        if self.encoding == 'angular':\n",
    "            return self._angular_enc(X)\n",
    "        \n",
    "        if self.encoding == 'both':\n",
    "            temp = self._planar_enc(X)\n",
    "            return self._angular_enc(temp)\n",
    "        "
   ]
  },
  {
   "cell_type": "markdown",
   "metadata": {},
   "source": [
    "#### Preparing Labels"
   ]
  },
  {
   "cell_type": "code",
   "execution_count": 38,
   "metadata": {},
   "outputs": [],
   "source": [
    "from sklearn.preprocessing import MinMaxScaler"
   ]
  },
  {
   "cell_type": "code",
   "execution_count": 39,
   "metadata": {},
   "outputs": [],
   "source": [
    "class AngleEncoder(BaseEstimator, TransformerMixin):\n",
    "    \n",
    "    def __init__(self, encoding='sin_cos', interval=(-1,1)):\n",
    "        self.encoding = encoding\n",
    "        self.interval = interval\n",
    "        \n",
    "    def _sin_cos_encoding(self, X):\n",
    "        X_rad = X.copy()*np.pi/180.0\n",
    "        return (np.cos(X_rad), np.sin(X_rad))\n",
    "    \n",
    "    def _linearly_scaled_encoding(self, X):\n",
    "        scaler = MinMaxScaler(self.interval)\n",
    "        X_scaled = scaler.fit_transform(X.reshape(-1,1)).flatten()\n",
    "        return X_scaled\n",
    "\n",
    "    def fit(self, X, y=None):\n",
    "        return self\n",
    "    \n",
    "    def transform(self, X, y=None):\n",
    "        if self.encoding == 'sin_cos':\n",
    "            return self._sin_cos_encoding(X)\n",
    "        \n",
    "        if self.encoding == 'linearly_scaled':\n",
    "            return self._linearly_scaled_encoding(X)"
   ]
  },
  {
   "cell_type": "markdown",
   "metadata": {},
   "source": [
    "#### Processing Pipeline"
   ]
  },
  {
   "cell_type": "code",
   "execution_count": 40,
   "metadata": {},
   "outputs": [],
   "source": [
    "from sklearn.preprocessing import RobustScaler, StandardScaler"
   ]
  },
  {
   "cell_type": "code",
   "execution_count": 41,
   "metadata": {},
   "outputs": [],
   "source": [
    "features_processing_pipeline = Pipeline([\n",
    "    ('miller_indexes_encoder', MillerIndexesEncoder(encoding='both')),\n",
    "    ('scaling', StandardScaler())\n",
    "])"
   ]
  },
  {
   "cell_type": "code",
   "execution_count": 42,
   "metadata": {},
   "outputs": [],
   "source": [
    "labels_processing_pipeline = Pipeline([\n",
    "    ('angle_encoder', AngleEncoder(encoding='linearly_scaled', interval=(-1,1)))\n",
    "])"
   ]
  },
  {
   "cell_type": "markdown",
   "metadata": {},
   "source": [
    "## Models, Cross-Validation and Tuning\n",
    "**[&uarr; Return to Contents](#Contents)**"
   ]
  },
  {
   "cell_type": "code",
   "execution_count": 43,
   "metadata": {},
   "outputs": [],
   "source": [
    "vis_sampling = 1000"
   ]
  },
  {
   "cell_type": "markdown",
   "metadata": {},
   "source": [
    "#### Feature Selection"
   ]
  },
  {
   "cell_type": "code",
   "execution_count": 44,
   "metadata": {},
   "outputs": [],
   "source": [
    "class SelectKTopFeatures(BaseEstimator, TransformerMixin):\n",
    "    \n",
    "    def __init__(self, feature_importances=None, k=5):\n",
    "        self.k = k \n",
    "        self.feature_importances = feature_importances\n",
    "        \n",
    "    def fit(self, X, y=None):\n",
    "        return self\n",
    "    \n",
    "    def transform(self, X, y=None):\n",
    "        sorting_indexes = np.argsort(self.feature_importances)[::-1]\n",
    "        X_k_features = X[:, sorting_indexes[:self.k]]\n",
    "        return X_k_features\n",
    "        "
   ]
  },
  {
   "cell_type": "markdown",
   "metadata": {},
   "source": [
    "#### Feature Drop"
   ]
  },
  {
   "cell_type": "code",
   "execution_count": 45,
   "metadata": {},
   "outputs": [],
   "source": [
    "class DropFeatures(BaseEstimator, TransformerMixin):\n",
    "    \n",
    "    def __init__(self, features_to_drop=['index_h', 'index_k', 'index_l']):\n",
    "        self.features_to_drop = features_to_drop\n",
    "        \n",
    "    def fit(self, X, y=None):\n",
    "        return self\n",
    "    \n",
    "    def transform(self, X, y=None):\n",
    "        X_new = X.drop(self.features_to_drop, axis=1)\n",
    "        return X_new\n",
    "        "
   ]
  },
  {
   "cell_type": "markdown",
   "metadata": {},
   "source": [
    "### XGBoost"
   ]
  },
  {
   "cell_type": "code",
   "execution_count": 46,
   "metadata": {},
   "outputs": [],
   "source": [
    "import xgboost as xgb\n",
    "from sklearn.model_selection import RandomizedSearchCV, GridSearchCV"
   ]
  },
  {
   "cell_type": "markdown",
   "metadata": {},
   "source": [
    "##### Cross-Validation"
   ]
  },
  {
   "cell_type": "code",
   "execution_count": 78,
   "metadata": {},
   "outputs": [],
   "source": [
    "xgb_pipeline = Pipeline([\n",
    "    ('miller_indexes_encoder', MillerIndexesEncoder(encoding='both')),\n",
    "    ('droper', DropFeatures()),\n",
    "    ('feature_scaling', StandardScaler()),\n",
    "    ('xgb', xgb.sklearn.XGBRegressor())\n",
    "])"
   ]
  },
  {
   "cell_type": "code",
   "execution_count": 79,
   "metadata": {},
   "outputs": [],
   "source": [
    "param_grid_xgb = [  \n",
    "    {\n",
    "        'miller_indexes_encoder__encoding':['both'], \n",
    "        'feature_scaling':[RobustScaler()], \n",
    "        'xgb__min_child_weight':[0.5],\n",
    "        'xgb__max_depth':[20],\n",
    "        'xgb__n_estimators':[100],\n",
    "        'xgb__alpha':[10],\n",
    "    }\n",
    "]"
   ]
  },
  {
   "cell_type": "code",
   "execution_count": 80,
   "metadata": {},
   "outputs": [],
   "source": [
    "xgb_rcv = GridSearchCV(xgb_pipeline, param_grid_xgb, n_jobs=-1, cv=3,\n",
    "                            scoring='neg_mean_squared_error')"
   ]
  },
  {
   "cell_type": "code",
   "execution_count": 81,
   "metadata": {},
   "outputs": [
    {
     "name": "stdout",
     "output_type": "stream",
     "text": [
      "[10:24:48] WARNING: C:/Jenkins/workspace/xgboost-win64_release_0.90/src/objective/regression_obj.cu:152: reg:linear is now deprecated in favor of reg:squarederror.\n"
     ]
    },
    {
     "data": {
      "text/plain": [
       "GridSearchCV(cv=3, error_score=nan,\n",
       "             estimator=Pipeline(memory=None,\n",
       "                                steps=[('miller_indexes_encoder',\n",
       "                                        MillerIndexesEncoder(angles=['THETA',\n",
       "                                                                     'VARPHI'],\n",
       "                                                             axes=['length_a',\n",
       "                                                                   'length_b',\n",
       "                                                                   'length_c'],\n",
       "                                                             encoding='both',\n",
       "                                                             indexes=['index_h',\n",
       "                                                                      'index_k',\n",
       "                                                                      'index_l'])),\n",
       "                                       ('droper',\n",
       "                                        DropFeatures(features_to_drop=['index_h',\n",
       "                                                                       'index_k',\n",
       "                                                                       'index_l'])),\n",
       "                                       ('feature_scaling',\n",
       "                                        StandardScaler...\n",
       "             param_grid=[{'feature_scaling': [RobustScaler(copy=True,\n",
       "                                                           quantile_range=(25.0,\n",
       "                                                                           75.0),\n",
       "                                                           with_centering=True,\n",
       "                                                           with_scaling=True)],\n",
       "                          'miller_indexes_encoder__encoding': ['both'],\n",
       "                          'xgb__alpha': [10], 'xgb__max_depth': [20],\n",
       "                          'xgb__min_child_weight': [0.5],\n",
       "                          'xgb__n_estimators': [100]}],\n",
       "             pre_dispatch='2*n_jobs', refit=True, return_train_score=False,\n",
       "             scoring='neg_mean_squared_error', verbose=0)"
      ]
     },
     "execution_count": 81,
     "metadata": {},
     "output_type": "execute_result"
    }
   ],
   "source": [
    "xgb_rcv.fit(X_train, y_train)"
   ]
  },
  {
   "cell_type": "code",
   "execution_count": 83,
   "metadata": {},
   "outputs": [
    {
     "data": {
      "text/plain": [
       "XGBRegressor(alpha=10, base_score=0.5, booster='gbtree', colsample_bylevel=1,\n",
       "             colsample_bynode=1, colsample_bytree=1, gamma=0,\n",
       "             importance_type='gain', learning_rate=0.1, max_delta_step=0,\n",
       "             max_depth=20, min_child_weight=0.5, missing=None, n_estimators=100,\n",
       "             n_jobs=1, nthread=None, objective='reg:linear', random_state=0,\n",
       "             reg_alpha=0, reg_lambda=1, scale_pos_weight=1, seed=None,\n",
       "             silent=None, subsample=1, verbosity=1)"
      ]
     },
     "execution_count": 83,
     "metadata": {},
     "output_type": "execute_result"
    }
   ],
   "source": [
    "xgb_rcv.best_estimator_.named_steps.xgb"
   ]
  },
  {
   "cell_type": "code",
   "execution_count": 71,
   "metadata": {},
   "outputs": [
    {
     "ename": "NameError",
     "evalue": "name 'xgb_rcv' is not defined",
     "output_type": "error",
     "traceback": [
      "\u001b[1;31m---------------------------------------------------------------------------\u001b[0m",
      "\u001b[1;31mNameError\u001b[0m                                 Traceback (most recent call last)",
      "\u001b[1;32m<ipython-input-71-8f3bec07a3f6>\u001b[0m in \u001b[0;36m<module>\u001b[1;34m\u001b[0m\n\u001b[1;32m----> 1\u001b[1;33m \u001b[0mpredictions\u001b[0m \u001b[1;33m=\u001b[0m \u001b[0mxgb_rcv\u001b[0m\u001b[1;33m.\u001b[0m\u001b[0mpredict\u001b[0m\u001b[1;33m(\u001b[0m\u001b[0mX_test\u001b[0m\u001b[1;33m)\u001b[0m\u001b[1;33m\u001b[0m\u001b[1;33m\u001b[0m\u001b[0m\n\u001b[0m",
      "\u001b[1;31mNameError\u001b[0m: name 'xgb_rcv' is not defined"
     ]
    }
   ],
   "source": [
    "predictions = xgb_rcv.predict(X_test)"
   ]
  },
  {
   "cell_type": "code",
   "execution_count": null,
   "metadata": {},
   "outputs": [],
   "source": [
    "plt.plot(predictions[::vis_sampling],  'o', markersize=4, color='mediumvioletred')\n",
    "plt.plot(y_train[::vis_sampling].values, 'o',color='forestgreen')\n",
    "plt.show()"
   ]
  },
  {
   "cell_type": "markdown",
   "metadata": {},
   "source": [
    "*Save your results!*\n",
    "\n",
    "```python\n",
    "from joblib import dump\n",
    "dump(model, filename)\n",
    "```"
   ]
  },
  {
   "cell_type": "code",
   "execution_count": 86,
   "metadata": {},
   "outputs": [],
   "source": [
    "from joblib import dump"
   ]
  },
  {
   "cell_type": "markdown",
   "metadata": {},
   "source": [
    "**Feature importances**"
   ]
  },
  {
   "cell_type": "code",
   "execution_count": 88,
   "metadata": {},
   "outputs": [],
   "source": [
    "from xgboost import plot_importance"
   ]
  },
  {
   "cell_type": "code",
   "execution_count": 89,
   "metadata": {},
   "outputs": [
    {
     "data": {
      "text/plain": [
       "XGBRegressor(alpha=10, base_score=0.5, booster='gbtree', colsample_bylevel=1,\n",
       "             colsample_bynode=1, colsample_bytree=1, gamma=0,\n",
       "             importance_type='gain', learning_rate=0.1, max_delta_step=0,\n",
       "             max_depth=20, min_child_weight=0.5, missing=None, n_estimators=100,\n",
       "             n_jobs=1, nthread=None, objective='reg:linear', random_state=0,\n",
       "             reg_alpha=0, reg_lambda=1, scale_pos_weight=1, seed=None,\n",
       "             silent=None, subsample=1, verbosity=1)"
      ]
     },
     "execution_count": 89,
     "metadata": {},
     "output_type": "execute_result"
    }
   ],
   "source": [
    "xgb_rcv.best_estimator_.named_steps.xgb"
   ]
  },
  {
   "cell_type": "code",
   "execution_count": 90,
   "metadata": {},
   "outputs": [],
   "source": [
    "xgb_rcb_bes_fi = xgb_rcv.best_estimator_.named_steps.xgb.feature_importances_"
   ]
  },
  {
   "cell_type": "code",
   "execution_count": 91,
   "metadata": {},
   "outputs": [],
   "source": [
    "x_coord = range(0, len(xgb_rcb_bes_fi))"
   ]
  },
  {
   "cell_type": "code",
   "execution_count": 92,
   "metadata": {},
   "outputs": [
    {
     "data": {
      "image/png": "[encoded data removed]",
      "text/plain": [
       "<Figure size 432x288 with 1 Axes>"
      ]
     },
     "metadata": {
      "needs_background": "light"
     },
     "output_type": "display_data"
    }
   ],
   "source": [
    "plt.bar(x_coord,xgb_rcb_bes_fi, color='steelblue', )\n",
    "plt.show()"
   ]
  },
  {
   "cell_type": "markdown",
   "metadata": {},
   "source": [
    "##### Using feature selection"
   ]
  },
  {
   "cell_type": "code",
   "execution_count": 121,
   "metadata": {},
   "outputs": [],
   "source": [
    "xgb_pipeline_feature_selection = Pipeline([\n",
    "    ('miller_indexes_encoder', MillerIndexesEncoder(encoding='both')),\n",
    "    ('droper', DropFeatures()),\n",
    "    ('feature_scaling', StandardScaler()),\n",
    "    ('feature_selection', SelectKTopFeatures()),\n",
    "    ('xgb', xgb.sklearn.XGBRegressor())\n",
    "])"
   ]
  },
  {
   "cell_type": "code",
   "execution_count": 122,
   "metadata": {},
   "outputs": [],
   "source": [
    "param_grid_xgb_fs = [  \n",
    "    {\n",
    "        'miller_indexes_encoder__encoding':['both'],\n",
    "        'feature_scaling':[RobustScaler()], \n",
    "        'feature_selection__k':[15, 10, 5],\n",
    "        'feature_selection__feature_importances':[xgb_rcb_bes_fi],\n",
    "        'xgb__min_child_weight':[0.5],\n",
    "        'xgb__max_depth':[20],\n",
    "        'xgb__n_estimators':[80],\n",
    "        'xgb__alpha':[10],\n",
    "    }\n",
    "]"
   ]
  },
  {
   "cell_type": "code",
   "execution_count": 123,
   "metadata": {},
   "outputs": [],
   "source": [
    "xgb_rcv_feature_selection = GridSearchCV(xgb_pipeline_feature_selection, param_grid_xgb_fs, cv=3,\n",
    "                                               scoring='neg_mean_squared_error', n_jobs=-1)"
   ]
  },
  {
   "cell_type": "code",
   "execution_count": 124,
   "metadata": {},
   "outputs": [
    {
     "name": "stdout",
     "output_type": "stream",
     "text": [
      "[10:49:01] WARNING: C:/Jenkins/workspace/xgboost-win64_release_0.90/src/objective/regression_obj.cu:152: reg:linear is now deprecated in favor of reg:squarederror.\n"
     ]
    },
    {
     "data": {
      "text/plain": [
       "GridSearchCV(cv=3, error_score=nan,\n",
       "             estimator=Pipeline(memory=None,\n",
       "                                steps=[('miller_indexes_encoder',\n",
       "                                        MillerIndexesEncoder(angles=['THETA',\n",
       "                                                                     'VARPHI'],\n",
       "                                                             axes=['length_a',\n",
       "                                                                   'length_b',\n",
       "                                                                   'length_c'],\n",
       "                                                             encoding='both',\n",
       "                                                             indexes=['index_h',\n",
       "                                                                      'index_k',\n",
       "                                                                      'index_l'])),\n",
       "                                       ('droper',\n",
       "                                        DropFeatures(features_to_drop=['index_h',\n",
       "                                                                       'index_k',\n",
       "                                                                       'index_l'])),\n",
       "                                       ('feature_scaling',\n",
       "                                        StandardScaler...\n",
       "       0.        , 0.        , 0.10089538, 0.15709169, 0.        ,\n",
       "       0.0381563 , 0.04019614, 0.05622673, 0.05284693, 0.05721734],\n",
       "      dtype=float32)],\n",
       "                          'feature_selection__k': [15, 10, 5],\n",
       "                          'miller_indexes_encoder__encoding': ['both'],\n",
       "                          'xgb__alpha': [10], 'xgb__max_depth': [20],\n",
       "                          'xgb__min_child_weight': [0.5],\n",
       "                          'xgb__n_estimators': [80]}],\n",
       "             pre_dispatch='2*n_jobs', refit=True, return_train_score=False,\n",
       "             scoring='neg_mean_squared_error', verbose=0)"
      ]
     },
     "execution_count": 124,
     "metadata": {},
     "output_type": "execute_result"
    }
   ],
   "source": [
    "xgb_rcv_feature_selection.fit(X_train, y_train)"
   ]
  },
  {
   "cell_type": "code",
   "execution_count": 129,
   "metadata": {},
   "outputs": [
    {
     "data": {
      "text/plain": [
       "SelectKTopFeatures(feature_importances=array([0.02112637, 0.0370331 , 0.04672682, 0.05195872, 0.05030775,\n",
       "       0.05307007, 0.10664017, 0.05229441, 0.07821207, 0.        ,\n",
       "       0.        , 0.        , 0.10089538, 0.15709169, 0.        ,\n",
       "       0.0381563 , 0.04019614, 0.05622673, 0.05284693, 0.05721734],\n",
       "      dtype=float32),\n",
       "                   k=5)"
      ]
     },
     "execution_count": 129,
     "metadata": {},
     "output_type": "execute_result"
    }
   ],
   "source": [
    "xgb_rcv_feature_selection.best_estimator_.named_steps.feature_selection"
   ]
  },
  {
   "cell_type": "code",
   "execution_count": 130,
   "metadata": {},
   "outputs": [
    {
     "data": {
      "text/plain": [
       "XGBRegressor(alpha=10, base_score=0.5, booster='gbtree', colsample_bylevel=1,\n",
       "             colsample_bynode=1, colsample_bytree=1, gamma=0,\n",
       "             importance_type='gain', learning_rate=0.1, max_delta_step=0,\n",
       "             max_depth=20, min_child_weight=0.5, missing=None, n_estimators=80,\n",
       "             n_jobs=1, nthread=None, objective='reg:linear', random_state=0,\n",
       "             reg_alpha=0, reg_lambda=1, scale_pos_weight=1, seed=None,\n",
       "             silent=None, subsample=1, verbosity=1)"
      ]
     },
     "execution_count": 130,
     "metadata": {},
     "output_type": "execute_result"
    }
   ],
   "source": [
    "xgb_rcv_feature_selection.best_estimator_.named_steps.xgb"
   ]
  },
  {
   "cell_type": "code",
   "execution_count": 133,
   "metadata": {},
   "outputs": [],
   "source": [
    "predictions_xgb_fs = xgb_rcv_feature_selection.predict(X_test)"
   ]
  },
  {
   "cell_type": "code",
   "execution_count": 134,
   "metadata": {},
   "outputs": [
    {
     "data": {
      "image/png": "[encoded data removed]",
      "text/plain": [
       "<Figure size 432x288 with 1 Axes>"
      ]
     },
     "metadata": {
      "needs_background": "light"
     },
     "output_type": "display_data"
    }
   ],
   "source": [
    "plt.plot(predictions_xgb_fs[::vis_sampling],  'o', markersize=4, color='mediumvioletred')\n",
    "plt.plot(y_test.values[::vis_sampling], 'o',color='forestgreen')\n",
    "plt.show()"
   ]
  },
  {
   "cell_type": "markdown",
   "metadata": {},
   "source": [
    "###  Deep Neural Network (linearly scaled)\n",
    "\n",
    "Using TensorFlow low-level API to train a Feed-Forward Network. "
   ]
  },
  {
   "cell_type": "code",
   "execution_count": 47,
   "metadata": {},
   "outputs": [],
   "source": [
    "import tensorflow as tf\n",
    "from tensorflow.contrib.layers import fully_connected"
   ]
  },
  {
   "cell_type": "markdown",
   "metadata": {},
   "source": [
    "#### Data Prep"
   ]
  },
  {
   "cell_type": "code",
   "execution_count": 48,
   "metadata": {},
   "outputs": [
    {
     "data": {
      "text/plain": [
       "Index(['index_h', 'index_k', 'index_l', 'FOBS', 'SIGFOBS', 'UOBS', 'SIGUOBS',\n",
       "       'FOM', 'RESOL', 'length_a', 'length_b', 'length_c', 'angle_alpha',\n",
       "       'angle_beta', 'angle_gamma', 'volume', 'SOLV', 'MATTHEWS'],\n",
       "      dtype='object')"
      ]
     },
     "execution_count": 48,
     "metadata": {},
     "output_type": "execute_result"
    }
   ],
   "source": [
    "X_train.columns"
   ]
  },
  {
   "cell_type": "code",
   "execution_count": 49,
   "metadata": {},
   "outputs": [],
   "source": [
    "nn1_features_processing = features_processing_pipeline.set_params(miller_indexes_encoder__encoding='both')"
   ]
  },
  {
   "cell_type": "code",
   "execution_count": 50,
   "metadata": {},
   "outputs": [
    {
     "data": {
      "text/plain": [
       "Pipeline(memory=None,\n",
       "         steps=[('miller_indexes_encoder',\n",
       "                 MillerIndexesEncoder(angles=['THETA', 'VARPHI'],\n",
       "                                      axes=['length_a', 'length_b', 'length_c'],\n",
       "                                      encoding='both',\n",
       "                                      indexes=['index_h', 'index_k',\n",
       "                                               'index_l'])),\n",
       "                ('scaling',\n",
       "                 StandardScaler(copy=True, with_mean=True, with_std=True))],\n",
       "         verbose=False)"
      ]
     },
     "execution_count": 50,
     "metadata": {},
     "output_type": "execute_result"
    }
   ],
   "source": [
    "nn1_features_processing"
   ]
  },
  {
   "cell_type": "code",
   "execution_count": 51,
   "metadata": {},
   "outputs": [],
   "source": [
    "nn1_labels_processing = labels_processing_pipeline.set_params(angle_encoder__encoding='linearly_scaled', angle_encoder__interval=(-1, 1))"
   ]
  },
  {
   "cell_type": "code",
   "execution_count": 52,
   "metadata": {},
   "outputs": [],
   "source": [
    "X_train_dnn = nn1_features_processing.fit_transform(X_train)"
   ]
  },
  {
   "cell_type": "code",
   "execution_count": 53,
   "metadata": {},
   "outputs": [],
   "source": [
    "y_train_dnn = nn1_labels_processing.fit_transform(y_train.values)"
   ]
  },
  {
   "cell_type": "code",
   "execution_count": 54,
   "metadata": {},
   "outputs": [],
   "source": [
    "def batch_generator(X, y, epoch, batch_index, batch_size):\n",
    "    np.random.seed(epoch*batch_size+batch_index)\n",
    "    indexes = np.random.randint(m, size=batch_size)\n",
    "    X_shuffled, y_shuffled = X[indexes], y[indexes]\n",
    "    return X_shuffled, y_shuffled    "
   ]
  },
  {
   "cell_type": "markdown",
   "metadata": {},
   "source": [
    "#### Building"
   ]
  },
  {
   "cell_type": "code",
   "execution_count": 285,
   "metadata": {},
   "outputs": [],
   "source": [
    "tf.reset_default_graph()"
   ]
  },
  {
   "cell_type": "code",
   "execution_count": 289,
   "metadata": {},
   "outputs": [],
   "source": [
    "n_hidden1 = 300\n",
    "n_hidden2 = 50"
   ]
  },
  {
   "cell_type": "code",
   "execution_count": 290,
   "metadata": {},
   "outputs": [],
   "source": [
    "m, input_length = X_train_dnn.shape"
   ]
  },
  {
   "cell_type": "code",
   "execution_count": 291,
   "metadata": {},
   "outputs": [],
   "source": [
    "n_outputs=1"
   ]
  },
  {
   "cell_type": "code",
   "execution_count": 292,
   "metadata": {},
   "outputs": [],
   "source": [
    "with tf.name_scope('placeholders'):\n",
    "    X = tf.placeholder(tf.float32, shape=(None, input_length), name='X')\n",
    "    y = tf.placeholder(tf.float32, shape=(None), name='y')"
   ]
  },
  {
   "cell_type": "code",
   "execution_count": 293,
   "metadata": {},
   "outputs": [],
   "source": [
    "with tf.name_scope('dnn'):\n",
    "    hidden1 = fully_connected(X, n_hidden1, scope='hidden1')\n",
    "    hidden2 = fully_connected(hidden1, n_hidden2, scope='hidden2')\n",
    "    logits = fully_connected(hidden2, n_outputs, activation_fn=None, scope='outputs')"
   ]
  },
  {
   "cell_type": "code",
   "execution_count": 294,
   "metadata": {},
   "outputs": [],
   "source": [
    "with tf.name_scope('loss'):\n",
    "    squared_error = tf.square(logits-y)\n",
    "    loss = tf.reduce_mean(squared_error)"
   ]
  },
  {
   "cell_type": "code",
   "execution_count": 295,
   "metadata": {},
   "outputs": [],
   "source": [
    "with tf.name_scope('train'):\n",
    "    optimizer = tf.train.GradientDescentOptimizer(learning_rate=1e-4)\n",
    "    training_op = optimizer.minimize(loss)"
   ]
  },
  {
   "cell_type": "code",
   "execution_count": 296,
   "metadata": {},
   "outputs": [],
   "source": [
    "with tf.name_scope('eval'):\n",
    "    sqrt_mse = tf.sqrt(loss)"
   ]
  },
  {
   "cell_type": "code",
   "execution_count": 297,
   "metadata": {},
   "outputs": [],
   "source": [
    "init = tf.global_variables_initializer()\n",
    "saver = tf.train.Saver()"
   ]
  },
  {
   "cell_type": "markdown",
   "metadata": {},
   "source": [
    "#### Training"
   ]
  },
  {
   "cell_type": "code",
   "execution_count": 321,
   "metadata": {},
   "outputs": [],
   "source": [
    "n_epochs = 100\n",
    "batch_size = 10"
   ]
  },
  {
   "cell_type": "code",
   "execution_count": 322,
   "metadata": {},
   "outputs": [
    {
     "name": "stdout",
     "output_type": "stream",
     "text": [
      "0 Train score: 0.41949365\n",
      "1 Train score: 0.63103914\n",
      "2 Train score: 0.535211\n",
      "3 Train score: 0.64401877\n",
      "4 Train score: 0.52907413\n",
      "5 Train score: 0.66414475\n",
      "6 Train score: 0.526579\n",
      "7 Train score: 0.59388316\n",
      "8 Train score: 0.47337055\n",
      "9 Train score: 0.3917284\n",
      "10 Train score: 0.78152186\n",
      "11 Train score: 0.5734853\n",
      "12 Train score: 0.4716894\n",
      "13 Train score: 0.5263984\n",
      "14 Train score: 0.579983\n",
      "15 Train score: 0.54263955\n",
      "16 Train score: 0.58145154\n",
      "17 Train score: 0.51919305\n",
      "18 Train score: 0.5711692\n",
      "19 Train score: 0.5698716\n",
      "20 Train score: 0.7060082\n",
      "21 Train score: 0.63062835\n",
      "22 Train score: 0.58133924\n",
      "23 Train score: 0.5787062\n",
      "24 Train score: 0.6092714\n",
      "25 Train score: 0.5371424\n",
      "26 Train score: 0.64416003\n",
      "27 Train score: 0.5786001\n",
      "28 Train score: 0.5861145\n",
      "29 Train score: 0.54354006\n",
      "30 Train score: 0.7039621\n",
      "31 Train score: 0.5473635\n",
      "32 Train score: 0.30940226\n",
      "33 Train score: 0.6148241\n",
      "34 Train score: 0.4523444\n",
      "35 Train score: 0.56400776\n",
      "36 Train score: 0.4629919\n",
      "37 Train score: 0.5652242\n",
      "38 Train score: 0.65054816\n",
      "39 Train score: 0.6854585\n",
      "40 Train score: 0.54293185\n",
      "41 Train score: 0.6371731\n",
      "42 Train score: 0.48439577\n",
      "43 Train score: 0.6727193\n",
      "44 Train score: 0.611425\n",
      "45 Train score: 0.45659453\n",
      "46 Train score: 0.7065598\n",
      "47 Train score: 0.47337016\n",
      "48 Train score: 0.6162925\n",
      "49 Train score: 0.6746276\n",
      "50 Train score: 0.72219276\n",
      "51 Train score: 0.5333766\n",
      "52 Train score: 0.5978853\n",
      "53 Train score: 0.43026263\n",
      "54 Train score: 0.38666436\n",
      "55 Train score: 0.5506145\n",
      "56 Train score: 0.71426094\n",
      "57 Train score: 0.67524654\n",
      "58 Train score: 0.54012024\n",
      "59 Train score: 0.5778485\n",
      "60 Train score: 0.59967095\n",
      "61 Train score: 0.49364164\n",
      "62 Train score: 0.38240543\n",
      "63 Train score: 0.55752903\n",
      "64 Train score: 0.6341568\n",
      "65 Train score: 0.66616195\n",
      "66 Train score: 0.6108748\n",
      "67 Train score: 0.55480146\n",
      "68 Train score: 0.5276231\n",
      "69 Train score: 0.7730259\n",
      "70 Train score: 0.6285992\n",
      "71 Train score: 0.64847475\n",
      "72 Train score: 0.42356983\n",
      "73 Train score: 0.66265893\n",
      "74 Train score: 0.7870944\n",
      "75 Train score: 0.5571792\n",
      "76 Train score: 0.5787579\n",
      "77 Train score: 0.6088704\n",
      "78 Train score: 0.5828196\n",
      "79 Train score: 0.56763804\n",
      "80 Train score: 0.5825643\n",
      "81 Train score: 0.5363274\n",
      "82 Train score: 0.5641421\n",
      "83 Train score: 0.6597896\n",
      "84 Train score: 0.6240539\n",
      "85 Train score: 0.6008037\n",
      "86 Train score: 0.39489284\n",
      "87 Train score: 0.6996659\n",
      "88 Train score: 0.5445177\n",
      "89 Train score: 0.5030516\n",
      "90 Train score: 0.625882\n",
      "91 Train score: 0.4775911\n",
      "92 Train score: 0.6047392\n",
      "93 Train score: 0.4033822\n",
      "94 Train score: 0.6770307\n",
      "95 Train score: 0.6162973\n",
      "96 Train score: 0.7692686\n",
      "97 Train score: 0.7191166\n",
      "98 Train score: 0.7721188\n",
      "99 Train score: 0.6411322\n"
     ]
    }
   ],
   "source": [
    "with tf.Session() as sess:\n",
    "    init.run()\n",
    "    for epoch in range(n_epochs):\n",
    "        for iteration in range(m//batch_size):\n",
    "            X_batch, y_batch = batch_generator(X_train_dnn, y_train_dnn, epoch, iteration, batch_size)\n",
    "            sess.run(training_op, feed_dict={X: X_batch, y: y_batch})\n",
    "        train_score = sqrt_mse.eval(feed_dict={X: X_batch, y: y_batch})\n",
    "        print(epoch, 'Train score:', train_score)\n",
    "    save_path = saver.save(sess, './dnn_lin_scaled.ckpt')"
   ]
  },
  {
   "cell_type": "code",
   "execution_count": 323,
   "metadata": {},
   "outputs": [
    {
     "name": "stdout",
     "output_type": "stream",
     "text": [
      "INFO:tensorflow:Restoring parameters from ./dnn_lin_scaled.ckpt\n"
     ]
    }
   ],
   "source": [
    "with tf.Session() as sess:\n",
    "    saver.restore(sess, './dnn_lin_scaled.ckpt')\n",
    "    predictions = logits.eval(feed_dict={X: X_train_dnn, y: y_train_dnn})"
   ]
  },
  {
   "cell_type": "code",
   "execution_count": 327,
   "metadata": {},
   "outputs": [],
   "source": [
    "instance_index = list(range(y_train_dnn.shape[0]))"
   ]
  },
  {
   "cell_type": "code",
   "execution_count": 328,
   "metadata": {},
   "outputs": [],
   "source": [
    "vis_sample = 1500"
   ]
  },
  {
   "cell_type": "code",
   "execution_count": 329,
   "metadata": {},
   "outputs": [
    {
     "data": {
      "image/png": "[encoded data removed]",
      "text/plain": [
       "<Figure size 864x432 with 1 Axes>"
      ]
     },
     "metadata": {
      "needs_background": "light"
     },
     "output_type": "display_data"
    }
   ],
   "source": [
    "plt.plot(instance_index[::vis_sample], predictions[::vis_sample], 'o', markersize=8, alpha=0.7, color='k', mfc='mediumvioletred', label='RFR Model')\n",
    "plt.plot(instance_index[::vis_sample], y_train_dnn[::vis_sample], 'o', markersize=4, alpha=0.9, color='forestgreen', label='Data')\n",
    "plt.xlabel('Reflection Index', fontsize=12)\n",
    "plt.legend(fontsize=12, loc=1)\n",
    "plt.show()"
   ]
  },
  {
   "cell_type": "markdown",
   "metadata": {},
   "source": [
    "### Deep Neural Network (angular loss)"
   ]
  },
  {
   "cell_type": "code",
   "execution_count": 55,
   "metadata": {},
   "outputs": [],
   "source": [
    "tf.reset_default_graph()"
   ]
  },
  {
   "cell_type": "code",
   "execution_count": 56,
   "metadata": {},
   "outputs": [],
   "source": [
    "n_hidden1 = 300\n",
    "n_hidden2 = 100"
   ]
  },
  {
   "cell_type": "code",
   "execution_count": 57,
   "metadata": {},
   "outputs": [],
   "source": [
    "m, input_length = X_train_dnn.shape"
   ]
  },
  {
   "cell_type": "code",
   "execution_count": 58,
   "metadata": {},
   "outputs": [],
   "source": [
    "n_outputs=1"
   ]
  },
  {
   "cell_type": "code",
   "execution_count": 59,
   "metadata": {},
   "outputs": [],
   "source": [
    "with tf.name_scope('placeholders'):\n",
    "    X = tf.placeholder(tf.float32, shape=(None, input_length), name='X')\n",
    "    y = tf.placeholder(tf.float32, shape=(None), name='y')"
   ]
  },
  {
   "cell_type": "code",
   "execution_count": 60,
   "metadata": {},
   "outputs": [
    {
     "name": "stdout",
     "output_type": "stream",
     "text": [
      "WARNING:tensorflow:From C:\\Users\\Otto\\Anaconda3\\lib\\site-packages\\tensorflow_core\\contrib\\layers\\python\\layers\\layers.py:1866: Layer.apply (from tensorflow.python.keras.engine.base_layer) is deprecated and will be removed in a future version.\n",
      "Instructions for updating:\n",
      "Please use `layer.__call__` method instead.\n"
     ]
    }
   ],
   "source": [
    "with tf.name_scope('dnn'):\n",
    "    hidden1 = fully_connected(X, n_hidden1, scope='hidden1')\n",
    "    hidden2 = fully_connected(hidden1, n_hidden2, scope='hidden2')\n",
    "    logits = fully_connected(hidden2, n_outputs, activation_fn=None, scope='outputs')"
   ]
  },
  {
   "cell_type": "code",
   "execution_count": 61,
   "metadata": {},
   "outputs": [],
   "source": [
    "with tf.name_scope('loss'):\n",
    "    ang_loss = 2*(1-tf.cos(logits-y*np.pi))\n",
    "    loss = tf.reduce_mean(ang_loss)"
   ]
  },
  {
   "cell_type": "code",
   "execution_count": 62,
   "metadata": {},
   "outputs": [
    {
     "name": "stdout",
     "output_type": "stream",
     "text": [
      "WARNING:tensorflow:From C:\\Users\\Otto\\Anaconda3\\lib\\site-packages\\tensorflow_core\\python\\training\\adagrad.py:76: calling Constant.__init__ (from tensorflow.python.ops.init_ops) with dtype is deprecated and will be removed in a future version.\n",
      "Instructions for updating:\n",
      "Call initializer instance with the dtype argument instead of passing it to the constructor\n"
     ]
    }
   ],
   "source": [
    "with tf.name_scope('train'):\n",
    "    optimizer = tf.train.AdagradOptimizer(learning_rate=1e-2)\n",
    "    training_op = optimizer.minimize(loss)"
   ]
  },
  {
   "cell_type": "code",
   "execution_count": 63,
   "metadata": {},
   "outputs": [],
   "source": [
    "with tf.name_scope('eval'):\n",
    "    sqrt_mse = tf.sqrt(loss)"
   ]
  },
  {
   "cell_type": "code",
   "execution_count": 64,
   "metadata": {},
   "outputs": [],
   "source": [
    "init = tf.global_variables_initializer()\n",
    "saver = tf.train.Saver()"
   ]
  },
  {
   "cell_type": "markdown",
   "metadata": {},
   "source": [
    "#### Training"
   ]
  },
  {
   "cell_type": "code",
   "execution_count": 65,
   "metadata": {},
   "outputs": [],
   "source": [
    "n_epochs = 200\n",
    "batch_size = 50"
   ]
  },
  {
   "cell_type": "code",
   "execution_count": 66,
   "metadata": {},
   "outputs": [
    {
     "name": "stdout",
     "output_type": "stream",
     "text": [
      "0 Train score: 1.3979685\n",
      "1 Train score: 1.3771684\n",
      "2 Train score: 1.4486086\n",
      "3 Train score: 1.4084762\n",
      "4 Train score: 1.4047309\n",
      "5 Train score: 1.3827984\n",
      "6 Train score: 1.3710457\n",
      "7 Train score: 1.3675677\n",
      "8 Train score: 1.3774\n",
      "9 Train score: 1.3657542\n",
      "10 Train score: 1.3802922\n",
      "11 Train score: 1.4772935\n",
      "12 Train score: 1.3652284\n",
      "13 Train score: 1.3755506\n",
      "14 Train score: 1.4533124\n",
      "15 Train score: 1.4482737\n",
      "16 Train score: 1.4760029\n",
      "17 Train score: 1.4187659\n",
      "18 Train score: 1.3972211\n",
      "19 Train score: 1.471006\n",
      "20 Train score: 1.4182304\n",
      "21 Train score: 1.3899572\n",
      "22 Train score: 1.4018711\n",
      "23 Train score: 1.4370224\n",
      "24 Train score: 1.3871504\n",
      "25 Train score: 1.3898149\n",
      "26 Train score: 1.3891919\n",
      "27 Train score: 1.4015868\n",
      "28 Train score: 1.4037776\n",
      "29 Train score: 1.4060479\n",
      "30 Train score: 1.457839\n",
      "31 Train score: 1.4092596\n",
      "32 Train score: 1.4953835\n",
      "33 Train score: 1.4846212\n",
      "34 Train score: 1.4154204\n",
      "35 Train score: 1.3571575\n",
      "36 Train score: 1.4328617\n",
      "37 Train score: 1.4484428\n",
      "38 Train score: 1.3365905\n",
      "39 Train score: 1.4215226\n",
      "40 Train score: 1.429604\n",
      "41 Train score: 1.4055068\n",
      "42 Train score: 1.4416513\n",
      "43 Train score: 1.4270107\n",
      "44 Train score: 1.4389647\n",
      "45 Train score: 1.3937241\n",
      "46 Train score: 1.4059384\n",
      "47 Train score: 1.3899941\n",
      "48 Train score: 1.4571923\n",
      "49 Train score: 1.4035242\n",
      "50 Train score: 1.4037756\n",
      "51 Train score: 1.3992795\n",
      "52 Train score: 1.4213209\n",
      "53 Train score: 1.3933762\n",
      "54 Train score: 1.3611163\n",
      "55 Train score: 1.3986598\n",
      "56 Train score: 1.4024698\n",
      "57 Train score: 1.3990989\n",
      "58 Train score: 1.413212\n",
      "59 Train score: 1.4090891\n",
      "60 Train score: 1.4275842\n",
      "61 Train score: 1.4199516\n",
      "62 Train score: 1.3974383\n",
      "63 Train score: 1.4649287\n",
      "64 Train score: 1.4359002\n",
      "65 Train score: 1.4036237\n",
      "66 Train score: 1.3936052\n",
      "67 Train score: 1.3874334\n",
      "68 Train score: 1.4409823\n",
      "69 Train score: 1.3731999\n",
      "70 Train score: 1.4265835\n",
      "71 Train score: 1.3954079\n",
      "72 Train score: 1.4199945\n",
      "73 Train score: 1.39143\n",
      "74 Train score: 1.3900915\n",
      "75 Train score: 1.4270416\n",
      "76 Train score: 1.413635\n",
      "77 Train score: 1.4384779\n",
      "78 Train score: 1.4272448\n",
      "79 Train score: 1.428746\n",
      "80 Train score: 1.4048014\n",
      "81 Train score: 1.3935453\n",
      "82 Train score: 1.4383612\n",
      "83 Train score: 1.4240547\n",
      "84 Train score: 1.4590429\n",
      "85 Train score: 1.4474602\n",
      "86 Train score: 1.4169388\n",
      "87 Train score: 1.4407161\n",
      "88 Train score: 1.4479336\n",
      "89 Train score: 1.4017892\n",
      "90 Train score: 1.4063938\n",
      "91 Train score: 1.4423743\n",
      "92 Train score: 1.4563761\n",
      "93 Train score: 1.402551\n",
      "94 Train score: 1.4352537\n",
      "95 Train score: 1.422631\n",
      "96 Train score: 1.4172167\n",
      "97 Train score: 1.4250998\n",
      "98 Train score: 1.4008706\n",
      "99 Train score: 1.4071352\n",
      "100 Train score: 1.419931\n",
      "101 Train score: 1.4209133\n",
      "102 Train score: 1.405853\n",
      "103 Train score: 1.3738167\n",
      "104 Train score: 1.4581155\n",
      "105 Train score: 1.4218997\n",
      "106 Train score: 1.4348718\n",
      "107 Train score: 1.4378406\n",
      "108 Train score: 1.4237435\n",
      "109 Train score: 1.4053181\n",
      "110 Train score: 1.4843345\n",
      "111 Train score: 1.4034896\n",
      "112 Train score: 1.4234476\n",
      "113 Train score: 1.4273492\n",
      "114 Train score: 1.4017664\n",
      "115 Train score: 1.3945993\n",
      "116 Train score: 1.4228774\n",
      "117 Train score: 1.3800895\n",
      "118 Train score: 1.4285105\n",
      "119 Train score: 1.4229896\n",
      "120 Train score: 1.4066973\n",
      "121 Train score: 1.4297593\n",
      "122 Train score: 1.4363515\n",
      "123 Train score: 1.3866565\n",
      "124 Train score: 1.394066\n",
      "125 Train score: 1.4147224\n",
      "126 Train score: 1.3831347\n",
      "127 Train score: 1.4680848\n",
      "128 Train score: 1.4135915\n",
      "129 Train score: 1.3874784\n",
      "130 Train score: 1.430502\n",
      "131 Train score: 1.4087018\n",
      "132 Train score: 1.4416126\n",
      "133 Train score: 1.4832851\n",
      "134 Train score: 1.4172072\n",
      "135 Train score: 1.4301254\n",
      "136 Train score: 1.4096047\n",
      "137 Train score: 1.421531\n",
      "138 Train score: 1.4117835\n",
      "139 Train score: 1.430248\n",
      "140 Train score: 1.4118506\n",
      "141 Train score: 1.3895665\n",
      "142 Train score: 1.4303541\n",
      "143 Train score: 1.422142\n",
      "144 Train score: 1.4320595\n",
      "145 Train score: 1.409633\n",
      "146 Train score: 1.4268122\n",
      "147 Train score: 1.4135876\n",
      "148 Train score: 1.413906\n",
      "149 Train score: 1.4140543\n",
      "150 Train score: 1.4174093\n",
      "151 Train score: 1.3813369\n",
      "152 Train score: 1.4111701\n",
      "153 Train score: 1.4474262\n",
      "154 Train score: 1.4347463\n",
      "155 Train score: 1.4447479\n",
      "156 Train score: 1.422444\n",
      "157 Train score: 1.4228973\n",
      "158 Train score: 1.4072021\n",
      "159 Train score: 1.4341156\n",
      "160 Train score: 1.3734236\n",
      "161 Train score: 1.405399\n",
      "162 Train score: 1.3739243\n",
      "163 Train score: 1.3880115\n",
      "164 Train score: 1.4096613\n",
      "165 Train score: 1.4235991\n",
      "166 Train score: 1.4143018\n",
      "167 Train score: 1.4176965\n",
      "168 Train score: 1.3960068\n",
      "169 Train score: 1.4170352\n",
      "170 Train score: 1.408175\n",
      "171 Train score: 1.4162786\n",
      "172 Train score: 1.41723\n",
      "173 Train score: 1.4171981\n",
      "174 Train score: 1.4099178\n",
      "175 Train score: 1.4017042\n",
      "176 Train score: 1.404054\n",
      "177 Train score: 1.4074885\n",
      "178 Train score: 1.4028596\n",
      "179 Train score: 1.3693339\n",
      "180 Train score: 1.4218004\n",
      "181 Train score: 1.404747\n",
      "182 Train score: 1.4127898\n",
      "183 Train score: 1.3967023\n",
      "184 Train score: 1.4380773\n",
      "185 Train score: 1.3992304\n",
      "186 Train score: 1.3711462\n",
      "187 Train score: 1.4114376\n",
      "188 Train score: 1.3753837\n",
      "189 Train score: 1.4124697\n",
      "190 Train score: 1.4410604\n",
      "191 Train score: 1.4130138\n",
      "192 Train score: 1.413637\n",
      "193 Train score: 1.3863192\n",
      "194 Train score: 1.4073691\n",
      "195 Train score: 1.4224722\n",
      "196 Train score: 1.3867007\n",
      "197 Train score: 1.4324988\n",
      "198 Train score: 1.4543418\n",
      "199 Train score: 1.4305301\n"
     ]
    }
   ],
   "source": [
    "with tf.Session() as sess:\n",
    "    init.run()\n",
    "    for epoch in range(n_epochs):\n",
    "        for iteration in range(m//batch_size):\n",
    "            X_batch, y_batch = batch_generator(X_train_dnn, y_train.values/180.0, epoch, iteration, batch_size)\n",
    "            sess.run(training_op, feed_dict={X: X_batch, y: y_batch})\n",
    "        train_score = sqrt_mse.eval(feed_dict={X: X_batch, y: y_batch})\n",
    "        print(epoch, 'Train score:', train_score)\n",
    "    save_path = saver.save(sess, './dnn_angular_loss.ckpt')"
   ]
  },
  {
   "cell_type": "code",
   "execution_count": 72,
   "metadata": {},
   "outputs": [
    {
     "name": "stdout",
     "output_type": "stream",
     "text": [
      "INFO:tensorflow:Restoring parameters from ./dnn_angular_loss.ckpt\n"
     ]
    }
   ],
   "source": [
    "with tf.Session() as sess:\n",
    "    saver.restore(sess, './dnn_angular_loss.ckpt')\n",
    "    predictions = logits.eval(feed_dict={X: X_train_dnn, y: y_train/180.0})"
   ]
  },
  {
   "cell_type": "code",
   "execution_count": 73,
   "metadata": {},
   "outputs": [],
   "source": [
    "instance_index = list(range(y_train_dnn.shape[0]))"
   ]
  },
  {
   "cell_type": "code",
   "execution_count": 74,
   "metadata": {},
   "outputs": [],
   "source": [
    "vis_sample = 1800"
   ]
  },
  {
   "cell_type": "code",
   "execution_count": 75,
   "metadata": {},
   "outputs": [
    {
     "data": {
      "image/png": "[encoded data removed]",
      "text/plain": [
       "<Figure size 864x432 with 1 Axes>"
      ]
     },
     "metadata": {
      "needs_background": "light"
     },
     "output_type": "display_data"
    }
   ],
   "source": [
    "fig = plt.figure(figsize=(12,6))\n",
    "plt.plot(instance_index[::vis_sample], predictions[::vis_sample], 'o', markersize=8, alpha=0.7, color='k', mfc='mediumvioletred', label='DNN Model (angular loss)')\n",
    "plt.plot(instance_index[::vis_sample], y_train[::vis_sample]/180.0, 'o', markersize=4, alpha=0.9, color='forestgreen', label='Data')\n",
    "plt.xlabel('Reflection Index', fontsize=12)\n",
    "plt.legend(fontsize=12, loc=1)\n",
    "plt.show()"
   ]
  },
  {
   "cell_type": "markdown",
   "metadata": {},
   "source": [
    "### Random Regressor (with aproximate distribution inferred from histogram)"
   ]
  },
  {
   "cell_type": "code",
   "execution_count": 513,
   "metadata": {},
   "outputs": [],
   "source": [
    "from sklearn.base import BaseEstimator"
   ]
  },
  {
   "cell_type": "code",
   "execution_count": 514,
   "metadata": {},
   "outputs": [],
   "source": [
    "class RandomPhasesRegressor(BaseEstimator):\n",
    "    \n",
    "    def __init__(self):\n",
    "        self.bins_midpoints = None\n",
    "        self.cdf = None\n",
    "        \n",
    "    def fit(self, X, bins='sqrt'):\n",
    "        hist, bins = np.histogram(X, bins=bins)\n",
    "        self.bins_midpoints = bins[:-1] + np.diff(bins)/2.0\n",
    "        cdf = np.cumsum(hist)\n",
    "        self.cdf = cdf/cdf[-1]\n",
    "        return None \n",
    "    \n",
    "    def predict(self, X):\n",
    "        m = len(X)\n",
    "        values = np.random.rand(m)\n",
    "        value_bins = np.searchsorted(self.cdf, values)\n",
    "        sample_from_cdf = self.bins_midpoints[value_bins]\n",
    "        return sample_from_cdf     "
   ]
  },
  {
   "cell_type": "code",
   "execution_count": 515,
   "metadata": {},
   "outputs": [],
   "source": [
    "rpr = RandomPhasesRegressor()"
   ]
  },
  {
   "cell_type": "code",
   "execution_count": 520,
   "metadata": {},
   "outputs": [],
   "source": [
    "rpr.fit(y_train.astype(np.float64),bins='sqrt')"
   ]
  },
  {
   "cell_type": "code",
   "execution_count": 521,
   "metadata": {},
   "outputs": [],
   "source": [
    "a = rpr.predict(X_train.astype(np.float64))"
   ]
  },
  {
   "cell_type": "code",
   "execution_count": 522,
   "metadata": {},
   "outputs": [],
   "source": [
    "from sklearn.metrics import mean_squared_error"
   ]
  },
  {
   "cell_type": "code",
   "execution_count": 527,
   "metadata": {},
   "outputs": [
    {
     "data": {
      "image/png": "[encoded data removed]",
      "text/plain": [
       "<Figure size 432x288 with 1 Axes>"
      ]
     },
     "metadata": {
      "needs_background": "light"
     },
     "output_type": "display_data"
    }
   ],
   "source": [
    "plt.plot(y_train[::vis_sample].values, 'o', color='mediumvioletred', markersize=4)\n",
    "plt.plot(a[::vis_sample], 'o', color='forestgreen',\n",
    "         markersize=6)\n",
    "plt.show()"
   ]
  },
  {
   "cell_type": "code",
   "execution_count": 530,
   "metadata": {},
   "outputs": [
    {
     "data": {
      "text/plain": [
       "147.90999078135664"
      ]
     },
     "execution_count": 530,
     "metadata": {},
     "output_type": "execute_result"
    }
   ],
   "source": [
    "np.sqrt(mean_squared_error(y_train, a))"
   ]
  },
  {
   "cell_type": "markdown",
   "metadata": {},
   "source": [
    "## Model Evaluation\n",
    "\n",
    "[**&uarr; Return to Contents**](#Contents)"
   ]
  },
  {
   "cell_type": "code",
   "execution_count": null,
   "metadata": {},
   "outputs": [],
   "source": []
  }
 ],
 "metadata": {
  "kernelspec": {
   "display_name": "Python 3",
   "language": "python",
   "name": "python3"
  },
  "language_info": {
   "codemirror_mode": {
    "name": "ipython",
    "version": 3
   },
   "file_extension": ".py",
   "mimetype": "text/x-python",
   "name": "python",
   "nbconvert_exporter": "python",
   "pygments_lexer": "ipython3",
   "version": "3.7.7"
  }
 },
 "nbformat": 4,
 "nbformat_minor": 4
}
