{
 "cells": [
  {
   "cell_type": "markdown",
   "metadata": {},
   "source": [
    "# Preprocessing and Models Exploration\n",
    "\n",
    "New models using unitary structure factor, its estimated error and symmetry expansion."
   ]
  },
  {
   "cell_type": "code",
   "execution_count": 1,
   "metadata": {},
   "outputs": [],
   "source": [
    "from xtalphases.data.preprocess import *\n",
    "from xtalphases import __userpath__ as user_path"
   ]
  },
  {
   "cell_type": "code",
   "execution_count": 2,
   "metadata": {},
   "outputs": [],
   "source": [
    "import numpy as np\n",
    "import matplotlib.pyplot as plt\n",
    "import pandas"
   ]
  },
  {
   "cell_type": "code",
   "execution_count": 3,
   "metadata": {},
   "outputs": [],
   "source": [
    "a = CIFParser(filename='F:/ic-exp-uobs/dens-0/1p27_exp_uobs.cif')"
   ]
  },
  {
   "cell_type": "code",
   "execution_count": 7,
   "metadata": {},
   "outputs": [],
   "source": [
    "import glob "
   ]
  },
  {
   "cell_type": "code",
   "execution_count": 9,
   "metadata": {},
   "outputs": [],
   "source": [
    "pdbs = glob.glob('F:/ic-exp-uobs/dens-035/*.pdb')"
   ]
  },
  {
   "cell_type": "code",
   "execution_count": 113,
   "metadata": {},
   "outputs": [],
   "source": [
    "cifs = glob.glob('F:/ic-exp-uobs/dens-035/*.cif')"
   ]
  },
  {
   "cell_type": "code",
   "execution_count": 114,
   "metadata": {},
   "outputs": [],
   "source": [
    "mw_data = user_path + '/exploration/data/pdb/mw-ext.xlsx'"
   ]
  },
  {
   "cell_type": "code",
   "execution_count": 115,
   "metadata": {},
   "outputs": [],
   "source": [
    "mwext = mw_ext_parse(mw_data)"
   ]
  },
  {
   "cell_type": "code",
   "execution_count": 116,
   "metadata": {},
   "outputs": [],
   "source": [
    "def big_df(pdbs, cifs, pdbheadercols, cifheadercols, phierror=True):\n",
    "    big_df = pd.DataFrame()\n",
    "    for (pdb, cif) in zip(pdbs, cifs):\n",
    "        pdbparser = PDBParser(pdb)\n",
    "        pdbparser.parse()\n",
    "        pdbheader_series = pdbparser.header_to_series(columns=pdbheadercols)\n",
    "        \n",
    "        cifparser = CIFParser(cif)\n",
    "        cifparser.parse()\n",
    "        if phierror:\n",
    "            cif_df = cifparser.header_refln_df(headercols=cifheader_cols, phierror=True)\n",
    "        else:\n",
    "            cif_df = cifparser.header_refln_df(headercols=cifheader_cols)\n",
    "        cifpdb = cifpdb_df(cif_df, pdbheader_series)\n",
    "        mw_sample = mwext[mwext['ID'] == cifparser.get_pdb_name().upper()].iloc[0,1]\n",
    "        cifpdb['MW'] = [mw_sample]*len(cifpdb)\n",
    "        cifpdb['ID'] = [cifparser.get_pdb_name()]*len(cifpdb)\n",
    "        big_df = pd.concat([big_df, cifpdb])\n",
    "    return big_df"
   ]
  },
  {
   "cell_type": "code",
   "execution_count": 117,
   "metadata": {},
   "outputs": [],
   "source": [
    "cifheader_cols = ['crystal_system', 'name_H-M_alt', 'length_a', \n",
    "                  'length_b', 'length_c', 'angle_alpha',\n",
    "                  'angle_beta', 'angle_gamma', 'volume']"
   ]
  },
  {
   "cell_type": "code",
   "execution_count": 118,
   "metadata": {},
   "outputs": [],
   "source": [
    "pdbheader_cols = ['SYNCHROTRON', 'WILSON', 'MATTHEWS', 'SOLV']"
   ]
  },
  {
   "cell_type": "code",
   "execution_count": 119,
   "metadata": {},
   "outputs": [],
   "source": [
    "sample_df = big_df(pdbs[:5], cifs[:5], pdbheader_cols,\n",
    "                   cifheader_cols,\n",
    "                   phierror=True)"
   ]
  },
  {
   "cell_type": "code",
   "execution_count": 120,
   "metadata": {},
   "outputs": [
    {
     "data": {
      "text/plain": [
       "(689629, 28)"
      ]
     },
     "execution_count": 120,
     "metadata": {},
     "output_type": "execute_result"
    }
   ],
   "source": [
    "sample_df.shape"
   ]
  },
  {
   "cell_type": "code",
   "execution_count": 123,
   "metadata": {},
   "outputs": [],
   "source": [
    "sample_df['SIGUOBS'] = sample_df['SIGFOBS']/sample_df['FOBS'] * sample_df['UOBS']"
   ]
  },
  {
   "cell_type": "code",
   "execution_count": 131,
   "metadata": {},
   "outputs": [
    {
     "data": {
      "text/plain": [
       "1fb5    298254\n",
       "1ckq    174306\n",
       "1lmq    126461\n",
       "1g7g     72676\n",
       "1faa     17932\n",
       "Name: ID, dtype: int64"
      ]
     },
     "execution_count": 131,
     "metadata": {},
     "output_type": "execute_result"
    }
   ],
   "source": [
    "sample_df['ID'].value_counts()"
   ]
  },
  {
   "cell_type": "code",
   "execution_count": 132,
   "metadata": {},
   "outputs": [
    {
     "data": {
      "text/plain": [
       "NULL    298254\n",
       "2.84    174306\n",
       "3.21    126461\n",
       "2.78     72676\n",
       "2.05     17932\n",
       "Name: MATTHEWS, dtype: int64"
      ]
     },
     "execution_count": 132,
     "metadata": {},
     "output_type": "execute_result"
    }
   ],
   "source": [
    "sample_df['MATTHEWS'].value_counts()"
   ]
  },
  {
   "cell_type": "code",
   "execution_count": 133,
   "metadata": {},
   "outputs": [],
   "source": [
    "sample_df.drop(['SYNCHROTRON', 'WILSON'], axis=1, inplace=True)"
   ]
  },
  {
   "cell_type": "code",
   "execution_count": 134,
   "metadata": {},
   "outputs": [
    {
     "data": {
      "text/plain": [
       "Index(['index_h', 'index_k', 'index_l', 'FOBS', 'SIGFOBS', 'UOBS', 'SIGUOBS',\n",
       "       'FC', 'PHI', 'FOM', 'RESOL', 'pdbx_r_free_flag', 'crystal_system',\n",
       "       'name_H-M_alt', 'length_a', 'length_b', 'length_c', 'angle_alpha',\n",
       "       'angle_beta', 'angle_gamma', 'volume', 'PHI_ERROR', 'MATTHEWS', 'SOLV',\n",
       "       'MW', 'ID'],\n",
       "      dtype='object')"
      ]
     },
     "execution_count": 134,
     "metadata": {},
     "output_type": "execute_result"
    }
   ],
   "source": [
    "sample_df.columns"
   ]
  },
  {
   "cell_type": "code",
   "execution_count": null,
   "metadata": {},
   "outputs": [],
   "source": []
  },
  {
   "cell_type": "code",
   "execution_count": 35,
   "metadata": {},
   "outputs": [],
   "source": [
    "from sklearn.model_selection import StratifiedShuffleSplit"
   ]
  },
  {
   "cell_type": "code",
   "execution_count": 43,
   "metadata": {},
   "outputs": [],
   "source": [
    "from sklearn.preprocessing import LabelEncoder"
   ]
  },
  {
   "cell_type": "code",
   "execution_count": 45,
   "metadata": {},
   "outputs": [],
   "source": [
    "encoder = LabelEncoder()"
   ]
  },
  {
   "cell_type": "code",
   "execution_count": 135,
   "metadata": {},
   "outputs": [],
   "source": [
    "cs_cat = sample_df['crystal_system']"
   ]
  },
  {
   "cell_type": "code",
   "execution_count": 136,
   "metadata": {},
   "outputs": [],
   "source": [
    "cs_cat_enc = encoder.fit_transform(cs_cat)"
   ]
  },
  {
   "cell_type": "code",
   "execution_count": 137,
   "metadata": {},
   "outputs": [],
   "source": [
    "sample_df['cs_enc'] = cs_cat_enc"
   ]
  },
  {
   "cell_type": "code",
   "execution_count": null,
   "metadata": {},
   "outputs": [],
   "source": []
  },
  {
   "cell_type": "code",
   "execution_count": 138,
   "metadata": {},
   "outputs": [],
   "source": [
    "split = StratifiedShuffleSplit(n_splits=1, random_state=42, test_size=0.2)"
   ]
  },
  {
   "cell_type": "code",
   "execution_count": 139,
   "metadata": {},
   "outputs": [],
   "source": [
    "for train_index, test_index in split.split(sample_df, sample_df['cs_enc']):\n",
    "    train_set = sample_df.iloc[train_index]\n",
    "    test_set = sample_df.iloc[test_index]\n",
    "    "
   ]
  },
  {
   "cell_type": "code",
   "execution_count": null,
   "metadata": {},
   "outputs": [],
   "source": []
  },
  {
   "cell_type": "code",
   "execution_count": null,
   "metadata": {},
   "outputs": [],
   "source": []
  },
  {
   "cell_type": "code",
   "execution_count": 140,
   "metadata": {},
   "outputs": [],
   "source": [
    "crystal = train_set.drop(['PHI'], axis=1)"
   ]
  },
  {
   "cell_type": "code",
   "execution_count": 141,
   "metadata": {},
   "outputs": [],
   "source": [
    "phases = train_set['PHI']"
   ]
  },
  {
   "cell_type": "code",
   "execution_count": 143,
   "metadata": {},
   "outputs": [
    {
     "data": {
      "text/plain": [
       "Index(['index_h', 'index_k', 'index_l', 'FOBS', 'SIGFOBS', 'UOBS', 'SIGUOBS',\n",
       "       'FC', 'FOM', 'RESOL', 'pdbx_r_free_flag', 'crystal_system',\n",
       "       'name_H-M_alt', 'length_a', 'length_b', 'length_c', 'angle_alpha',\n",
       "       'angle_beta', 'angle_gamma', 'volume', 'PHI_ERROR', 'MATTHEWS', 'SOLV',\n",
       "       'MW', 'ID', 'cs_enc'],\n",
       "      dtype='object')"
      ]
     },
     "execution_count": 143,
     "metadata": {},
     "output_type": "execute_result"
    }
   ],
   "source": [
    "crystal.columns"
   ]
  },
  {
   "cell_type": "code",
   "execution_count": 144,
   "metadata": {},
   "outputs": [],
   "source": [
    "crystal.drop(['FC', 'pdbx_r_free_flag', 'FOM'], axis=1, inplace=True)"
   ]
  },
  {
   "cell_type": "code",
   "execution_count": 145,
   "metadata": {},
   "outputs": [],
   "source": [
    "crystal.drop(['crystal_system', 'name_H-M_alt'], axis=1, inplace=True)"
   ]
  },
  {
   "cell_type": "code",
   "execution_count": 177,
   "metadata": {},
   "outputs": [],
   "source": [
    "crystal[crystal['MATTHEWS'] == 'NULL'] = 0.0"
   ]
  },
  {
   "cell_type": "code",
   "execution_count": 162,
   "metadata": {},
   "outputs": [],
   "source": [
    "crystal.drop(['ID'], axis=1, inplace=True)"
   ]
  },
  {
   "cell_type": "code",
   "execution_count": 163,
   "metadata": {},
   "outputs": [
    {
     "data": {
      "text/html": [
       "<div>\n",
       "<style scoped>\n",
       "    .dataframe tbody tr th:only-of-type {\n",
       "        vertical-align: middle;\n",
       "    }\n",
       "\n",
       "    .dataframe tbody tr th {\n",
       "        vertical-align: top;\n",
       "    }\n",
       "\n",
       "    .dataframe thead th {\n",
       "        text-align: right;\n",
       "    }\n",
       "</style>\n",
       "<table border=\"1\" class=\"dataframe\">\n",
       "  <thead>\n",
       "    <tr style=\"text-align: right;\">\n",
       "      <th></th>\n",
       "      <th>index_h</th>\n",
       "      <th>index_k</th>\n",
       "      <th>index_l</th>\n",
       "      <th>FOBS</th>\n",
       "      <th>SIGFOBS</th>\n",
       "      <th>UOBS</th>\n",
       "      <th>SIGUOBS</th>\n",
       "      <th>RESOL</th>\n",
       "      <th>volume</th>\n",
       "      <th>PHI_ERROR</th>\n",
       "      <th>MATTHEWS</th>\n",
       "      <th>SOLV</th>\n",
       "      <th>MW</th>\n",
       "      <th>cs_enc</th>\n",
       "      <th>False</th>\n",
       "    </tr>\n",
       "  </thead>\n",
       "  <tbody>\n",
       "    <tr>\n",
       "      <th>103159</th>\n",
       "      <td>9</td>\n",
       "      <td>-37</td>\n",
       "      <td>5</td>\n",
       "      <td>233.73400</td>\n",
       "      <td>3.82056</td>\n",
       "      <td>0.002399</td>\n",
       "      <td>0.000039</td>\n",
       "      <td>2.92370</td>\n",
       "      <td>597406.960</td>\n",
       "      <td>15.991204</td>\n",
       "      <td>2.84</td>\n",
       "      <td>58.0</td>\n",
       "      <td>34937.77</td>\n",
       "      <td>0</td>\n",
       "      <td>0.0</td>\n",
       "    </tr>\n",
       "    <tr>\n",
       "      <th>43516</th>\n",
       "      <td>-21</td>\n",
       "      <td>40</td>\n",
       "      <td>15</td>\n",
       "      <td>2.35643</td>\n",
       "      <td>52.69840</td>\n",
       "      <td>0.000045</td>\n",
       "      <td>0.001009</td>\n",
       "      <td>2.19897</td>\n",
       "      <td>597406.960</td>\n",
       "      <td>88.128244</td>\n",
       "      <td>2.84</td>\n",
       "      <td>58.0</td>\n",
       "      <td>34937.77</td>\n",
       "      <td>0</td>\n",
       "      <td>0.0</td>\n",
       "    </tr>\n",
       "    <tr>\n",
       "      <th>136</th>\n",
       "      <td>-60</td>\n",
       "      <td>36</td>\n",
       "      <td>3</td>\n",
       "      <td>70.19360</td>\n",
       "      <td>7.30353</td>\n",
       "      <td>0.002014</td>\n",
       "      <td>0.000210</td>\n",
       "      <td>1.94189</td>\n",
       "      <td>597406.960</td>\n",
       "      <td>13.513473</td>\n",
       "      <td>2.84</td>\n",
       "      <td>58.0</td>\n",
       "      <td>34937.77</td>\n",
       "      <td>0</td>\n",
       "      <td>0.0</td>\n",
       "    </tr>\n",
       "    <tr>\n",
       "      <th>247804</th>\n",
       "      <td>25</td>\n",
       "      <td>27</td>\n",
       "      <td>7</td>\n",
       "      <td>652.13600</td>\n",
       "      <td>19.51030</td>\n",
       "      <td>0.000505</td>\n",
       "      <td>0.000015</td>\n",
       "      <td>4.93103</td>\n",
       "      <td>6300872.111</td>\n",
       "      <td>17.110327</td>\n",
       "      <td>NULL</td>\n",
       "      <td>0.0</td>\n",
       "      <td>36005.36</td>\n",
       "      <td>0</td>\n",
       "      <td>0.0</td>\n",
       "    </tr>\n",
       "    <tr>\n",
       "      <th>110055</th>\n",
       "      <td>12</td>\n",
       "      <td>-16</td>\n",
       "      <td>24</td>\n",
       "      <td>75.13610</td>\n",
       "      <td>8.54020</td>\n",
       "      <td>0.002015</td>\n",
       "      <td>0.000229</td>\n",
       "      <td>1.97861</td>\n",
       "      <td>597406.960</td>\n",
       "      <td>16.628169</td>\n",
       "      <td>2.84</td>\n",
       "      <td>58.0</td>\n",
       "      <td>34937.77</td>\n",
       "      <td>0</td>\n",
       "      <td>0.0</td>\n",
       "    </tr>\n",
       "  </tbody>\n",
       "</table>\n",
       "</div>"
      ],
      "text/plain": [
       "        index_h  index_k  index_l       FOBS   SIGFOBS      UOBS   SIGUOBS  \\\n",
       "103159        9      -37        5  233.73400   3.82056  0.002399  0.000039   \n",
       "43516       -21       40       15    2.35643  52.69840  0.000045  0.001009   \n",
       "136         -60       36        3   70.19360   7.30353  0.002014  0.000210   \n",
       "247804       25       27        7  652.13600  19.51030  0.000505  0.000015   \n",
       "110055       12      -16       24   75.13610   8.54020  0.002015  0.000229   \n",
       "\n",
       "          RESOL       volume  PHI_ERROR MATTHEWS  SOLV        MW  cs_enc  \\\n",
       "103159  2.92370   597406.960  15.991204     2.84  58.0  34937.77       0   \n",
       "43516   2.19897   597406.960  88.128244     2.84  58.0  34937.77       0   \n",
       "136     1.94189   597406.960  13.513473     2.84  58.0  34937.77       0   \n",
       "247804  4.93103  6300872.111  17.110327     NULL   0.0  36005.36       0   \n",
       "110055  1.97861   597406.960  16.628169     2.84  58.0  34937.77       0   \n",
       "\n",
       "        False  \n",
       "103159    0.0  \n",
       "43516     0.0  \n",
       "136       0.0  \n",
       "247804    0.0  \n",
       "110055    0.0  "
      ]
     },
     "execution_count": 163,
     "metadata": {},
     "output_type": "execute_result"
    }
   ],
   "source": [
    "crystal.head()"
   ]
  },
  {
   "cell_type": "code",
   "execution_count": 164,
   "metadata": {},
   "outputs": [
    {
     "ename": "KeyError",
     "evalue": "\"['angle_alpha' 'angle_beta' 'angle_gamma' 'length_a' 'length_b' 'length_c'] not found in axis\"",
     "output_type": "error",
     "traceback": [
      "\u001b[1;31m---------------------------------------------------------------------------\u001b[0m",
      "\u001b[1;31mKeyError\u001b[0m                                  Traceback (most recent call last)",
      "\u001b[1;32m<ipython-input-164-bfc3a70f3c36>\u001b[0m in \u001b[0;36m<module>\u001b[1;34m\u001b[0m\n\u001b[1;32m----> 1\u001b[1;33m \u001b[0mcrystal\u001b[0m\u001b[1;33m.\u001b[0m\u001b[0mdrop\u001b[0m\u001b[1;33m(\u001b[0m\u001b[1;33m[\u001b[0m\u001b[1;34m'angle_alpha'\u001b[0m\u001b[1;33m,\u001b[0m \u001b[1;34m'angle_beta'\u001b[0m\u001b[1;33m,\u001b[0m \u001b[1;34m'angle_gamma'\u001b[0m\u001b[1;33m,\u001b[0m \u001b[1;34m'length_a'\u001b[0m\u001b[1;33m,\u001b[0m \u001b[1;34m'length_b'\u001b[0m\u001b[1;33m,\u001b[0m \u001b[1;34m'length_c'\u001b[0m\u001b[1;33m]\u001b[0m\u001b[1;33m,\u001b[0m \u001b[0maxis\u001b[0m\u001b[1;33m=\u001b[0m\u001b[1;36m1\u001b[0m\u001b[1;33m,\u001b[0m \u001b[0minplace\u001b[0m\u001b[1;33m=\u001b[0m\u001b[1;32mTrue\u001b[0m\u001b[1;33m)\u001b[0m\u001b[1;33m\u001b[0m\u001b[1;33m\u001b[0m\u001b[0m\n\u001b[0m",
      "\u001b[1;32m~\\Anaconda3\\lib\\site-packages\\pandas\\core\\frame.py\u001b[0m in \u001b[0;36mdrop\u001b[1;34m(self, labels, axis, index, columns, level, inplace, errors)\u001b[0m\n\u001b[0;32m   3938\u001b[0m                                            \u001b[0mindex\u001b[0m\u001b[1;33m=\u001b[0m\u001b[0mindex\u001b[0m\u001b[1;33m,\u001b[0m \u001b[0mcolumns\u001b[0m\u001b[1;33m=\u001b[0m\u001b[0mcolumns\u001b[0m\u001b[1;33m,\u001b[0m\u001b[1;33m\u001b[0m\u001b[1;33m\u001b[0m\u001b[0m\n\u001b[0;32m   3939\u001b[0m                                            \u001b[0mlevel\u001b[0m\u001b[1;33m=\u001b[0m\u001b[0mlevel\u001b[0m\u001b[1;33m,\u001b[0m \u001b[0minplace\u001b[0m\u001b[1;33m=\u001b[0m\u001b[0minplace\u001b[0m\u001b[1;33m,\u001b[0m\u001b[1;33m\u001b[0m\u001b[1;33m\u001b[0m\u001b[0m\n\u001b[1;32m-> 3940\u001b[1;33m                                            errors=errors)\n\u001b[0m\u001b[0;32m   3941\u001b[0m \u001b[1;33m\u001b[0m\u001b[0m\n\u001b[0;32m   3942\u001b[0m     @rewrite_axis_style_signature('mapper', [('copy', True),\n",
      "\u001b[1;32m~\\Anaconda3\\lib\\site-packages\\pandas\\core\\generic.py\u001b[0m in \u001b[0;36mdrop\u001b[1;34m(self, labels, axis, index, columns, level, inplace, errors)\u001b[0m\n\u001b[0;32m   3778\u001b[0m         \u001b[1;32mfor\u001b[0m \u001b[0maxis\u001b[0m\u001b[1;33m,\u001b[0m \u001b[0mlabels\u001b[0m \u001b[1;32min\u001b[0m \u001b[0maxes\u001b[0m\u001b[1;33m.\u001b[0m\u001b[0mitems\u001b[0m\u001b[1;33m(\u001b[0m\u001b[1;33m)\u001b[0m\u001b[1;33m:\u001b[0m\u001b[1;33m\u001b[0m\u001b[1;33m\u001b[0m\u001b[0m\n\u001b[0;32m   3779\u001b[0m             \u001b[1;32mif\u001b[0m \u001b[0mlabels\u001b[0m \u001b[1;32mis\u001b[0m \u001b[1;32mnot\u001b[0m \u001b[1;32mNone\u001b[0m\u001b[1;33m:\u001b[0m\u001b[1;33m\u001b[0m\u001b[1;33m\u001b[0m\u001b[0m\n\u001b[1;32m-> 3780\u001b[1;33m                 \u001b[0mobj\u001b[0m \u001b[1;33m=\u001b[0m \u001b[0mobj\u001b[0m\u001b[1;33m.\u001b[0m\u001b[0m_drop_axis\u001b[0m\u001b[1;33m(\u001b[0m\u001b[0mlabels\u001b[0m\u001b[1;33m,\u001b[0m \u001b[0maxis\u001b[0m\u001b[1;33m,\u001b[0m \u001b[0mlevel\u001b[0m\u001b[1;33m=\u001b[0m\u001b[0mlevel\u001b[0m\u001b[1;33m,\u001b[0m \u001b[0merrors\u001b[0m\u001b[1;33m=\u001b[0m\u001b[0merrors\u001b[0m\u001b[1;33m)\u001b[0m\u001b[1;33m\u001b[0m\u001b[1;33m\u001b[0m\u001b[0m\n\u001b[0m\u001b[0;32m   3781\u001b[0m \u001b[1;33m\u001b[0m\u001b[0m\n\u001b[0;32m   3782\u001b[0m         \u001b[1;32mif\u001b[0m \u001b[0minplace\u001b[0m\u001b[1;33m:\u001b[0m\u001b[1;33m\u001b[0m\u001b[1;33m\u001b[0m\u001b[0m\n",
      "\u001b[1;32m~\\Anaconda3\\lib\\site-packages\\pandas\\core\\generic.py\u001b[0m in \u001b[0;36m_drop_axis\u001b[1;34m(self, labels, axis, level, errors)\u001b[0m\n\u001b[0;32m   3810\u001b[0m                 \u001b[0mnew_axis\u001b[0m \u001b[1;33m=\u001b[0m \u001b[0maxis\u001b[0m\u001b[1;33m.\u001b[0m\u001b[0mdrop\u001b[0m\u001b[1;33m(\u001b[0m\u001b[0mlabels\u001b[0m\u001b[1;33m,\u001b[0m \u001b[0mlevel\u001b[0m\u001b[1;33m=\u001b[0m\u001b[0mlevel\u001b[0m\u001b[1;33m,\u001b[0m \u001b[0merrors\u001b[0m\u001b[1;33m=\u001b[0m\u001b[0merrors\u001b[0m\u001b[1;33m)\u001b[0m\u001b[1;33m\u001b[0m\u001b[1;33m\u001b[0m\u001b[0m\n\u001b[0;32m   3811\u001b[0m             \u001b[1;32melse\u001b[0m\u001b[1;33m:\u001b[0m\u001b[1;33m\u001b[0m\u001b[1;33m\u001b[0m\u001b[0m\n\u001b[1;32m-> 3812\u001b[1;33m                 \u001b[0mnew_axis\u001b[0m \u001b[1;33m=\u001b[0m \u001b[0maxis\u001b[0m\u001b[1;33m.\u001b[0m\u001b[0mdrop\u001b[0m\u001b[1;33m(\u001b[0m\u001b[0mlabels\u001b[0m\u001b[1;33m,\u001b[0m \u001b[0merrors\u001b[0m\u001b[1;33m=\u001b[0m\u001b[0merrors\u001b[0m\u001b[1;33m)\u001b[0m\u001b[1;33m\u001b[0m\u001b[1;33m\u001b[0m\u001b[0m\n\u001b[0m\u001b[0;32m   3813\u001b[0m             \u001b[0mresult\u001b[0m \u001b[1;33m=\u001b[0m \u001b[0mself\u001b[0m\u001b[1;33m.\u001b[0m\u001b[0mreindex\u001b[0m\u001b[1;33m(\u001b[0m\u001b[1;33m**\u001b[0m\u001b[1;33m{\u001b[0m\u001b[0maxis_name\u001b[0m\u001b[1;33m:\u001b[0m \u001b[0mnew_axis\u001b[0m\u001b[1;33m}\u001b[0m\u001b[1;33m)\u001b[0m\u001b[1;33m\u001b[0m\u001b[1;33m\u001b[0m\u001b[0m\n\u001b[0;32m   3814\u001b[0m \u001b[1;33m\u001b[0m\u001b[0m\n",
      "\u001b[1;32m~\\Anaconda3\\lib\\site-packages\\pandas\\core\\indexes\\base.py\u001b[0m in \u001b[0;36mdrop\u001b[1;34m(self, labels, errors)\u001b[0m\n\u001b[0;32m   4963\u001b[0m             \u001b[1;32mif\u001b[0m \u001b[0merrors\u001b[0m \u001b[1;33m!=\u001b[0m \u001b[1;34m'ignore'\u001b[0m\u001b[1;33m:\u001b[0m\u001b[1;33m\u001b[0m\u001b[1;33m\u001b[0m\u001b[0m\n\u001b[0;32m   4964\u001b[0m                 raise KeyError(\n\u001b[1;32m-> 4965\u001b[1;33m                     '{} not found in axis'.format(labels[mask]))\n\u001b[0m\u001b[0;32m   4966\u001b[0m             \u001b[0mindexer\u001b[0m \u001b[1;33m=\u001b[0m \u001b[0mindexer\u001b[0m\u001b[1;33m[\u001b[0m\u001b[1;33m~\u001b[0m\u001b[0mmask\u001b[0m\u001b[1;33m]\u001b[0m\u001b[1;33m\u001b[0m\u001b[1;33m\u001b[0m\u001b[0m\n\u001b[0;32m   4967\u001b[0m         \u001b[1;32mreturn\u001b[0m \u001b[0mself\u001b[0m\u001b[1;33m.\u001b[0m\u001b[0mdelete\u001b[0m\u001b[1;33m(\u001b[0m\u001b[0mindexer\u001b[0m\u001b[1;33m)\u001b[0m\u001b[1;33m\u001b[0m\u001b[1;33m\u001b[0m\u001b[0m\n",
      "\u001b[1;31mKeyError\u001b[0m: \"['angle_alpha' 'angle_beta' 'angle_gamma' 'length_a' 'length_b' 'length_c'] not found in axis\""
     ]
    }
   ],
   "source": [
    "crystal.drop(['angle_alpha', 'angle_beta', 'angle_gamma', 'length_a', 'length_b', 'length_c'], axis=1, inplace=True)"
   ]
  },
  {
   "cell_type": "code",
   "execution_count": 178,
   "metadata": {},
   "outputs": [
    {
     "data": {
      "text/plain": [
       "0.00    238616\n",
       "2.84    139303\n",
       "3.21    101365\n",
       "2.78     58056\n",
       "2.05     14363\n",
       "Name: MATTHEWS, dtype: int64"
      ]
     },
     "execution_count": 178,
     "metadata": {},
     "output_type": "execute_result"
    }
   ],
   "source": [
    "crystal['MATTHEWS'].value_counts()"
   ]
  },
  {
   "cell_type": "markdown",
   "metadata": {},
   "source": [
    "#### Linear Regression"
   ]
  },
  {
   "cell_type": "code",
   "execution_count": 179,
   "metadata": {},
   "outputs": [],
   "source": [
    "from sklearn.metrics import mean_squared_error"
   ]
  },
  {
   "cell_type": "code",
   "execution_count": 180,
   "metadata": {},
   "outputs": [],
   "source": [
    "from sklearn.linear_model import LinearRegression"
   ]
  },
  {
   "cell_type": "code",
   "execution_count": 181,
   "metadata": {},
   "outputs": [],
   "source": [
    "lin_reg = LinearRegression()"
   ]
  },
  {
   "cell_type": "code",
   "execution_count": 182,
   "metadata": {},
   "outputs": [],
   "source": [
    "crystal_1h_arr = crystal.values"
   ]
  },
  {
   "cell_type": "code",
   "execution_count": 183,
   "metadata": {},
   "outputs": [],
   "source": [
    "crystal_labels = phases"
   ]
  },
  {
   "cell_type": "code",
   "execution_count": 184,
   "metadata": {},
   "outputs": [],
   "source": [
    "from sklearn.model_selection import cross_val_score"
   ]
  },
  {
   "cell_type": "code",
   "execution_count": 185,
   "metadata": {},
   "outputs": [],
   "source": [
    "lin_reg_scores = cross_val_score(lin_reg, crystal_1h_arr, crystal_labels,\n",
    "                                scoring='neg_mean_squared_error', cv=10)"
   ]
  },
  {
   "cell_type": "code",
   "execution_count": 186,
   "metadata": {},
   "outputs": [],
   "source": [
    "rmse_score = np.sqrt(-lin_reg_scores)"
   ]
  },
  {
   "cell_type": "code",
   "execution_count": 187,
   "metadata": {},
   "outputs": [],
   "source": [
    "def display_scores(scores):\n",
    "    print(\"Scores:\", scores)\n",
    "    print(\"Mean:\", scores.mean())\n",
    "    print(\"Standard deviation:\", scores.std())"
   ]
  },
  {
   "cell_type": "code",
   "execution_count": 188,
   "metadata": {},
   "outputs": [
    {
     "name": "stdout",
     "output_type": "stream",
     "text": [
      "Scores: [104.83851945 104.14448808 104.17932663 104.43443717 104.33858859\n",
      " 104.4419532  104.52094748 104.50773594 104.28188747 104.60454695]\n",
      "Mean: 104.42924309457382\n",
      "Standard deviation: 0.1965892924380805\n"
     ]
    }
   ],
   "source": [
    "display_scores(np.sqrt(-lin_reg_scores))"
   ]
  },
  {
   "cell_type": "code",
   "execution_count": 189,
   "metadata": {},
   "outputs": [],
   "source": [
    "from sklearn.ensemble import RandomForestRegressor"
   ]
  },
  {
   "cell_type": "code",
   "execution_count": 190,
   "metadata": {},
   "outputs": [],
   "source": [
    "forest_reg = RandomForestRegressor(n_estimators=20, max_depth=200)"
   ]
  },
  {
   "cell_type": "code",
   "execution_count": 191,
   "metadata": {},
   "outputs": [],
   "source": [
    "rfg_scores = cross_val_score(forest_reg, crystal_1h_arr, crystal_labels,\n",
    "                            scoring='neg_mean_squared_error', cv=2)"
   ]
  },
  {
   "cell_type": "code",
   "execution_count": 194,
   "metadata": {},
   "outputs": [
    {
     "name": "stdout",
     "output_type": "stream",
     "text": [
      "Scores: [109.97417132 109.59769251]\n",
      "Mean: 109.78593191582513\n",
      "Standard deviation: 0.18823940868062294\n"
     ]
    }
   ],
   "source": [
    "display_scores(np.sqrt(-rfg_scores))"
   ]
  },
  {
   "cell_type": "code",
   "execution_count": 195,
   "metadata": {},
   "outputs": [
    {
     "data": {
      "text/html": [
       "<div>\n",
       "<style scoped>\n",
       "    .dataframe tbody tr th:only-of-type {\n",
       "        vertical-align: middle;\n",
       "    }\n",
       "\n",
       "    .dataframe tbody tr th {\n",
       "        vertical-align: top;\n",
       "    }\n",
       "\n",
       "    .dataframe thead th {\n",
       "        text-align: right;\n",
       "    }\n",
       "</style>\n",
       "<table border=\"1\" class=\"dataframe\">\n",
       "  <thead>\n",
       "    <tr style=\"text-align: right;\">\n",
       "      <th></th>\n",
       "      <th>index_h</th>\n",
       "      <th>index_k</th>\n",
       "      <th>index_l</th>\n",
       "      <th>FOBS</th>\n",
       "      <th>SIGFOBS</th>\n",
       "      <th>UOBS</th>\n",
       "      <th>SIGUOBS</th>\n",
       "      <th>RESOL</th>\n",
       "      <th>volume</th>\n",
       "      <th>PHI_ERROR</th>\n",
       "      <th>MATTHEWS</th>\n",
       "      <th>SOLV</th>\n",
       "      <th>MW</th>\n",
       "      <th>cs_enc</th>\n",
       "      <th>False</th>\n",
       "    </tr>\n",
       "  </thead>\n",
       "  <tbody>\n",
       "    <tr>\n",
       "      <th>103159</th>\n",
       "      <td>9.0</td>\n",
       "      <td>-37.0</td>\n",
       "      <td>5.0</td>\n",
       "      <td>233.73400</td>\n",
       "      <td>3.82056</td>\n",
       "      <td>0.002399</td>\n",
       "      <td>0.000039</td>\n",
       "      <td>2.92370</td>\n",
       "      <td>597406.96</td>\n",
       "      <td>15.991204</td>\n",
       "      <td>2.84</td>\n",
       "      <td>58.0</td>\n",
       "      <td>34937.77</td>\n",
       "      <td>0.0</td>\n",
       "      <td>0.0</td>\n",
       "    </tr>\n",
       "    <tr>\n",
       "      <th>43516</th>\n",
       "      <td>-21.0</td>\n",
       "      <td>40.0</td>\n",
       "      <td>15.0</td>\n",
       "      <td>2.35643</td>\n",
       "      <td>52.69840</td>\n",
       "      <td>0.000045</td>\n",
       "      <td>0.001009</td>\n",
       "      <td>2.19897</td>\n",
       "      <td>597406.96</td>\n",
       "      <td>88.128244</td>\n",
       "      <td>2.84</td>\n",
       "      <td>58.0</td>\n",
       "      <td>34937.77</td>\n",
       "      <td>0.0</td>\n",
       "      <td>0.0</td>\n",
       "    </tr>\n",
       "    <tr>\n",
       "      <th>136</th>\n",
       "      <td>-60.0</td>\n",
       "      <td>36.0</td>\n",
       "      <td>3.0</td>\n",
       "      <td>70.19360</td>\n",
       "      <td>7.30353</td>\n",
       "      <td>0.002014</td>\n",
       "      <td>0.000210</td>\n",
       "      <td>1.94189</td>\n",
       "      <td>597406.96</td>\n",
       "      <td>13.513473</td>\n",
       "      <td>2.84</td>\n",
       "      <td>58.0</td>\n",
       "      <td>34937.77</td>\n",
       "      <td>0.0</td>\n",
       "      <td>0.0</td>\n",
       "    </tr>\n",
       "    <tr>\n",
       "      <th>247804</th>\n",
       "      <td>0.0</td>\n",
       "      <td>0.0</td>\n",
       "      <td>0.0</td>\n",
       "      <td>0.00000</td>\n",
       "      <td>0.00000</td>\n",
       "      <td>0.000000</td>\n",
       "      <td>0.000000</td>\n",
       "      <td>0.00000</td>\n",
       "      <td>0.00</td>\n",
       "      <td>0.000000</td>\n",
       "      <td>0</td>\n",
       "      <td>0.0</td>\n",
       "      <td>0.00</td>\n",
       "      <td>0.0</td>\n",
       "      <td>0.0</td>\n",
       "    </tr>\n",
       "    <tr>\n",
       "      <th>110055</th>\n",
       "      <td>12.0</td>\n",
       "      <td>-16.0</td>\n",
       "      <td>24.0</td>\n",
       "      <td>75.13610</td>\n",
       "      <td>8.54020</td>\n",
       "      <td>0.002015</td>\n",
       "      <td>0.000229</td>\n",
       "      <td>1.97861</td>\n",
       "      <td>597406.96</td>\n",
       "      <td>16.628169</td>\n",
       "      <td>2.84</td>\n",
       "      <td>58.0</td>\n",
       "      <td>34937.77</td>\n",
       "      <td>0.0</td>\n",
       "      <td>0.0</td>\n",
       "    </tr>\n",
       "  </tbody>\n",
       "</table>\n",
       "</div>"
      ],
      "text/plain": [
       "        index_h  index_k  index_l       FOBS   SIGFOBS      UOBS   SIGUOBS  \\\n",
       "103159      9.0    -37.0      5.0  233.73400   3.82056  0.002399  0.000039   \n",
       "43516     -21.0     40.0     15.0    2.35643  52.69840  0.000045  0.001009   \n",
       "136       -60.0     36.0      3.0   70.19360   7.30353  0.002014  0.000210   \n",
       "247804      0.0      0.0      0.0    0.00000   0.00000  0.000000  0.000000   \n",
       "110055     12.0    -16.0     24.0   75.13610   8.54020  0.002015  0.000229   \n",
       "\n",
       "          RESOL     volume  PHI_ERROR MATTHEWS  SOLV        MW  cs_enc  False  \n",
       "103159  2.92370  597406.96  15.991204     2.84  58.0  34937.77     0.0    0.0  \n",
       "43516   2.19897  597406.96  88.128244     2.84  58.0  34937.77     0.0    0.0  \n",
       "136     1.94189  597406.96  13.513473     2.84  58.0  34937.77     0.0    0.0  \n",
       "247804  0.00000       0.00   0.000000        0   0.0      0.00     0.0    0.0  \n",
       "110055  1.97861  597406.96  16.628169     2.84  58.0  34937.77     0.0    0.0  "
      ]
     },
     "execution_count": 195,
     "metadata": {},
     "output_type": "execute_result"
    }
   ],
   "source": [
    "crystal.head()"
   ]
  },
  {
   "cell_type": "code",
   "execution_count": 197,
   "metadata": {},
   "outputs": [
    {
     "ename": "TypeError",
     "evalue": "__init__() missing 1 required positional argument: 'filename'",
     "output_type": "error",
     "traceback": [
      "\u001b[1;31m---------------------------------------------------------------------------\u001b[0m",
      "\u001b[1;31mTypeError\u001b[0m                                 Traceback (most recent call last)",
      "\u001b[1;32m<ipython-input-197-29fea4d052e5>\u001b[0m in \u001b[0;36m<module>\u001b[1;34m\u001b[0m\n\u001b[1;32m----> 1\u001b[1;33m \u001b[0mcif\u001b[0m \u001b[1;33m=\u001b[0m \u001b[0mCIFParser\u001b[0m\u001b[1;33m(\u001b[0m\u001b[1;33m)\u001b[0m\u001b[1;33m\u001b[0m\u001b[1;33m\u001b[0m\u001b[0m\n\u001b[0m",
      "\u001b[1;31mTypeError\u001b[0m: __init__() missing 1 required positional argument: 'filename'"
     ]
    }
   ],
   "source": [
    "cif = CIFParser(filename='')"
   ]
  },
  {
   "cell_type": "code",
   "execution_count": null,
   "metadata": {},
   "outputs": [],
   "source": []
  }
 ],
 "metadata": {
  "kernelspec": {
   "display_name": "Python 3",
   "language": "python",
   "name": "python3"
  },
  "language_info": {
   "codemirror_mode": {
    "name": "ipython",
    "version": 3
   },
   "file_extension": ".py",
   "mimetype": "text/x-python",
   "name": "python",
   "nbconvert_exporter": "python",
   "pygments_lexer": "ipython3",
   "version": "3.7.3"
  }
 },
 "nbformat": 4,
 "nbformat_minor": 2
}
