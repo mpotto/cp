{
 "cells": [
  {
   "cell_type": "markdown",
   "metadata": {},
   "source": [
    "# Models\n",
    "\n",
    "* Test some models.\n",
    "* Get a performance reference.\n",
    "* Improve previous models with GridSearch and hyperparameter tweaking."
   ]
  },
  {
   "cell_type": "code",
   "execution_count": 5,
   "metadata": {},
   "outputs": [],
   "source": [
    "from xtalphases.data.preprocess import *\n",
    "from xtalphases import __userpath__ as user_path"
   ]
  },
  {
   "cell_type": "code",
   "execution_count": 6,
   "metadata": {},
   "outputs": [],
   "source": [
    "import numpy as np\n",
    "import matplotlib.pyplot as plt\n",
    "%matplotlib inline"
   ]
  },
  {
   "cell_type": "code",
   "execution_count": 10,
   "metadata": {},
   "outputs": [],
   "source": [
    "import pandas as pd"
   ]
  },
  {
   "cell_type": "code",
   "execution_count": 11,
   "metadata": {},
   "outputs": [],
   "source": [
    "user_path = r'D:/USP/IC/Repositório/xtalphases'"
   ]
  },
  {
   "cell_type": "markdown",
   "metadata": {},
   "source": [
    "## Data\n",
    "\n",
    "Loading data from samples using ```read_csv```."
   ]
  },
  {
   "cell_type": "code",
   "execution_count": 12,
   "metadata": {},
   "outputs": [],
   "source": [
    "s3_filename = user_path + '/exploration/data/processed/sample4.csv'"
   ]
  },
  {
   "cell_type": "code",
   "execution_count": 15,
   "metadata": {},
   "outputs": [],
   "source": [
    "s3_df = pd.read_csv(s3_filename, engine='python');"
   ]
  },
  {
   "cell_type": "code",
   "execution_count": 18,
   "metadata": {},
   "outputs": [
    {
     "data": {
      "text/plain": [
       "(1347872, 32)"
      ]
     },
     "execution_count": 18,
     "metadata": {},
     "output_type": "execute_result"
    }
   ],
   "source": [
    "s3_df.shape"
   ]
  },
  {
   "cell_type": "markdown",
   "metadata": {},
   "source": [
    "### Train and Test\n",
    "\n",
    "* Sampling strategy: get the same amount of structures of each crystal system."
   ]
  },
  {
   "cell_type": "markdown",
   "metadata": {},
   "source": [
    "#### Encoding crystal system"
   ]
  },
  {
   "cell_type": "code",
   "execution_count": 19,
   "metadata": {},
   "outputs": [],
   "source": [
    "from sklearn.preprocessing import LabelEncoder"
   ]
  },
  {
   "cell_type": "code",
   "execution_count": 20,
   "metadata": {},
   "outputs": [],
   "source": [
    "encoder = LabelEncoder()"
   ]
  },
  {
   "cell_type": "code",
   "execution_count": 21,
   "metadata": {},
   "outputs": [],
   "source": [
    "cs_cat = s3_df['name_H-M_alt']"
   ]
  },
  {
   "cell_type": "code",
   "execution_count": 23,
   "metadata": {},
   "outputs": [
    {
     "data": {
      "text/plain": [
       "array([10, 10, 10, ...,  6,  6,  6])"
      ]
     },
     "execution_count": 23,
     "metadata": {},
     "output_type": "execute_result"
    }
   ],
   "source": [
    "cs_cat_enc = encoder.fit_transform(cs_cat); cs_cat_enc"
   ]
  },
  {
   "cell_type": "code",
   "execution_count": 24,
   "metadata": {},
   "outputs": [
    {
     "data": {
      "text/plain": [
       "array(['C 1 2 1', 'C 2 2 21', 'I 41', 'P 1', 'P 1 21 1', 'P 21 21 2',\n",
       "       'P 21 21 21', 'P 31 2 1', 'P 32 2 1', 'P 41 21 2', 'P 43 21 2',\n",
       "       'P 61 2 2', 'P 63 2 2', 'P 65 2 2', 'R 3 2 :H', 'R 3 :H'],\n",
       "      dtype=object)"
      ]
     },
     "execution_count": 24,
     "metadata": {},
     "output_type": "execute_result"
    }
   ],
   "source": [
    "encoder.classes_"
   ]
  },
  {
   "cell_type": "code",
   "execution_count": 29,
   "metadata": {},
   "outputs": [],
   "source": [
    "s3_df['cs_enc'] = cs_cat_enc"
   ]
  },
  {
   "cell_type": "markdown",
   "metadata": {},
   "source": [
    "#### Splitting dataset into train and test"
   ]
  },
  {
   "cell_type": "code",
   "execution_count": 30,
   "metadata": {},
   "outputs": [],
   "source": [
    "from sklearn.model_selection import StratifiedShuffleSplit"
   ]
  },
  {
   "cell_type": "code",
   "execution_count": 31,
   "metadata": {},
   "outputs": [],
   "source": [
    "split = StratifiedShuffleSplit(n_splits=1, random_state=42, test_size=0.2)"
   ]
  },
  {
   "cell_type": "code",
   "execution_count": 32,
   "metadata": {},
   "outputs": [],
   "source": [
    "for train_index, test_index in split.split(s3_df, s3_df['cs_enc']):\n",
    "    train_set = s3_df.iloc[train_index]\n",
    "    test_set = s3_df.iloc[test_index]"
   ]
  },
  {
   "cell_type": "markdown",
   "metadata": {},
   "source": [
    "## Processing"
   ]
  },
  {
   "cell_type": "code",
   "execution_count": 33,
   "metadata": {},
   "outputs": [],
   "source": [
    "crystal = train_set.drop('PHIMODEL', axis=1)"
   ]
  },
  {
   "cell_type": "code",
   "execution_count": 34,
   "metadata": {},
   "outputs": [],
   "source": [
    "crystal_labels = train_set['PHIMODEL'].copy()"
   ]
  },
  {
   "cell_type": "code",
   "execution_count": 35,
   "metadata": {},
   "outputs": [
    {
     "data": {
      "text/plain": [
       "Index(['Unnamed: 0', 'index_h', 'index_k', 'index_l', 'FOBS', 'SIGFOBS',\n",
       "       'FMODEL', 'FOM', 'RESOL', 'pdbx_r_free_flag', 'crystal_system',\n",
       "       'IT_number', 'name_H-M_alt', 'name_Hall', 'space_group_name_H-M',\n",
       "       'space_group_name_Hall', 'Int_Tables_number', 'length_a', 'length_b',\n",
       "       'length_c', 'angle_alpha', 'angle_beta', 'angle_gamma', 'volume',\n",
       "       'PHI_ERROR', 'SYNCHROTRON', 'SOLV', 'WILSON', 'MATTHEWS', 'MW', 'ID',\n",
       "       'cs_enc'],\n",
       "      dtype='object')"
      ]
     },
     "execution_count": 35,
     "metadata": {},
     "output_type": "execute_result"
    }
   ],
   "source": [
    "crystal.columns"
   ]
  },
  {
   "cell_type": "markdown",
   "metadata": {},
   "source": [
    "### Droping Columns\n",
    "\n",
    "Drop columns:\n",
    "* Not available before structure solving (```FMODEL, FOM, PHI_ERROR```)\n",
    "* Containing redudant information (preliminarly, because of our initial assumptions and computational resources)."
   ]
  },
  {
   "cell_type": "code",
   "execution_count": 36,
   "metadata": {},
   "outputs": [
    {
     "data": {
      "text/plain": [
       "Index(['Unnamed: 0', 'index_h', 'index_k', 'index_l', 'FOBS', 'SIGFOBS',\n",
       "       'FMODEL', 'FOM', 'RESOL', 'pdbx_r_free_flag', 'crystal_system',\n",
       "       'IT_number', 'name_H-M_alt', 'name_Hall', 'space_group_name_H-M',\n",
       "       'space_group_name_Hall', 'Int_Tables_number', 'length_a', 'length_b',\n",
       "       'length_c', 'angle_alpha', 'angle_beta', 'angle_gamma', 'volume',\n",
       "       'PHI_ERROR', 'SYNCHROTRON', 'SOLV', 'WILSON', 'MATTHEWS', 'MW', 'ID',\n",
       "       'cs_enc'],\n",
       "      dtype='object')"
      ]
     },
     "execution_count": 36,
     "metadata": {},
     "output_type": "execute_result"
    }
   ],
   "source": [
    "crystal.columns"
   ]
  },
  {
   "cell_type": "code",
   "execution_count": 37,
   "metadata": {},
   "outputs": [],
   "source": [
    "crystal.drop(['Unnamed: 0', 'FMODEL', 'FOM', 'pdbx_r_free_flag', 'cs_enc', 'WILSON', 'ID', 'IT_number', \n",
    "              'name_Hall', 'space_group_name_H-M', 'space_group_name_Hall', 'Int_Tables_number', 'PHI_ERROR'], axis=1, inplace=True)"
   ]
  },
  {
   "cell_type": "code",
   "execution_count": 38,
   "metadata": {},
   "outputs": [],
   "source": [
    "crystal.drop(['MATTHEWS'], axis=1, inplace=True)"
   ]
  },
  {
   "cell_type": "code",
   "execution_count": 39,
   "metadata": {},
   "outputs": [
    {
     "data": {
      "text/html": [
       "<div>\n",
       "<style scoped>\n",
       "    .dataframe tbody tr th:only-of-type {\n",
       "        vertical-align: middle;\n",
       "    }\n",
       "\n",
       "    .dataframe tbody tr th {\n",
       "        vertical-align: top;\n",
       "    }\n",
       "\n",
       "    .dataframe thead th {\n",
       "        text-align: right;\n",
       "    }\n",
       "</style>\n",
       "<table border=\"1\" class=\"dataframe\">\n",
       "  <thead>\n",
       "    <tr style=\"text-align: right;\">\n",
       "      <th></th>\n",
       "      <th>index_h</th>\n",
       "      <th>index_k</th>\n",
       "      <th>index_l</th>\n",
       "      <th>FOBS</th>\n",
       "      <th>SIGFOBS</th>\n",
       "      <th>RESOL</th>\n",
       "      <th>crystal_system</th>\n",
       "      <th>name_H-M_alt</th>\n",
       "      <th>length_a</th>\n",
       "      <th>length_b</th>\n",
       "      <th>length_c</th>\n",
       "      <th>angle_alpha</th>\n",
       "      <th>angle_beta</th>\n",
       "      <th>angle_gamma</th>\n",
       "      <th>volume</th>\n",
       "      <th>SYNCHROTRON</th>\n",
       "      <th>SOLV</th>\n",
       "      <th>MW</th>\n",
       "    </tr>\n",
       "  </thead>\n",
       "  <tbody>\n",
       "    <tr>\n",
       "      <th>714089</th>\n",
       "      <td>-76</td>\n",
       "      <td>12</td>\n",
       "      <td>11</td>\n",
       "      <td>274.6150</td>\n",
       "      <td>69.434200</td>\n",
       "      <td>2.03690</td>\n",
       "      <td>monoclinic</td>\n",
       "      <td>C 1 2 1</td>\n",
       "      <td>157.363</td>\n",
       "      <td>156.438</td>\n",
       "      <td>88.417</td>\n",
       "      <td>90.0</td>\n",
       "      <td>110.01</td>\n",
       "      <td>90.0</td>\n",
       "      <td>2045214.666</td>\n",
       "      <td>Y</td>\n",
       "      <td>44.94</td>\n",
       "      <td>229239.27</td>\n",
       "    </tr>\n",
       "    <tr>\n",
       "      <th>304266</th>\n",
       "      <td>17</td>\n",
       "      <td>0</td>\n",
       "      <td>-13</td>\n",
       "      <td>1564.5300</td>\n",
       "      <td>46.756600</td>\n",
       "      <td>5.06602</td>\n",
       "      <td>trigonal</td>\n",
       "      <td>R 3 2 :H</td>\n",
       "      <td>100.920</td>\n",
       "      <td>100.920</td>\n",
       "      <td>386.690</td>\n",
       "      <td>90.0</td>\n",
       "      <td>90.00</td>\n",
       "      <td>120.0</td>\n",
       "      <td>3410735.516</td>\n",
       "      <td>Y</td>\n",
       "      <td>63.33</td>\n",
       "      <td>60067.85</td>\n",
       "    </tr>\n",
       "    <tr>\n",
       "      <th>1062119</th>\n",
       "      <td>30</td>\n",
       "      <td>14</td>\n",
       "      <td>69</td>\n",
       "      <td>45.1193</td>\n",
       "      <td>4.602020</td>\n",
       "      <td>1.24413</td>\n",
       "      <td>tetragonal</td>\n",
       "      <td>P 41 21 2</td>\n",
       "      <td>51.500</td>\n",
       "      <td>51.500</td>\n",
       "      <td>143.000</td>\n",
       "      <td>90.0</td>\n",
       "      <td>90.00</td>\n",
       "      <td>90.0</td>\n",
       "      <td>379271.750</td>\n",
       "      <td>Y</td>\n",
       "      <td>47.90</td>\n",
       "      <td>20372.33</td>\n",
       "    </tr>\n",
       "    <tr>\n",
       "      <th>64982</th>\n",
       "      <td>9</td>\n",
       "      <td>5</td>\n",
       "      <td>12</td>\n",
       "      <td>266.2420</td>\n",
       "      <td>3.227710</td>\n",
       "      <td>4.57986</td>\n",
       "      <td>trigonal</td>\n",
       "      <td>P 31 2 1</td>\n",
       "      <td>92.854</td>\n",
       "      <td>92.854</td>\n",
       "      <td>76.942</td>\n",
       "      <td>90.0</td>\n",
       "      <td>90.00</td>\n",
       "      <td>120.0</td>\n",
       "      <td>574506.980</td>\n",
       "      <td>Y</td>\n",
       "      <td>48.65</td>\n",
       "      <td>20786.47</td>\n",
       "    </tr>\n",
       "    <tr>\n",
       "      <th>453973</th>\n",
       "      <td>17</td>\n",
       "      <td>7</td>\n",
       "      <td>14</td>\n",
       "      <td>201.9410</td>\n",
       "      <td>1.176410</td>\n",
       "      <td>2.05087</td>\n",
       "      <td>monoclinic</td>\n",
       "      <td>P 1 21 1</td>\n",
       "      <td>61.670</td>\n",
       "      <td>32.402</td>\n",
       "      <td>62.033</td>\n",
       "      <td>90.0</td>\n",
       "      <td>109.82</td>\n",
       "      <td>90.0</td>\n",
       "      <td>116613.421</td>\n",
       "      <td>Y</td>\n",
       "      <td>45.78</td>\n",
       "      <td>25864.60</td>\n",
       "    </tr>\n",
       "    <tr>\n",
       "      <th>1142358</th>\n",
       "      <td>24</td>\n",
       "      <td>10</td>\n",
       "      <td>27</td>\n",
       "      <td>75.5419</td>\n",
       "      <td>22.302900</td>\n",
       "      <td>1.77397</td>\n",
       "      <td>orthorhombic</td>\n",
       "      <td>P 21 21 21</td>\n",
       "      <td>63.770</td>\n",
       "      <td>63.100</td>\n",
       "      <td>69.480</td>\n",
       "      <td>90.0</td>\n",
       "      <td>90.00</td>\n",
       "      <td>90.0</td>\n",
       "      <td>279579.678</td>\n",
       "      <td>N</td>\n",
       "      <td>58.94</td>\n",
       "      <td>23830.27</td>\n",
       "    </tr>\n",
       "    <tr>\n",
       "      <th>910483</th>\n",
       "      <td>13</td>\n",
       "      <td>32</td>\n",
       "      <td>5</td>\n",
       "      <td>163.9700</td>\n",
       "      <td>5.260540</td>\n",
       "      <td>1.73810</td>\n",
       "      <td>orthorhombic</td>\n",
       "      <td>P 21 21 21</td>\n",
       "      <td>41.580</td>\n",
       "      <td>66.580</td>\n",
       "      <td>105.050</td>\n",
       "      <td>90.0</td>\n",
       "      <td>90.00</td>\n",
       "      <td>90.0</td>\n",
       "      <td>290820.071</td>\n",
       "      <td>Y</td>\n",
       "      <td>43.42</td>\n",
       "      <td>33931.36</td>\n",
       "    </tr>\n",
       "    <tr>\n",
       "      <th>1318193</th>\n",
       "      <td>9</td>\n",
       "      <td>0</td>\n",
       "      <td>60</td>\n",
       "      <td>308.3290</td>\n",
       "      <td>5.701130</td>\n",
       "      <td>3.04153</td>\n",
       "      <td>orthorhombic</td>\n",
       "      <td>P 21 21 21</td>\n",
       "      <td>68.039</td>\n",
       "      <td>76.003</td>\n",
       "      <td>199.336</td>\n",
       "      <td>90.0</td>\n",
       "      <td>90.00</td>\n",
       "      <td>90.0</td>\n",
       "      <td>1030799.960</td>\n",
       "      <td>Y</td>\n",
       "      <td>58.27</td>\n",
       "      <td>89621.46</td>\n",
       "    </tr>\n",
       "    <tr>\n",
       "      <th>413615</th>\n",
       "      <td>4</td>\n",
       "      <td>3</td>\n",
       "      <td>64</td>\n",
       "      <td>35.4327</td>\n",
       "      <td>0.337118</td>\n",
       "      <td>2.06192</td>\n",
       "      <td>hexagonal</td>\n",
       "      <td>P 65 2 2</td>\n",
       "      <td>76.400</td>\n",
       "      <td>76.400</td>\n",
       "      <td>134.400</td>\n",
       "      <td>90.0</td>\n",
       "      <td>90.00</td>\n",
       "      <td>120.0</td>\n",
       "      <td>679386.034</td>\n",
       "      <td>Y</td>\n",
       "      <td>50.76</td>\n",
       "      <td>23217.16</td>\n",
       "    </tr>\n",
       "    <tr>\n",
       "      <th>419647</th>\n",
       "      <td>15</td>\n",
       "      <td>5</td>\n",
       "      <td>39</td>\n",
       "      <td>146.2150</td>\n",
       "      <td>1.639790</td>\n",
       "      <td>2.51225</td>\n",
       "      <td>hexagonal</td>\n",
       "      <td>P 65 2 2</td>\n",
       "      <td>76.400</td>\n",
       "      <td>76.400</td>\n",
       "      <td>134.400</td>\n",
       "      <td>90.0</td>\n",
       "      <td>90.00</td>\n",
       "      <td>120.0</td>\n",
       "      <td>679386.034</td>\n",
       "      <td>Y</td>\n",
       "      <td>50.76</td>\n",
       "      <td>23217.16</td>\n",
       "    </tr>\n",
       "  </tbody>\n",
       "</table>\n",
       "</div>"
      ],
      "text/plain": [
       "         index_h  index_k  index_l       FOBS    SIGFOBS    RESOL  \\\n",
       "714089       -76       12       11   274.6150  69.434200  2.03690   \n",
       "304266        17        0      -13  1564.5300  46.756600  5.06602   \n",
       "1062119       30       14       69    45.1193   4.602020  1.24413   \n",
       "64982          9        5       12   266.2420   3.227710  4.57986   \n",
       "453973        17        7       14   201.9410   1.176410  2.05087   \n",
       "1142358       24       10       27    75.5419  22.302900  1.77397   \n",
       "910483        13       32        5   163.9700   5.260540  1.73810   \n",
       "1318193        9        0       60   308.3290   5.701130  3.04153   \n",
       "413615         4        3       64    35.4327   0.337118  2.06192   \n",
       "419647        15        5       39   146.2150   1.639790  2.51225   \n",
       "\n",
       "        crystal_system name_H-M_alt  length_a  length_b  length_c  \\\n",
       "714089      monoclinic      C 1 2 1   157.363   156.438    88.417   \n",
       "304266        trigonal     R 3 2 :H   100.920   100.920   386.690   \n",
       "1062119     tetragonal    P 41 21 2    51.500    51.500   143.000   \n",
       "64982         trigonal     P 31 2 1    92.854    92.854    76.942   \n",
       "453973      monoclinic     P 1 21 1    61.670    32.402    62.033   \n",
       "1142358   orthorhombic   P 21 21 21    63.770    63.100    69.480   \n",
       "910483    orthorhombic   P 21 21 21    41.580    66.580   105.050   \n",
       "1318193   orthorhombic   P 21 21 21    68.039    76.003   199.336   \n",
       "413615       hexagonal     P 65 2 2    76.400    76.400   134.400   \n",
       "419647       hexagonal     P 65 2 2    76.400    76.400   134.400   \n",
       "\n",
       "         angle_alpha  angle_beta  angle_gamma       volume SYNCHROTRON   SOLV  \\\n",
       "714089          90.0      110.01         90.0  2045214.666           Y  44.94   \n",
       "304266          90.0       90.00        120.0  3410735.516           Y  63.33   \n",
       "1062119         90.0       90.00         90.0   379271.750           Y  47.90   \n",
       "64982           90.0       90.00        120.0   574506.980           Y  48.65   \n",
       "453973          90.0      109.82         90.0   116613.421           Y  45.78   \n",
       "1142358         90.0       90.00         90.0   279579.678           N  58.94   \n",
       "910483          90.0       90.00         90.0   290820.071           Y  43.42   \n",
       "1318193         90.0       90.00         90.0  1030799.960           Y  58.27   \n",
       "413615          90.0       90.00        120.0   679386.034           Y  50.76   \n",
       "419647          90.0       90.00        120.0   679386.034           Y  50.76   \n",
       "\n",
       "                MW  \n",
       "714089   229239.27  \n",
       "304266    60067.85  \n",
       "1062119   20372.33  \n",
       "64982     20786.47  \n",
       "453973    25864.60  \n",
       "1142358   23830.27  \n",
       "910483    33931.36  \n",
       "1318193   89621.46  \n",
       "413615    23217.16  \n",
       "419647    23217.16  "
      ]
     },
     "execution_count": 39,
     "metadata": {},
     "output_type": "execute_result"
    }
   ],
   "source": [
    "crystal.head(10)"
   ]
  },
  {
   "cell_type": "markdown",
   "metadata": {},
   "source": [
    "### Encoding\n",
    "\n",
    "This should be formalized using ```sklearn``` functions. "
   ]
  },
  {
   "cell_type": "code",
   "execution_count": 40,
   "metadata": {},
   "outputs": [],
   "source": [
    "to_encode = ['SYNCHROTRON', 'crystal_system', 'name_H-M_alt']"
   ]
  },
  {
   "cell_type": "code",
   "execution_count": 41,
   "metadata": {},
   "outputs": [],
   "source": [
    "crystal_1h =  pd.get_dummies(crystal, columns=to_encode)"
   ]
  },
  {
   "cell_type": "markdown",
   "metadata": {},
   "source": [
    "## Training Preliminar Models\n",
    "\n",
    "* Metric: RMSE of phases (perhaps not the best option to evaluate error in this case)."
   ]
  },
  {
   "cell_type": "code",
   "execution_count": 57,
   "metadata": {},
   "outputs": [],
   "source": [
    "from sklearn.model_selection import cross_val_score"
   ]
  },
  {
   "cell_type": "code",
   "execution_count": 58,
   "metadata": {},
   "outputs": [],
   "source": [
    "from sklearn.metrics import mean_squared_error"
   ]
  },
  {
   "cell_type": "markdown",
   "metadata": {},
   "source": [
    "Transform training encoded dataset into a ```numpy``` array if needed."
   ]
  },
  {
   "cell_type": "code",
   "execution_count": 59,
   "metadata": {},
   "outputs": [],
   "source": [
    "crystal_1h_arr = crystal_1h.values"
   ]
  },
  {
   "cell_type": "markdown",
   "metadata": {},
   "source": [
    "```display_scores``` is convenient function to display cross-validation results"
   ]
  },
  {
   "cell_type": "code",
   "execution_count": 60,
   "metadata": {},
   "outputs": [],
   "source": [
    "def display_scores(scores):\n",
    "    print(\"Scores:\", scores)\n",
    "    print(\"Mean:\", scores.mean())\n",
    "    print(\"Standard deviation:\", scores.std())"
   ]
  },
  {
   "cell_type": "markdown",
   "metadata": {},
   "source": [
    "```cross_validate``` allows for more control over the cross validation process, enabling to get:\n",
    "* Cross validation scores\n",
    "* Trained models over each k-fold CV."
   ]
  },
  {
   "cell_type": "markdown",
   "metadata": {},
   "source": [
    "### Linear Regression"
   ]
  },
  {
   "cell_type": "code",
   "execution_count": 61,
   "metadata": {},
   "outputs": [],
   "source": [
    "from sklearn.linear_model import LinearRegression"
   ]
  },
  {
   "cell_type": "code",
   "execution_count": 62,
   "metadata": {},
   "outputs": [],
   "source": [
    "lin_reg = LinearRegression(n_jobs=3)"
   ]
  },
  {
   "cell_type": "code",
   "execution_count": 63,
   "metadata": {},
   "outputs": [],
   "source": [
    "lin_reg_score = cross_val_score(lin_reg, crystal_1h_arr, crystal_labels, \n",
    "                               scoring='neg_mean_squared_error', cv=5)"
   ]
  },
  {
   "cell_type": "code",
   "execution_count": 64,
   "metadata": {},
   "outputs": [
    {
     "name": "stdout",
     "output_type": "stream",
     "text": [
      "Scores: [104.78804713 104.72078026 104.65947066 104.71900169 104.7604574 ]\n",
      "Mean: 104.72955142972505\n",
      "Standard deviation: 0.04353497498956512\n"
     ]
    }
   ],
   "source": [
    "display_scores(np.sqrt(-lin_reg_score))"
   ]
  },
  {
   "cell_type": "markdown",
   "metadata": {},
   "source": [
    "### Decision Tree Regressor"
   ]
  },
  {
   "cell_type": "code",
   "execution_count": 63,
   "metadata": {},
   "outputs": [],
   "source": [
    "from sklearn.tree import DecisionTreeRegressor"
   ]
  },
  {
   "cell_type": "code",
   "execution_count": 64,
   "metadata": {},
   "outputs": [],
   "source": [
    "tree_reg = DecisionTreeRegressor(max_depth=400, max_leaf_nodes=50, max_features=1.0)"
   ]
  },
  {
   "cell_type": "code",
   "execution_count": 68,
   "metadata": {},
   "outputs": [],
   "source": [
    "tree_reg_score = cross_val_score(tree_reg, crystal_1h_arr, crystal_labels,\n",
    "                                 scoring='neg_mean_squared_error', cv=4)"
   ]
  },
  {
   "cell_type": "code",
   "execution_count": 69,
   "metadata": {},
   "outputs": [
    {
     "name": "stdout",
     "output_type": "stream",
     "text": [
      "Scores: [104.20102072 104.05304763 104.07230694 103.71057404]\n",
      "Mean: 104.00923733188866\n",
      "Standard deviation: 0.18157487834416125\n"
     ]
    }
   ],
   "source": [
    "display_scores(np.sqrt(-tree_reg_score))"
   ]
  },
  {
   "cell_type": "markdown",
   "metadata": {},
   "source": [
    "### Random Forest Regressor"
   ]
  },
  {
   "cell_type": "code",
   "execution_count": 107,
   "metadata": {},
   "outputs": [],
   "source": [
    "from sklearn.ensemble import RandomForestRegressor"
   ]
  },
  {
   "cell_type": "code",
   "execution_count": 108,
   "metadata": {},
   "outputs": [],
   "source": [
    "forest_reg = RandomForestRegressor(n_estimators=100, max_depth=200, max_leaf_nodes=50, n_jobs=-1)"
   ]
  },
  {
   "cell_type": "code",
   "execution_count": 109,
   "metadata": {},
   "outputs": [],
   "source": [
    "forest_reg_score = cross_val_score(forest_reg, crystal_1h_arr, crystal_labels,\n",
    "                                  scoring='neg_mean_squared_error', cv=2)"
   ]
  },
  {
   "cell_type": "code",
   "execution_count": 110,
   "metadata": {},
   "outputs": [
    {
     "name": "stdout",
     "output_type": "stream",
     "text": [
      "Scores: [103.9782631  104.03668001]\n",
      "Mean: 104.00747155422698\n",
      "Standard deviation: 0.029208451857165585\n"
     ]
    }
   ],
   "source": [
    "display_scores(np.sqrt(-forest_reg_score))"
   ]
  },
  {
   "cell_type": "markdown",
   "metadata": {},
   "source": [
    "#### Testing the model without cross-validation"
   ]
  },
  {
   "cell_type": "code",
   "execution_count": 34,
   "metadata": {},
   "outputs": [],
   "source": [
    "test_reg = RandomForestRegressor(n_estimators=20, n_jobs=-1)"
   ]
  },
  {
   "cell_type": "code",
   "execution_count": 35,
   "metadata": {},
   "outputs": [
    {
     "data": {
      "text/plain": [
       "RandomForestRegressor(bootstrap=True, criterion='mse', max_depth=None,\n",
       "           max_features='auto', max_leaf_nodes=None,\n",
       "           min_impurity_decrease=0.0, min_impurity_split=None,\n",
       "           min_samples_leaf=1, min_samples_split=2,\n",
       "           min_weight_fraction_leaf=0.0, n_estimators=20, n_jobs=-1,\n",
       "           oob_score=False, random_state=None, verbose=0, warm_start=False)"
      ]
     },
     "execution_count": 35,
     "metadata": {},
     "output_type": "execute_result"
    }
   ],
   "source": [
    "test_reg.fit(crystal_1h_arr, crystal_labels)"
   ]
  },
  {
   "cell_type": "code",
   "execution_count": 36,
   "metadata": {},
   "outputs": [],
   "source": [
    "test_reg_pred = test_reg.predict(crystal_1h_arr)"
   ]
  },
  {
   "cell_type": "code",
   "execution_count": 37,
   "metadata": {},
   "outputs": [],
   "source": [
    "test_mse = mean_squared_error(test_reg_pred, crystal_labels)"
   ]
  },
  {
   "cell_type": "code",
   "execution_count": 38,
   "metadata": {},
   "outputs": [
    {
     "name": "stdout",
     "output_type": "stream",
     "text": [
      "Scores: 42.89033484273397\n",
      "Mean: 42.89033484273397\n",
      "Standard deviation: 0.0\n"
     ]
    }
   ],
   "source": [
    "display_scores(np.sqrt(test_mse))"
   ]
  },
  {
   "cell_type": "code",
   "execution_count": 207,
   "metadata": {},
   "outputs": [],
   "source": [
    "test_reg_pred_test = test_reg.predict(processing_pipeline.fit_transform(test_set))"
   ]
  },
  {
   "cell_type": "code",
   "execution_count": 209,
   "metadata": {},
   "outputs": [
    {
     "data": {
      "text/plain": [
       "107.04765794173612"
      ]
     },
     "execution_count": 209,
     "metadata": {},
     "output_type": "execute_result"
    }
   ],
   "source": [
    "np.sqrt(mean_squared_error(test_reg_pred_test, test_set['PHIMODEL'].copy()))"
   ]
  },
  {
   "cell_type": "markdown",
   "metadata": {},
   "source": [
    "#### Feature Importances"
   ]
  },
  {
   "cell_type": "code",
   "execution_count": 39,
   "metadata": {},
   "outputs": [],
   "source": [
    "def display_features_importances(tree_model, dataframe):\n",
    "    paired_features = zip(tree_model.feature_importances_, dataframe.columns)\n",
    "    return sorted(paired_features, reverse=True)"
   ]
  },
  {
   "cell_type": "code",
   "execution_count": 73,
   "metadata": {},
   "outputs": [
    {
     "data": {
      "text/plain": [
       "[(0.21806264103367198, 'FOBS'),\n",
       " (0.21662124601905944, 'RESOL'),\n",
       " (0.21292330467015344, 'SIGFOBS'),\n",
       " (0.11410991685570256, 'index_k'),\n",
       " (0.10896457215187516, 'index_l'),\n",
       " (0.10476116777306632, 'index_h'),\n",
       " (0.003307501439833692, 'MW'),\n",
       " (0.0032531879431497656, 'length_a'),\n",
       " (0.0029233635060326585, 'length_b'),\n",
       " (0.0029081022872981138, 'SOLV'),\n",
       " (0.002695644041276695, 'length_c'),\n",
       " (0.002524166458407795, 'volume'),\n",
       " (0.0010978195306000505, 'angle_alpha'),\n",
       " (0.0010077808479985971, 'angle_gamma'),\n",
       " (0.0009323264391158982, 'angle_beta'),\n",
       " (0.0006587253055716325, 'crystal_system_orthorhombic'),\n",
       " (0.0006420309464474813, 'name_H-M_alt_I 4'),\n",
       " (0.0005631551156035925, 'crystal_system_tetragonal'),\n",
       " (0.0003602955322485874, 'name_H-M_alt_P 21 21 21'),\n",
       " (0.00035747336348354526, 'name_H-M_alt_P 1'),\n",
       " (0.0003306355677988264, 'crystal_system_triclinic'),\n",
       " (0.0002508912538942365, 'name_H-M_alt_P 2 21 21'),\n",
       " (0.0002240439344222608, 'crystal_system_monoclinic'),\n",
       " (0.00021208398956460594, 'name_H-M_alt_P 1 21 1'),\n",
       " (0.0001358289578236726, 'SYNCHROTRON_N'),\n",
       " (8.861960490145376e-05, 'SYNCHROTRON_Y'),\n",
       " (4.436380139517218e-05, 'name_H-M_alt_P 63'),\n",
       " (3.911162960262134e-05, 'crystal_system_hexagonal')]"
      ]
     },
     "execution_count": 73,
     "metadata": {},
     "output_type": "execute_result"
    }
   ],
   "source": [
    "display_features_importances(test_reg, crystal_1h)"
   ]
  },
  {
   "cell_type": "code",
   "execution_count": 74,
   "metadata": {},
   "outputs": [],
   "source": [
    "rfr_feature_importances = test_reg.feature_importances_"
   ]
  },
  {
   "cell_type": "markdown",
   "metadata": {},
   "source": [
    "## Improving Models"
   ]
  },
  {
   "cell_type": "code",
   "execution_count": 74,
   "metadata": {},
   "outputs": [],
   "source": [
    "from sklearn.pipeline import Pipeline, FeatureUnion"
   ]
  },
  {
   "cell_type": "code",
   "execution_count": 75,
   "metadata": {},
   "outputs": [],
   "source": [
    "from sklearn.base import BaseEstimator, TransformerMixin"
   ]
  },
  {
   "cell_type": "markdown",
   "metadata": {},
   "source": [
    "### Reference Regressor"
   ]
  },
  {
   "cell_type": "code",
   "execution_count": 76,
   "metadata": {},
   "outputs": [],
   "source": [
    "class ReferenceRegressor(BaseEstimator):\n",
    "    \n",
    "    def fit(self, X, y=None):\n",
    "        pass\n",
    "    \n",
    "    def predict(self, y):\n",
    "        return -180.0+360*np.random.rand(y.shape[0])"
   ]
  },
  {
   "cell_type": "markdown",
   "metadata": {},
   "source": [
    "### Processing Pipeline"
   ]
  },
  {
   "cell_type": "markdown",
   "metadata": {},
   "source": [
    "#### DataFrame Selector"
   ]
  },
  {
   "cell_type": "code",
   "execution_count": 77,
   "metadata": {},
   "outputs": [],
   "source": [
    "class DataFrameSelector(BaseEstimator, TransformerMixin):\n",
    "    \n",
    "    def __init__(self, attribute_names):\n",
    "        self.attribute_names = attribute_names\n",
    "    \n",
    "    def fit(self, X, y=None):\n",
    "        return self\n",
    "    \n",
    "    def transform(self, X):\n",
    "        return X[self.attribute_names].values"
   ]
  },
  {
   "cell_type": "markdown",
   "metadata": {},
   "source": [
    "#### Specifying Attributes"
   ]
  },
  {
   "cell_type": "code",
   "execution_count": 78,
   "metadata": {},
   "outputs": [],
   "source": [
    "cat_attributes = ['crystal_system', 'name_H-M_alt']"
   ]
  },
  {
   "cell_type": "code",
   "execution_count": 79,
   "metadata": {},
   "outputs": [],
   "source": [
    "num_attributes = ['FOBS', 'SIGFOBS',\n",
    "       'RESOL', 'length_a', 'length_b', 'length_c', 'angle_alpha', 'angle_beta', 'angle_gamma',\n",
    "       'volume', 'MW']"
   ]
  },
  {
   "cell_type": "code",
   "execution_count": 80,
   "metadata": {},
   "outputs": [],
   "source": [
    "special_cat_attributes = ['index_h', 'index_k', 'index_l']"
   ]
  },
  {
   "cell_type": "markdown",
   "metadata": {},
   "source": [
    "#### Partial Pipelines"
   ]
  },
  {
   "cell_type": "code",
   "execution_count": 81,
   "metadata": {},
   "outputs": [],
   "source": [
    "from sklearn.preprocessing import StandardScaler\n",
    "from sklearn.preprocessing import MinMaxScaler"
   ]
  },
  {
   "cell_type": "code",
   "execution_count": 82,
   "metadata": {},
   "outputs": [],
   "source": [
    "from sklearn.preprocessing import OneHotEncoder"
   ]
  },
  {
   "cell_type": "code",
   "execution_count": 83,
   "metadata": {},
   "outputs": [],
   "source": [
    "num_pipeline = Pipeline([\n",
    "    ('selector', DataFrameSelector(num_attributes)),\n",
    "    ('scaler', StandardScaler()),\n",
    "])"
   ]
  },
  {
   "cell_type": "code",
   "execution_count": 84,
   "metadata": {},
   "outputs": [],
   "source": [
    "cat_pipeline = Pipeline([\n",
    "    ('selector', DataFrameSelector(cat_attributes)),\n",
    "    ('cat_encoder', OneHotEncoder(sparse=False)),\n",
    "])"
   ]
  },
  {
   "cell_type": "code",
   "execution_count": 85,
   "metadata": {},
   "outputs": [],
   "source": [
    "special_cat_pipeline = Pipeline([\n",
    "    ('selector', DataFrameSelector(special_cat_attributes)),   \n",
    "])"
   ]
  },
  {
   "cell_type": "markdown",
   "metadata": {},
   "source": [
    "#### Single Processing Pipeline"
   ]
  },
  {
   "cell_type": "code",
   "execution_count": 86,
   "metadata": {},
   "outputs": [],
   "source": [
    "processing_pipeline = FeatureUnion(transformer_list=[\n",
    "    ('num_pipeline', num_pipeline),\n",
    "    ('cat_pipeline', cat_pipeline),\n",
    "    ('special_cat_pipeline', special_cat_pipeline),\n",
    "])"
   ]
  },
  {
   "cell_type": "markdown",
   "metadata": {},
   "source": [
    "### Training ```RFR```"
   ]
  },
  {
   "cell_type": "code",
   "execution_count": 87,
   "metadata": {},
   "outputs": [],
   "source": [
    "new_full_pipeline = Pipeline([\n",
    "    ('processing_pipeline', processing_pipeline),\n",
    "    ('training_model', RandomForestRegressor(n_estimators=30, n_jobs=-1))\n",
    "])"
   ]
  },
  {
   "cell_type": "code",
   "execution_count": 88,
   "metadata": {},
   "outputs": [
    {
     "data": {
      "text/plain": [
       "Index(['Unnamed: 0', 'index_h', 'index_k', 'index_l', 'FOBS', 'SIGFOBS',\n",
       "       'FMODEL', 'PHIMODEL', 'FOM', 'RESOL', 'pdbx_r_free_flag',\n",
       "       'crystal_system', 'IT_number', 'name_H-M_alt', 'name_Hall',\n",
       "       'space_group_name_H-M', 'space_group_name_Hall', 'Int_Tables_number',\n",
       "       'length_a', 'length_b', 'length_c', 'angle_alpha', 'angle_beta',\n",
       "       'angle_gamma', 'volume', 'PHI_ERROR', 'SYNCHROTRON', 'SOLV', 'WILSON',\n",
       "       'MATTHEWS', 'MW', 'ID', 'cs_enc'],\n",
       "      dtype='object')"
      ]
     },
     "execution_count": 88,
     "metadata": {},
     "output_type": "execute_result"
    }
   ],
   "source": [
    "test_set.columns"
   ]
  },
  {
   "cell_type": "code",
   "execution_count": 89,
   "metadata": {},
   "outputs": [],
   "source": [
    "new_rfr = new_full_pipeline.fit(crystal, crystal_labels)"
   ]
  },
  {
   "cell_type": "code",
   "execution_count": 90,
   "metadata": {},
   "outputs": [],
   "source": [
    "new_rfr_pred_train = new_rfr.predict(test_set)"
   ]
  },
  {
   "cell_type": "code",
   "execution_count": 91,
   "metadata": {},
   "outputs": [
    {
     "ename": "NameError",
     "evalue": "name 'test_labels' is not defined",
     "output_type": "error",
     "traceback": [
      "\u001b[1;31m---------------------------------------------------------------------------\u001b[0m",
      "\u001b[1;31mNameError\u001b[0m                                 Traceback (most recent call last)",
      "\u001b[1;32m<ipython-input-91-0a12bc8f057d>\u001b[0m in \u001b[0;36m<module>\u001b[1;34m()\u001b[0m\n\u001b[1;32m----> 1\u001b[1;33m \u001b[0mnp\u001b[0m\u001b[1;33m.\u001b[0m\u001b[0msqrt\u001b[0m\u001b[1;33m(\u001b[0m\u001b[0mmean_squared_error\u001b[0m\u001b[1;33m(\u001b[0m\u001b[0mnew_rfr_pred_train\u001b[0m\u001b[1;33m,\u001b[0m \u001b[0mtest_labels\u001b[0m\u001b[1;33m)\u001b[0m\u001b[1;33m)\u001b[0m\u001b[1;33m\u001b[0m\u001b[0m\n\u001b[0m",
      "\u001b[1;31mNameError\u001b[0m: name 'test_labels' is not defined"
     ]
    }
   ],
   "source": [
    "np.sqrt(mean_squared_error(new_rfr_pred_train, test_labels))"
   ]
  },
  {
   "cell_type": "markdown",
   "metadata": {},
   "source": [
    "### GridSearchCV \n",
    "\n",
    "* Using GridSearch on RandomForestRegressor"
   ]
  },
  {
   "cell_type": "code",
   "execution_count": 120,
   "metadata": {},
   "outputs": [],
   "source": [
    "from sklearn.model_selection import GridSearchCV"
   ]
  },
  {
   "cell_type": "code",
   "execution_count": 121,
   "metadata": {},
   "outputs": [],
   "source": [
    "from sklearn.ensemble import RandomForestRegressor"
   ]
  },
  {
   "cell_type": "code",
   "execution_count": 122,
   "metadata": {},
   "outputs": [],
   "source": [
    "rfr = RandomForestRegressor()"
   ]
  },
  {
   "cell_type": "code",
   "execution_count": 123,
   "metadata": {},
   "outputs": [],
   "source": [
    "param_grid = {'n_estimators':[10, 20, 30], 'max_features':[4, 15, 28]}            "
   ]
  },
  {
   "cell_type": "code",
   "execution_count": 131,
   "metadata": {},
   "outputs": [],
   "source": [
    "rfr_cv = GridSearchCV(rfr, param_grid, scoring='neg_mean_squared_error', n_jobs=-1, verbose=2, cv=3)"
   ]
  },
  {
   "cell_type": "code",
   "execution_count": 132,
   "metadata": {},
   "outputs": [
    {
     "name": "stdout",
     "output_type": "stream",
     "text": [
      "Fitting 3 folds for each of 9 candidates, totalling 27 fits\n"
     ]
    },
    {
     "name": "stderr",
     "output_type": "stream",
     "text": [
      "[Parallel(n_jobs=-1)]: Using backend LokyBackend with 4 concurrent workers.\n",
      "[Parallel(n_jobs=-1)]: Done  27 out of  27 | elapsed: 20.2min finished\n"
     ]
    },
    {
     "data": {
      "text/plain": [
       "GridSearchCV(cv=3, error_score='raise-deprecating',\n",
       "       estimator=RandomForestRegressor(bootstrap=True, criterion='mse', max_depth=None,\n",
       "           max_features='auto', max_leaf_nodes=None,\n",
       "           min_impurity_decrease=0.0, min_impurity_split=None,\n",
       "           min_samples_leaf=1, min_samples_split=2,\n",
       "           min_weight_fraction_leaf=0.0, n_estimators='warn', n_jobs=None,\n",
       "           oob_score=False, random_state=None, verbose=0, warm_start=False),\n",
       "       fit_params=None, iid='warn', n_jobs=-1,\n",
       "       param_grid={'n_estimators': [10, 20, 30], 'max_features': [4, 15, 28]},\n",
       "       pre_dispatch='2*n_jobs', refit=True, return_train_score='warn',\n",
       "       scoring='neg_mean_squared_error', verbose=2)"
      ]
     },
     "execution_count": 132,
     "metadata": {},
     "output_type": "execute_result"
    }
   ],
   "source": [
    "rfr_cv.fit(crystal_1h_arr, crystal_labels)"
   ]
  },
  {
   "cell_type": "code",
   "execution_count": 164,
   "metadata": {},
   "outputs": [],
   "source": [
    "from sklearn.externals import joblib"
   ]
  },
  {
   "cell_type": "code",
   "execution_count": 165,
   "metadata": {},
   "outputs": [
    {
     "data": {
      "text/plain": [
       "['rfr_cv.pkl']"
      ]
     },
     "execution_count": 165,
     "metadata": {},
     "output_type": "execute_result"
    }
   ],
   "source": [
    "joblib.dump(rfr_cv, 'rfr_cv.pkl')"
   ]
  },
  {
   "cell_type": "code",
   "execution_count": 188,
   "metadata": {},
   "outputs": [
    {
     "data": {
      "text/plain": [
       "107.51007593832867"
      ]
     },
     "execution_count": 188,
     "metadata": {},
     "output_type": "execute_result"
    }
   ],
   "source": [
    "np.sqrt(-rfr_cv.best_score_)"
   ]
  },
  {
   "cell_type": "code",
   "execution_count": 189,
   "metadata": {},
   "outputs": [
    {
     "data": {
      "text/plain": [
       "RandomForestRegressor(bootstrap=True, criterion='mse', max_depth=None,\n",
       "           max_features=28, max_leaf_nodes=None, min_impurity_decrease=0.0,\n",
       "           min_impurity_split=None, min_samples_leaf=1,\n",
       "           min_samples_split=2, min_weight_fraction_leaf=0.0,\n",
       "           n_estimators=30, n_jobs=None, oob_score=False,\n",
       "           random_state=None, verbose=0, warm_start=False)"
      ]
     },
     "execution_count": 189,
     "metadata": {},
     "output_type": "execute_result"
    }
   ],
   "source": [
    "rfr_cv.best_estimator_"
   ]
  },
  {
   "cell_type": "code",
   "execution_count": null,
   "metadata": {},
   "outputs": [],
   "source": [
    "param_grid = {\n",
    "    {'n_estimators':[10, 100, 500],\n",
    "    'max_depth':[10, 50, 100, 500],\n",
    "     'max_leaf_nodes':[20, 50, 100]}\n",
    "    {'bootstrap':[False],\n",
    "    'max_depth':[10, 50, 100, 500]\n",
    "    }    \n",
    "}"
   ]
  },
  {
   "cell_type": "code",
   "execution_count": null,
   "metadata": {},
   "outputs": [],
   "source": [
    "rfr_cv = GridSearchCV(rfr, param_grid, scoring='neg_mean_squared_error', n_jobs=-1, verbose=2, cv=3)"
   ]
  },
  {
   "cell_type": "markdown",
   "metadata": {},
   "source": [
    "### Applying Best Params"
   ]
  },
  {
   "cell_type": "code",
   "execution_count": 171,
   "metadata": {},
   "outputs": [],
   "source": [
    "full_pipeline = Pipeline([\n",
    "    ('processing', processing_pipeline),\n",
    "    ('train_model', RandomForestRegressor(n_jobs=-1, **rfr_cv.best_params_))\n",
    "])"
   ]
  },
  {
   "cell_type": "code",
   "execution_count": 158,
   "metadata": {},
   "outputs": [
    {
     "data": {
      "text/plain": [
       "{'max_features': 28, 'n_estimators': 30}"
      ]
     },
     "execution_count": 158,
     "metadata": {},
     "output_type": "execute_result"
    }
   ],
   "source": [
    "rfr_cv.best_params_"
   ]
  },
  {
   "cell_type": "code",
   "execution_count": 159,
   "metadata": {},
   "outputs": [
    {
     "data": {
      "text/plain": [
       "(541187, 32)"
      ]
     },
     "execution_count": 159,
     "metadata": {},
     "output_type": "execute_result"
    }
   ],
   "source": [
    "crystal.shape"
   ]
  },
  {
   "cell_type": "code",
   "execution_count": 160,
   "metadata": {},
   "outputs": [],
   "source": [
    "rfr_bp = full_pipeline.fit(crystal, crystal_labels)"
   ]
  },
  {
   "cell_type": "code",
   "execution_count": 161,
   "metadata": {},
   "outputs": [],
   "source": [
    "rfr_bp_pred = rfr_bp.predict(crystal)"
   ]
  },
  {
   "cell_type": "code",
   "execution_count": 162,
   "metadata": {},
   "outputs": [
    {
     "data": {
      "text/plain": [
       "41.56996342883055"
      ]
     },
     "execution_count": 162,
     "metadata": {},
     "output_type": "execute_result"
    }
   ],
   "source": [
    "np.sqrt(mean_squared_error(rfr_bp_pred, crystal_labels))"
   ]
  },
  {
   "cell_type": "markdown",
   "metadata": {},
   "source": [
    "##### Using test set (forbidden!)"
   ]
  },
  {
   "cell_type": "code",
   "execution_count": 121,
   "metadata": {},
   "outputs": [],
   "source": [
    "test_labels = test_set['PHIMODEL'].copy()"
   ]
  },
  {
   "cell_type": "code",
   "execution_count": 182,
   "metadata": {},
   "outputs": [],
   "source": [
    "rfr_bp_test_pred = rfr_bp.predict(test_set)"
   ]
  },
  {
   "cell_type": "code",
   "execution_count": 183,
   "metadata": {},
   "outputs": [
    {
     "data": {
      "text/plain": [
       "107.2738356529547"
      ]
     },
     "execution_count": 183,
     "metadata": {},
     "output_type": "execute_result"
    }
   ],
   "source": [
    "np.sqrt(mean_squared_error(rfr_bp_test_pred, test_labels))"
   ]
  },
  {
   "cell_type": "markdown",
   "metadata": {},
   "source": [
    "### Selecting K Best"
   ]
  },
  {
   "cell_type": "code",
   "execution_count": 96,
   "metadata": {},
   "outputs": [],
   "source": [
    "def indices_of_top_k(arr, k):\n",
    "    return np.sort(np.argpartition(np.array(arr), -k)[-k:])"
   ]
  },
  {
   "cell_type": "code",
   "execution_count": 97,
   "metadata": {},
   "outputs": [],
   "source": [
    "class SelectKBest():\n",
    "    \n",
    "    def __init__(self, k, feature_importances):\n",
    "        self.k = k\n",
    "        self.feature_importances = feature_importances\n",
    "        \n",
    "    def fit(self, X, y=None):\n",
    "        self.feature_indices_ = indices_of_top_k(self.feature_importances, self.k)\n",
    "        return self\n",
    "    \n",
    "    def transform(self, X):\n",
    "        return X[:, self.feature_indices_]"
   ]
  },
  {
   "cell_type": "code",
   "execution_count": 190,
   "metadata": {},
   "outputs": [],
   "source": [
    "full_pipeline2 = Pipeline([\n",
    "    ('processing', processing_pipeline),\n",
    "    ('feature_selection', SelectKBest(7, rfr_feature_importances)),\n",
    "    ('train_model', RandomForestRegressor(n_jobs=-1, n_estimators=30))\n",
    "])"
   ]
  },
  {
   "cell_type": "code",
   "execution_count": 191,
   "metadata": {},
   "outputs": [],
   "source": [
    "rfr_kbest = full_pipeline2.fit(crystal, crystal_labels)"
   ]
  },
  {
   "cell_type": "code",
   "execution_count": 192,
   "metadata": {},
   "outputs": [],
   "source": [
    "rfr_kbest_pred = rfr_kbest.predict(crystal)"
   ]
  },
  {
   "cell_type": "code",
   "execution_count": 193,
   "metadata": {},
   "outputs": [
    {
     "data": {
      "text/plain": [
       "41.55188225950301"
      ]
     },
     "execution_count": 193,
     "metadata": {},
     "output_type": "execute_result"
    }
   ],
   "source": [
    "np.sqrt(mean_squared_error(rfr_kbest_pred, crystal_labels))"
   ]
  },
  {
   "cell_type": "code",
   "execution_count": 194,
   "metadata": {},
   "outputs": [],
   "source": [
    "rfr_kbest_pred_test = rfr_kbest.predict(test_set)"
   ]
  },
  {
   "cell_type": "code",
   "execution_count": 195,
   "metadata": {},
   "outputs": [
    {
     "data": {
      "text/plain": [
       "107.16324970374899"
      ]
     },
     "execution_count": 195,
     "metadata": {},
     "output_type": "execute_result"
    }
   ],
   "source": [
    "np.sqrt(mean_squared_error(rfr_kbest_pred_test, test_labels))"
   ]
  },
  {
   "cell_type": "markdown",
   "metadata": {},
   "source": [
    "#### Increasing ```n_estimators```"
   ]
  },
  {
   "cell_type": "code",
   "execution_count": 92,
   "metadata": {},
   "outputs": [],
   "source": [
    "full_pipeline3 = Pipeline([\n",
    "    ('processing', processing_pipeline),\n",
    "    ('train_model', RandomForestRegressor(n_jobs=-1, max_features=1.0, n_estimators=100))\n",
    "])"
   ]
  },
  {
   "cell_type": "code",
   "execution_count": null,
   "metadata": {},
   "outputs": [],
   "source": [
    "rfr_inc_nest = full_pipeline3.fit(crystal, crystal_labels)"
   ]
  },
  {
   "cell_type": "code",
   "execution_count": null,
   "metadata": {},
   "outputs": [],
   "source": [
    "rfr_inc_nest_pred = rfr_inc_nest.predict(test_set)"
   ]
  },
  {
   "cell_type": "code",
   "execution_count": null,
   "metadata": {},
   "outputs": [],
   "source": [
    "np.sqrt(mean_squared_error(rfr_inc_nest.predict(crystal), crystal_labels))"
   ]
  },
  {
   "cell_type": "code",
   "execution_count": null,
   "metadata": {},
   "outputs": [],
   "source": [
    "np.sqrt(mean_squared_error(rfr_inc_nest_pred, test_labels))"
   ]
  },
  {
   "cell_type": "markdown",
   "metadata": {},
   "source": [
    "#### Using ```ReferenceRegressor```"
   ]
  },
  {
   "cell_type": "code",
   "execution_count": 77,
   "metadata": {},
   "outputs": [],
   "source": [
    "rg = ReferenceRegressor()"
   ]
  },
  {
   "cell_type": "code",
   "execution_count": 78,
   "metadata": {},
   "outputs": [
    {
     "data": {
      "text/plain": [
       "147.35577843785953"
      ]
     },
     "execution_count": 78,
     "metadata": {},
     "output_type": "execute_result"
    }
   ],
   "source": [
    "np.sqrt(mean_squared_error(rg.predict(crystal), crystal_labels))"
   ]
  },
  {
   "cell_type": "markdown",
   "metadata": {},
   "source": [
    "---\n",
    "## Conclusions \n",
    "\n",
    "* ```RandomForestRegressor``` is the most performant model until now. Explore some preparation steps using the smallest dataset (```sample1.csv```).\n",
    "* We have a badly overfitting model, with twice the error on the test set.\n",
    "\n",
    "\n",
    "**Further Objectives**\n",
    "* Understanding how statistical distributions are specified in *scipy*. Study it for ```RandomizedGridSearch```.\n",
    "* Implement ideas of pipelines used along with grid search as show in [Evan Miller Notebook](https://www.kaggle.com/evanmiller/pipelines-gridsearch-awesome-ml-pipelines).\n",
    "\n",
    "**Further Studies**\n",
    "* Normalized structure factors ($E$) in direct methods. \n",
    "* Take care of subtle normalizations and interpretation of each crystallographic feature."
   ]
  }
 ],
 "metadata": {
  "kernelspec": {
   "display_name": "Python 3",
   "language": "python",
   "name": "python3"
  },
  "language_info": {
   "codemirror_mode": {
    "name": "ipython",
    "version": 3
   },
   "file_extension": ".py",
   "mimetype": "text/x-python",
   "name": "python",
   "nbconvert_exporter": "python",
   "pygments_lexer": "ipython3",
   "version": "3.7.3"
  }
 },
 "nbformat": 4,
 "nbformat_minor": 2
}
