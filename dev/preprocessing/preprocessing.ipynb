{
 "cells": [
  {
   "cell_type": "markdown",
   "metadata": {},
   "source": [
    "# Preprocess \n",
    "\n",
    "* Gather info from *.pdb* and *.cif* files.\n",
    "* Build a a *pandas* ```DataFrame```\n",
    "* Save data externally, naming according to the sample of files that originated it."
   ]
  },
  {
   "cell_type": "code",
   "execution_count": 1,
   "metadata": {},
   "outputs": [],
   "source": [
    "from xtalphases.data.preprocess import *\n",
    "from xtalphases import __userpath__ as user_path"
   ]
  },
  {
   "cell_type": "code",
   "execution_count": 2,
   "metadata": {},
   "outputs": [],
   "source": [
    "import numpy as np"
   ]
  },
  {
   "cell_type": "code",
   "execution_count": 8,
   "metadata": {},
   "outputs": [],
   "source": [
    "mw_data = user_path + '/exploration/data/pdb/mw-ext.xlsx'"
   ]
  },
  {
   "cell_type": "code",
   "execution_count": 9,
   "metadata": {},
   "outputs": [],
   "source": [
    "user_path = 'D:/USP/IC/Repositório/xtalphases/'"
   ]
  },
  {
   "cell_type": "markdown",
   "metadata": {},
   "source": [
    "## Tests"
   ]
  },
  {
   "cell_type": "markdown",
   "metadata": {},
   "source": [
    "### Sample file "
   ]
  },
  {
   "cell_type": "code",
   "execution_count": 10,
   "metadata": {},
   "outputs": [],
   "source": [
    "cif_sample = user_path + '/exploration/data/phases/4was_RCSB_phases.cif'\n",
    "pdb_sample = user_path + '/exploration/data/pdb/4was_RCSB.pdb'"
   ]
  },
  {
   "cell_type": "code",
   "execution_count": 11,
   "metadata": {},
   "outputs": [],
   "source": [
    "cifparser = CIFParser(cif_sample)"
   ]
  },
  {
   "cell_type": "code",
   "execution_count": 12,
   "metadata": {},
   "outputs": [],
   "source": [
    "cifparser.parse()"
   ]
  },
  {
   "cell_type": "code",
   "execution_count": 13,
   "metadata": {},
   "outputs": [],
   "source": [
    "pdbparser = PDBParser(pdb_sample)"
   ]
  },
  {
   "cell_type": "code",
   "execution_count": 14,
   "metadata": {},
   "outputs": [],
   "source": [
    "pdbparser.parse()"
   ]
  },
  {
   "cell_type": "markdown",
   "metadata": {},
   "source": [
    "**Molecular Weight**"
   ]
  },
  {
   "cell_type": "code",
   "execution_count": 15,
   "metadata": {},
   "outputs": [],
   "source": [
    "mwext = mw_ext_parse(mw_data)"
   ]
  },
  {
   "cell_type": "markdown",
   "metadata": {},
   "source": [
    "**PDB**"
   ]
  },
  {
   "cell_type": "code",
   "execution_count": 16,
   "metadata": {},
   "outputs": [],
   "source": [
    "pdb_header = pdbparser.header_to_series()"
   ]
  },
  {
   "cell_type": "code",
   "execution_count": 17,
   "metadata": {},
   "outputs": [
    {
     "data": {
      "text/plain": [
       "SYNCHROTRON        Y\n",
       "SOLV           60.18\n",
       "WILSON          NULL\n",
       "MATTHEWS        3.09\n",
       "dtype: object"
      ]
     },
     "execution_count": 17,
     "metadata": {},
     "output_type": "execute_result"
    }
   ],
   "source": [
    "pdb_header"
   ]
  },
  {
   "cell_type": "markdown",
   "metadata": {},
   "source": [
    "**CIF**"
   ]
  },
  {
   "cell_type": "code",
   "execution_count": 18,
   "metadata": {},
   "outputs": [],
   "source": [
    "cifheader_cols = ['crystal_system', 'name_H-M_alt', 'length_a', \n",
    "                  'length_b', 'length_c', 'angle_alpha', \n",
    "                  'angle_beta', 'angle_gamma', 'volume']"
   ]
  },
  {
   "cell_type": "code",
   "execution_count": 19,
   "metadata": {},
   "outputs": [],
   "source": [
    "cif_df = cifparser.header_refln_df(headercols=cifheader_cols, phierror=True)"
   ]
  },
  {
   "cell_type": "code",
   "execution_count": 20,
   "metadata": {},
   "outputs": [
    {
     "data": {
      "text/html": [
       "<div>\n",
       "<style scoped>\n",
       "    .dataframe tbody tr th:only-of-type {\n",
       "        vertical-align: middle;\n",
       "    }\n",
       "\n",
       "    .dataframe tbody tr th {\n",
       "        vertical-align: top;\n",
       "    }\n",
       "\n",
       "    .dataframe thead th {\n",
       "        text-align: right;\n",
       "    }\n",
       "</style>\n",
       "<table border=\"1\" class=\"dataframe\">\n",
       "  <thead>\n",
       "    <tr style=\"text-align: right;\">\n",
       "      <th></th>\n",
       "      <th>index_h</th>\n",
       "      <th>index_k</th>\n",
       "      <th>index_l</th>\n",
       "      <th>FOBS</th>\n",
       "      <th>SIGFOBS</th>\n",
       "      <th>FMODEL</th>\n",
       "      <th>PHIMODEL</th>\n",
       "      <th>FOM</th>\n",
       "      <th>RESOL</th>\n",
       "      <th>pdbx_r_free_flag</th>\n",
       "      <th>crystal_system</th>\n",
       "      <th>name_H-M_alt</th>\n",
       "      <th>length_a</th>\n",
       "      <th>length_b</th>\n",
       "      <th>length_c</th>\n",
       "      <th>angle_alpha</th>\n",
       "      <th>angle_beta</th>\n",
       "      <th>angle_gamma</th>\n",
       "      <th>volume</th>\n",
       "      <th>PHI_ERROR</th>\n",
       "    </tr>\n",
       "  </thead>\n",
       "  <tbody>\n",
       "    <tr>\n",
       "      <th>0</th>\n",
       "      <td>-87</td>\n",
       "      <td>1</td>\n",
       "      <td>8</td>\n",
       "      <td>20.1788</td>\n",
       "      <td>10.4634</td>\n",
       "      <td>32.700400</td>\n",
       "      <td>44.0551</td>\n",
       "      <td>0.740392</td>\n",
       "      <td>1.70001</td>\n",
       "      <td>0</td>\n",
       "      <td>monoclinic</td>\n",
       "      <td>C 1 2 1</td>\n",
       "      <td>147.92</td>\n",
       "      <td>106.14</td>\n",
       "      <td>94.41</td>\n",
       "      <td>90.0</td>\n",
       "      <td>98.41</td>\n",
       "      <td>90.0</td>\n",
       "      <td>1466319.626</td>\n",
       "      <td>42.235181</td>\n",
       "    </tr>\n",
       "    <tr>\n",
       "      <th>1</th>\n",
       "      <td>-86</td>\n",
       "      <td>0</td>\n",
       "      <td>1</td>\n",
       "      <td>24.5824</td>\n",
       "      <td>17.6430</td>\n",
       "      <td>1.987330</td>\n",
       "      <td>0.0000</td>\n",
       "      <td>0.084655</td>\n",
       "      <td>1.70577</td>\n",
       "      <td>0</td>\n",
       "      <td>monoclinic</td>\n",
       "      <td>C 1 2 1</td>\n",
       "      <td>147.92</td>\n",
       "      <td>106.14</td>\n",
       "      <td>94.41</td>\n",
       "      <td>90.0</td>\n",
       "      <td>98.41</td>\n",
       "      <td>90.0</td>\n",
       "      <td>1466319.626</td>\n",
       "      <td>85.143791</td>\n",
       "    </tr>\n",
       "    <tr>\n",
       "      <th>2</th>\n",
       "      <td>-86</td>\n",
       "      <td>0</td>\n",
       "      <td>2</td>\n",
       "      <td>22.6266</td>\n",
       "      <td>16.7682</td>\n",
       "      <td>0.701489</td>\n",
       "      <td>180.0000</td>\n",
       "      <td>0.027563</td>\n",
       "      <td>1.70950</td>\n",
       "      <td>0</td>\n",
       "      <td>monoclinic</td>\n",
       "      <td>C 1 2 1</td>\n",
       "      <td>147.92</td>\n",
       "      <td>106.14</td>\n",
       "      <td>94.41</td>\n",
       "      <td>90.0</td>\n",
       "      <td>98.41</td>\n",
       "      <td>90.0</td>\n",
       "      <td>1466319.626</td>\n",
       "      <td>88.420539</td>\n",
       "    </tr>\n",
       "    <tr>\n",
       "      <th>3</th>\n",
       "      <td>-86</td>\n",
       "      <td>0</td>\n",
       "      <td>3</td>\n",
       "      <td>33.1398</td>\n",
       "      <td>23.5155</td>\n",
       "      <td>2.879980</td>\n",
       "      <td>0.0000</td>\n",
       "      <td>0.150623</td>\n",
       "      <td>1.71267</td>\n",
       "      <td>0</td>\n",
       "      <td>monoclinic</td>\n",
       "      <td>C 1 2 1</td>\n",
       "      <td>147.92</td>\n",
       "      <td>106.14</td>\n",
       "      <td>94.41</td>\n",
       "      <td>90.0</td>\n",
       "      <td>98.41</td>\n",
       "      <td>90.0</td>\n",
       "      <td>1466319.626</td>\n",
       "      <td>81.336968</td>\n",
       "    </tr>\n",
       "    <tr>\n",
       "      <th>4</th>\n",
       "      <td>-86</td>\n",
       "      <td>0</td>\n",
       "      <td>4</td>\n",
       "      <td>33.7438</td>\n",
       "      <td>23.8210</td>\n",
       "      <td>1.083010</td>\n",
       "      <td>180.0000</td>\n",
       "      <td>0.058051</td>\n",
       "      <td>1.71529</td>\n",
       "      <td>1</td>\n",
       "      <td>monoclinic</td>\n",
       "      <td>C 1 2 1</td>\n",
       "      <td>147.92</td>\n",
       "      <td>106.14</td>\n",
       "      <td>94.41</td>\n",
       "      <td>90.0</td>\n",
       "      <td>98.41</td>\n",
       "      <td>90.0</td>\n",
       "      <td>1466319.626</td>\n",
       "      <td>86.672063</td>\n",
       "    </tr>\n",
       "  </tbody>\n",
       "</table>\n",
       "</div>"
      ],
      "text/plain": [
       "   index_h  index_k  index_l     FOBS  SIGFOBS     FMODEL  PHIMODEL       FOM  \\\n",
       "0      -87        1        8  20.1788  10.4634  32.700400   44.0551  0.740392   \n",
       "1      -86        0        1  24.5824  17.6430   1.987330    0.0000  0.084655   \n",
       "2      -86        0        2  22.6266  16.7682   0.701489  180.0000  0.027563   \n",
       "3      -86        0        3  33.1398  23.5155   2.879980    0.0000  0.150623   \n",
       "4      -86        0        4  33.7438  23.8210   1.083010  180.0000  0.058051   \n",
       "\n",
       "     RESOL  pdbx_r_free_flag crystal_system name_H-M_alt  length_a  length_b  \\\n",
       "0  1.70001                 0     monoclinic      C 1 2 1    147.92    106.14   \n",
       "1  1.70577                 0     monoclinic      C 1 2 1    147.92    106.14   \n",
       "2  1.70950                 0     monoclinic      C 1 2 1    147.92    106.14   \n",
       "3  1.71267                 0     monoclinic      C 1 2 1    147.92    106.14   \n",
       "4  1.71529                 1     monoclinic      C 1 2 1    147.92    106.14   \n",
       "\n",
       "   length_c  angle_alpha  angle_beta  angle_gamma       volume  PHI_ERROR  \n",
       "0     94.41         90.0       98.41         90.0  1466319.626  42.235181  \n",
       "1     94.41         90.0       98.41         90.0  1466319.626  85.143791  \n",
       "2     94.41         90.0       98.41         90.0  1466319.626  88.420539  \n",
       "3     94.41         90.0       98.41         90.0  1466319.626  81.336968  \n",
       "4     94.41         90.0       98.41         90.0  1466319.626  86.672063  "
      ]
     },
     "execution_count": 20,
     "metadata": {},
     "output_type": "execute_result"
    }
   ],
   "source": [
    "cif_df.head()"
   ]
  },
  {
   "cell_type": "code",
   "execution_count": 21,
   "metadata": {},
   "outputs": [
    {
     "data": {
      "text/plain": [
       "Index(['index_h', 'index_k', 'index_l', 'FOBS', 'SIGFOBS', 'FMODEL',\n",
       "       'PHIMODEL', 'FOM', 'RESOL', 'pdbx_r_free_flag', 'crystal_system',\n",
       "       'name_H-M_alt', 'length_a', 'length_b', 'length_c', 'angle_alpha',\n",
       "       'angle_beta', 'angle_gamma', 'volume', 'PHI_ERROR'],\n",
       "      dtype='object')"
      ]
     },
     "execution_count": 21,
     "metadata": {},
     "output_type": "execute_result"
    }
   ],
   "source": [
    "cif_df.columns"
   ]
  },
  {
   "cell_type": "markdown",
   "metadata": {},
   "source": [
    "**CIF + PDB**"
   ]
  },
  {
   "cell_type": "code",
   "execution_count": 17,
   "metadata": {},
   "outputs": [],
   "source": [
    "master_df = cif_df.copy()"
   ]
  },
  {
   "cell_type": "code",
   "execution_count": 18,
   "metadata": {},
   "outputs": [],
   "source": [
    "for key in pdb_header.keys():\n",
    "    master_df[key] = pdb_header[key]"
   ]
  },
  {
   "cell_type": "code",
   "execution_count": 19,
   "metadata": {},
   "outputs": [
    {
     "data": {
      "text/plain": [
       "Index(['index_h', 'index_k', 'index_l', 'FOBS', 'SIGFOBS', 'FMODEL',\n",
       "       'PHIMODEL', 'FOM', 'RESOL', 'pdbx_r_free_flag', 'crystal_system',\n",
       "       'name_H-M_alt', 'length_a', 'length_b', 'length_c', 'angle_alpha',\n",
       "       'angle_beta', 'angle_gamma', 'volume', 'PHI_ERROR', 'SYNCHROTRON',\n",
       "       'SOLV', 'WILSON', 'MATTHEWS'],\n",
       "      dtype='object')"
      ]
     },
     "execution_count": 19,
     "metadata": {},
     "output_type": "execute_result"
    }
   ],
   "source": [
    "master_df.columns"
   ]
  },
  {
   "cell_type": "code",
   "execution_count": 20,
   "metadata": {},
   "outputs": [
    {
     "data": {
      "text/html": [
       "<div>\n",
       "<style scoped>\n",
       "    .dataframe tbody tr th:only-of-type {\n",
       "        vertical-align: middle;\n",
       "    }\n",
       "\n",
       "    .dataframe tbody tr th {\n",
       "        vertical-align: top;\n",
       "    }\n",
       "\n",
       "    .dataframe thead th {\n",
       "        text-align: right;\n",
       "    }\n",
       "</style>\n",
       "<table border=\"1\" class=\"dataframe\">\n",
       "  <thead>\n",
       "    <tr style=\"text-align: right;\">\n",
       "      <th></th>\n",
       "      <th>index_h</th>\n",
       "      <th>index_k</th>\n",
       "      <th>index_l</th>\n",
       "      <th>FOBS</th>\n",
       "      <th>SIGFOBS</th>\n",
       "      <th>FMODEL</th>\n",
       "      <th>PHIMODEL</th>\n",
       "      <th>FOM</th>\n",
       "      <th>RESOL</th>\n",
       "      <th>pdbx_r_free_flag</th>\n",
       "      <th>...</th>\n",
       "      <th>length_c</th>\n",
       "      <th>angle_alpha</th>\n",
       "      <th>angle_beta</th>\n",
       "      <th>angle_gamma</th>\n",
       "      <th>volume</th>\n",
       "      <th>PHI_ERROR</th>\n",
       "      <th>SYNCHROTRON</th>\n",
       "      <th>SOLV</th>\n",
       "      <th>WILSON</th>\n",
       "      <th>MATTHEWS</th>\n",
       "    </tr>\n",
       "  </thead>\n",
       "  <tbody>\n",
       "    <tr>\n",
       "      <th>0</th>\n",
       "      <td>-87</td>\n",
       "      <td>1</td>\n",
       "      <td>8</td>\n",
       "      <td>20.1788</td>\n",
       "      <td>10.4634</td>\n",
       "      <td>32.700400</td>\n",
       "      <td>44.0551</td>\n",
       "      <td>0.740392</td>\n",
       "      <td>1.70001</td>\n",
       "      <td>0</td>\n",
       "      <td>...</td>\n",
       "      <td>94.41</td>\n",
       "      <td>90.0</td>\n",
       "      <td>98.41</td>\n",
       "      <td>90.0</td>\n",
       "      <td>1466319.626</td>\n",
       "      <td>42.235181</td>\n",
       "      <td>Y</td>\n",
       "      <td>60.18</td>\n",
       "      <td>NULL</td>\n",
       "      <td>3.09</td>\n",
       "    </tr>\n",
       "    <tr>\n",
       "      <th>1</th>\n",
       "      <td>-86</td>\n",
       "      <td>0</td>\n",
       "      <td>1</td>\n",
       "      <td>24.5824</td>\n",
       "      <td>17.6430</td>\n",
       "      <td>1.987330</td>\n",
       "      <td>0.0000</td>\n",
       "      <td>0.084655</td>\n",
       "      <td>1.70577</td>\n",
       "      <td>0</td>\n",
       "      <td>...</td>\n",
       "      <td>94.41</td>\n",
       "      <td>90.0</td>\n",
       "      <td>98.41</td>\n",
       "      <td>90.0</td>\n",
       "      <td>1466319.626</td>\n",
       "      <td>85.143791</td>\n",
       "      <td>Y</td>\n",
       "      <td>60.18</td>\n",
       "      <td>NULL</td>\n",
       "      <td>3.09</td>\n",
       "    </tr>\n",
       "    <tr>\n",
       "      <th>2</th>\n",
       "      <td>-86</td>\n",
       "      <td>0</td>\n",
       "      <td>2</td>\n",
       "      <td>22.6266</td>\n",
       "      <td>16.7682</td>\n",
       "      <td>0.701489</td>\n",
       "      <td>180.0000</td>\n",
       "      <td>0.027563</td>\n",
       "      <td>1.70950</td>\n",
       "      <td>0</td>\n",
       "      <td>...</td>\n",
       "      <td>94.41</td>\n",
       "      <td>90.0</td>\n",
       "      <td>98.41</td>\n",
       "      <td>90.0</td>\n",
       "      <td>1466319.626</td>\n",
       "      <td>88.420539</td>\n",
       "      <td>Y</td>\n",
       "      <td>60.18</td>\n",
       "      <td>NULL</td>\n",
       "      <td>3.09</td>\n",
       "    </tr>\n",
       "    <tr>\n",
       "      <th>3</th>\n",
       "      <td>-86</td>\n",
       "      <td>0</td>\n",
       "      <td>3</td>\n",
       "      <td>33.1398</td>\n",
       "      <td>23.5155</td>\n",
       "      <td>2.879980</td>\n",
       "      <td>0.0000</td>\n",
       "      <td>0.150623</td>\n",
       "      <td>1.71267</td>\n",
       "      <td>0</td>\n",
       "      <td>...</td>\n",
       "      <td>94.41</td>\n",
       "      <td>90.0</td>\n",
       "      <td>98.41</td>\n",
       "      <td>90.0</td>\n",
       "      <td>1466319.626</td>\n",
       "      <td>81.336968</td>\n",
       "      <td>Y</td>\n",
       "      <td>60.18</td>\n",
       "      <td>NULL</td>\n",
       "      <td>3.09</td>\n",
       "    </tr>\n",
       "    <tr>\n",
       "      <th>4</th>\n",
       "      <td>-86</td>\n",
       "      <td>0</td>\n",
       "      <td>4</td>\n",
       "      <td>33.7438</td>\n",
       "      <td>23.8210</td>\n",
       "      <td>1.083010</td>\n",
       "      <td>180.0000</td>\n",
       "      <td>0.058051</td>\n",
       "      <td>1.71529</td>\n",
       "      <td>1</td>\n",
       "      <td>...</td>\n",
       "      <td>94.41</td>\n",
       "      <td>90.0</td>\n",
       "      <td>98.41</td>\n",
       "      <td>90.0</td>\n",
       "      <td>1466319.626</td>\n",
       "      <td>86.672063</td>\n",
       "      <td>Y</td>\n",
       "      <td>60.18</td>\n",
       "      <td>NULL</td>\n",
       "      <td>3.09</td>\n",
       "    </tr>\n",
       "  </tbody>\n",
       "</table>\n",
       "<p>5 rows × 24 columns</p>\n",
       "</div>"
      ],
      "text/plain": [
       "   index_h  index_k  index_l     FOBS  SIGFOBS     FMODEL  PHIMODEL       FOM  \\\n",
       "0      -87        1        8  20.1788  10.4634  32.700400   44.0551  0.740392   \n",
       "1      -86        0        1  24.5824  17.6430   1.987330    0.0000  0.084655   \n",
       "2      -86        0        2  22.6266  16.7682   0.701489  180.0000  0.027563   \n",
       "3      -86        0        3  33.1398  23.5155   2.879980    0.0000  0.150623   \n",
       "4      -86        0        4  33.7438  23.8210   1.083010  180.0000  0.058051   \n",
       "\n",
       "     RESOL  pdbx_r_free_flag    ...    length_c angle_alpha  angle_beta  \\\n",
       "0  1.70001                 0    ...       94.41        90.0       98.41   \n",
       "1  1.70577                 0    ...       94.41        90.0       98.41   \n",
       "2  1.70950                 0    ...       94.41        90.0       98.41   \n",
       "3  1.71267                 0    ...       94.41        90.0       98.41   \n",
       "4  1.71529                 1    ...       94.41        90.0       98.41   \n",
       "\n",
       "   angle_gamma       volume  PHI_ERROR  SYNCHROTRON   SOLV  WILSON  MATTHEWS  \n",
       "0         90.0  1466319.626  42.235181            Y  60.18    NULL      3.09  \n",
       "1         90.0  1466319.626  85.143791            Y  60.18    NULL      3.09  \n",
       "2         90.0  1466319.626  88.420539            Y  60.18    NULL      3.09  \n",
       "3         90.0  1466319.626  81.336968            Y  60.18    NULL      3.09  \n",
       "4         90.0  1466319.626  86.672063            Y  60.18    NULL      3.09  \n",
       "\n",
       "[5 rows x 24 columns]"
      ]
     },
     "execution_count": 20,
     "metadata": {},
     "output_type": "execute_result"
    }
   ],
   "source": [
    "master_df.head()"
   ]
  },
  {
   "cell_type": "markdown",
   "metadata": {},
   "source": [
    "## Building samples "
   ]
  },
  {
   "cell_type": "markdown",
   "metadata": {},
   "source": [
    "**Class ```Sample Builder```**"
   ]
  },
  {
   "cell_type": "code",
   "execution_count": 21,
   "metadata": {},
   "outputs": [],
   "source": [
    "class SampleBuilder():\n",
    "    \n",
    "    def __init__(self, pdbs, cifs, mw):\n",
    "        \"\"\" \n",
    "        Build sample with all information available on files.\n",
    "        Let the processing and training step decide whether to include\n",
    "        or not some features.\n",
    "        \"\"\"\n",
    "        self.pdbs = pdbs\n",
    "        self.cifs = cifs\n",
    "        self.mw = mw\n",
    "          \n",
    "    def build_sample(self):\n",
    "        sample_df = pd.DataFrame()\n",
    "        for (pdb, cif) in zip(self.pdbs, self.cifs):\n",
    "            pdbparser = PDBParser(pdb) # parse PDB\n",
    "            pdbparser.parse()\n",
    "            pdb_header = pdbparser.header_to_series() # get header as Series\n",
    "            \n",
    "            cifparser = CIFParser(cif) # parse CIF\n",
    "            cifparser.parse()\n",
    "            \n",
    "            # compile CIF and PDB, including PHIERROR\n",
    "            cif_pdb_df = cifparser.header_refln_df(phierror=True) \n",
    "            for key in pdb_header.keys():\n",
    "                cif_pdb_df[key] = pdb_header[key]\n",
    "            \n",
    "            # get PDB name (it's not working for some files!)\n",
    "            pdb_id = cifparser.get_pdb_name().upper()\n",
    "            sample_mw = self.mw[self.mw['ID'] == pdb_id].iloc[0,1]\n",
    "            cif_pdb_df['MW'] = [sample_mw]*len(cif_pdb_df)\n",
    "            cif_pdb_df['ID'] = [pdb_id]*len(cif_pdb_df)\n",
    "            \n",
    "            # grow dataframe by concatenating\n",
    "            sample_df = pd.concat([sample_df, cif_pdb_df])\n",
    "        return sample_df\n",
    "     "
   ]
  },
  {
   "cell_type": "markdown",
   "metadata": {},
   "source": [
    "### Sample 1 \n",
    "\n",
    "* Contains 10 of 27 structures that are stored in our *git* repo. As no more structures will be added, there is no need to keep track of the structures used."
   ]
  },
  {
   "cell_type": "markdown",
   "metadata": {},
   "source": [
    "**Load data**"
   ]
  },
  {
   "cell_type": "code",
   "execution_count": 22,
   "metadata": {},
   "outputs": [],
   "source": [
    "import glob"
   ]
  },
  {
   "cell_type": "code",
   "execution_count": 23,
   "metadata": {},
   "outputs": [],
   "source": [
    "pdbs = glob.glob(user_path + '/exploration/data/pdb/*RCSB.pdb')\n",
    "cifs = glob.glob(user_path + '/exploration/data/phases/*RCSB_phases.cif')"
   ]
  },
  {
   "cell_type": "markdown",
   "metadata": {},
   "source": [
    "**Molecular Weight**"
   ]
  },
  {
   "cell_type": "code",
   "execution_count": 24,
   "metadata": {},
   "outputs": [],
   "source": [
    "mwext = mw_ext_parse(mw_data)"
   ]
  },
  {
   "cell_type": "markdown",
   "metadata": {},
   "source": [
    "**Sample 1**"
   ]
  },
  {
   "cell_type": "code",
   "execution_count": 25,
   "metadata": {},
   "outputs": [],
   "source": [
    "s1 = SampleBuilder(pdbs[:10], cifs[:10], mwext)"
   ]
  },
  {
   "cell_type": "code",
   "execution_count": 26,
   "metadata": {},
   "outputs": [],
   "source": [
    "s1_df = s1.build_sample()"
   ]
  },
  {
   "cell_type": "code",
   "execution_count": 27,
   "metadata": {},
   "outputs": [
    {
     "data": {
      "text/html": [
       "<div>\n",
       "<style scoped>\n",
       "    .dataframe tbody tr th:only-of-type {\n",
       "        vertical-align: middle;\n",
       "    }\n",
       "\n",
       "    .dataframe tbody tr th {\n",
       "        vertical-align: top;\n",
       "    }\n",
       "\n",
       "    .dataframe thead th {\n",
       "        text-align: right;\n",
       "    }\n",
       "</style>\n",
       "<table border=\"1\" class=\"dataframe\">\n",
       "  <thead>\n",
       "    <tr style=\"text-align: right;\">\n",
       "      <th></th>\n",
       "      <th>index_h</th>\n",
       "      <th>index_k</th>\n",
       "      <th>index_l</th>\n",
       "      <th>FOBS</th>\n",
       "      <th>SIGFOBS</th>\n",
       "      <th>FMODEL</th>\n",
       "      <th>PHIMODEL</th>\n",
       "      <th>FOM</th>\n",
       "      <th>RESOL</th>\n",
       "      <th>pdbx_r_free_flag</th>\n",
       "      <th>...</th>\n",
       "      <th>angle_beta</th>\n",
       "      <th>angle_gamma</th>\n",
       "      <th>volume</th>\n",
       "      <th>PHI_ERROR</th>\n",
       "      <th>SYNCHROTRON</th>\n",
       "      <th>SOLV</th>\n",
       "      <th>WILSON</th>\n",
       "      <th>MATTHEWS</th>\n",
       "      <th>MW</th>\n",
       "      <th>ID</th>\n",
       "    </tr>\n",
       "  </thead>\n",
       "  <tbody>\n",
       "    <tr>\n",
       "      <th>0</th>\n",
       "      <td>0</td>\n",
       "      <td>0</td>\n",
       "      <td>2</td>\n",
       "      <td>2875.680</td>\n",
       "      <td>27.17410</td>\n",
       "      <td>2655.7000</td>\n",
       "      <td>180.0</td>\n",
       "      <td>1.000000</td>\n",
       "      <td>38.72300</td>\n",
       "      <td>0</td>\n",
       "      <td>...</td>\n",
       "      <td>90.0</td>\n",
       "      <td>90.0</td>\n",
       "      <td>358641.741</td>\n",
       "      <td>0.000000</td>\n",
       "      <td>N</td>\n",
       "      <td>47.35</td>\n",
       "      <td>14.32</td>\n",
       "      <td>2.34</td>\n",
       "      <td>38400.2</td>\n",
       "      <td>4WA0</td>\n",
       "    </tr>\n",
       "    <tr>\n",
       "      <th>1</th>\n",
       "      <td>0</td>\n",
       "      <td>0</td>\n",
       "      <td>4</td>\n",
       "      <td>370.026</td>\n",
       "      <td>3.63324</td>\n",
       "      <td>380.3290</td>\n",
       "      <td>0.0</td>\n",
       "      <td>0.998620</td>\n",
       "      <td>19.36150</td>\n",
       "      <td>0</td>\n",
       "      <td>...</td>\n",
       "      <td>90.0</td>\n",
       "      <td>90.0</td>\n",
       "      <td>358641.741</td>\n",
       "      <td>3.010420</td>\n",
       "      <td>N</td>\n",
       "      <td>47.35</td>\n",
       "      <td>14.32</td>\n",
       "      <td>2.34</td>\n",
       "      <td>38400.2</td>\n",
       "      <td>4WA0</td>\n",
       "    </tr>\n",
       "    <tr>\n",
       "      <th>2</th>\n",
       "      <td>0</td>\n",
       "      <td>0</td>\n",
       "      <td>6</td>\n",
       "      <td>220.973</td>\n",
       "      <td>3.39928</td>\n",
       "      <td>173.1680</td>\n",
       "      <td>180.0</td>\n",
       "      <td>0.757121</td>\n",
       "      <td>12.90770</td>\n",
       "      <td>0</td>\n",
       "      <td>...</td>\n",
       "      <td>90.0</td>\n",
       "      <td>90.0</td>\n",
       "      <td>358641.741</td>\n",
       "      <td>40.788955</td>\n",
       "      <td>N</td>\n",
       "      <td>47.35</td>\n",
       "      <td>14.32</td>\n",
       "      <td>2.34</td>\n",
       "      <td>38400.2</td>\n",
       "      <td>4WA0</td>\n",
       "    </tr>\n",
       "    <tr>\n",
       "      <th>3</th>\n",
       "      <td>0</td>\n",
       "      <td>0</td>\n",
       "      <td>8</td>\n",
       "      <td>262.233</td>\n",
       "      <td>4.45675</td>\n",
       "      <td>18.4543</td>\n",
       "      <td>180.0</td>\n",
       "      <td>0.124482</td>\n",
       "      <td>9.68075</td>\n",
       "      <td>0</td>\n",
       "      <td>...</td>\n",
       "      <td>90.0</td>\n",
       "      <td>90.0</td>\n",
       "      <td>358641.741</td>\n",
       "      <td>82.849157</td>\n",
       "      <td>N</td>\n",
       "      <td>47.35</td>\n",
       "      <td>14.32</td>\n",
       "      <td>2.34</td>\n",
       "      <td>38400.2</td>\n",
       "      <td>4WA0</td>\n",
       "    </tr>\n",
       "    <tr>\n",
       "      <th>4</th>\n",
       "      <td>0</td>\n",
       "      <td>0</td>\n",
       "      <td>10</td>\n",
       "      <td>253.624</td>\n",
       "      <td>5.92648</td>\n",
       "      <td>390.3500</td>\n",
       "      <td>0.0</td>\n",
       "      <td>0.988117</td>\n",
       "      <td>7.74460</td>\n",
       "      <td>0</td>\n",
       "      <td>...</td>\n",
       "      <td>90.0</td>\n",
       "      <td>90.0</td>\n",
       "      <td>358641.741</td>\n",
       "      <td>8.841617</td>\n",
       "      <td>N</td>\n",
       "      <td>47.35</td>\n",
       "      <td>14.32</td>\n",
       "      <td>2.34</td>\n",
       "      <td>38400.2</td>\n",
       "      <td>4WA0</td>\n",
       "    </tr>\n",
       "  </tbody>\n",
       "</table>\n",
       "<p>5 rows × 31 columns</p>\n",
       "</div>"
      ],
      "text/plain": [
       "   index_h  index_k  index_l      FOBS   SIGFOBS     FMODEL  PHIMODEL  \\\n",
       "0        0        0        2  2875.680  27.17410  2655.7000     180.0   \n",
       "1        0        0        4   370.026   3.63324   380.3290       0.0   \n",
       "2        0        0        6   220.973   3.39928   173.1680     180.0   \n",
       "3        0        0        8   262.233   4.45675    18.4543     180.0   \n",
       "4        0        0       10   253.624   5.92648   390.3500       0.0   \n",
       "\n",
       "        FOM     RESOL  pdbx_r_free_flag  ...  angle_beta  angle_gamma  \\\n",
       "0  1.000000  38.72300                 0  ...        90.0         90.0   \n",
       "1  0.998620  19.36150                 0  ...        90.0         90.0   \n",
       "2  0.757121  12.90770                 0  ...        90.0         90.0   \n",
       "3  0.124482   9.68075                 0  ...        90.0         90.0   \n",
       "4  0.988117   7.74460                 0  ...        90.0         90.0   \n",
       "\n",
       "       volume  PHI_ERROR SYNCHROTRON   SOLV  WILSON  MATTHEWS       MW    ID  \n",
       "0  358641.741   0.000000           N  47.35   14.32      2.34  38400.2  4WA0  \n",
       "1  358641.741   3.010420           N  47.35   14.32      2.34  38400.2  4WA0  \n",
       "2  358641.741  40.788955           N  47.35   14.32      2.34  38400.2  4WA0  \n",
       "3  358641.741  82.849157           N  47.35   14.32      2.34  38400.2  4WA0  \n",
       "4  358641.741   8.841617           N  47.35   14.32      2.34  38400.2  4WA0  \n",
       "\n",
       "[5 rows x 31 columns]"
      ]
     },
     "execution_count": 27,
     "metadata": {},
     "output_type": "execute_result"
    }
   ],
   "source": [
    "s1_df.head()"
   ]
  },
  {
   "cell_type": "code",
   "execution_count": 28,
   "metadata": {},
   "outputs": [
    {
     "data": {
      "text/plain": [
       "(676484, 31)"
      ]
     },
     "execution_count": 28,
     "metadata": {},
     "output_type": "execute_result"
    }
   ],
   "source": [
    "s1_df.shape"
   ]
  },
  {
   "cell_type": "markdown",
   "metadata": {},
   "source": [
    "**Saving as** ```.csv```"
   ]
  },
  {
   "cell_type": "code",
   "execution_count": 29,
   "metadata": {},
   "outputs": [],
   "source": [
    "s1_df.to_csv(user_path + '/exploration/data/processed/sample1.csv')"
   ]
  },
  {
   "cell_type": "markdown",
   "metadata": {},
   "source": [
    "### Sample 2\n",
    "\n",
    "* Contains 27 of 27 structures that are stored in our *git* repo."
   ]
  },
  {
   "cell_type": "code",
   "execution_count": 32,
   "metadata": {},
   "outputs": [],
   "source": [
    "s2 = SampleBuilder(pdbs, cifs, mwext)"
   ]
  },
  {
   "cell_type": "code",
   "execution_count": 33,
   "metadata": {},
   "outputs": [],
   "source": [
    "s2_df = s2.build_sample()"
   ]
  },
  {
   "cell_type": "code",
   "execution_count": 34,
   "metadata": {},
   "outputs": [
    {
     "data": {
      "text/html": [
       "<div>\n",
       "<style scoped>\n",
       "    .dataframe tbody tr th:only-of-type {\n",
       "        vertical-align: middle;\n",
       "    }\n",
       "\n",
       "    .dataframe tbody tr th {\n",
       "        vertical-align: top;\n",
       "    }\n",
       "\n",
       "    .dataframe thead th {\n",
       "        text-align: right;\n",
       "    }\n",
       "</style>\n",
       "<table border=\"1\" class=\"dataframe\">\n",
       "  <thead>\n",
       "    <tr style=\"text-align: right;\">\n",
       "      <th></th>\n",
       "      <th>index_h</th>\n",
       "      <th>index_k</th>\n",
       "      <th>index_l</th>\n",
       "      <th>FOBS</th>\n",
       "      <th>SIGFOBS</th>\n",
       "      <th>FMODEL</th>\n",
       "      <th>PHIMODEL</th>\n",
       "      <th>FOM</th>\n",
       "      <th>RESOL</th>\n",
       "      <th>pdbx_r_free_flag</th>\n",
       "      <th>...</th>\n",
       "      <th>length_a</th>\n",
       "      <th>length_b</th>\n",
       "      <th>length_c</th>\n",
       "      <th>angle_alpha</th>\n",
       "      <th>angle_beta</th>\n",
       "      <th>angle_gamma</th>\n",
       "      <th>volume</th>\n",
       "      <th>PHI_ERROR</th>\n",
       "      <th>MW</th>\n",
       "      <th>ID</th>\n",
       "    </tr>\n",
       "  </thead>\n",
       "  <tbody>\n",
       "    <tr>\n",
       "      <th>0</th>\n",
       "      <td>0</td>\n",
       "      <td>0</td>\n",
       "      <td>2</td>\n",
       "      <td>2875.680</td>\n",
       "      <td>27.17410</td>\n",
       "      <td>2655.7000</td>\n",
       "      <td>180.0</td>\n",
       "      <td>1.000000</td>\n",
       "      <td>38.72300</td>\n",
       "      <td>0</td>\n",
       "      <td>...</td>\n",
       "      <td>61.507</td>\n",
       "      <td>75.29</td>\n",
       "      <td>77.446</td>\n",
       "      <td>90.0</td>\n",
       "      <td>90.0</td>\n",
       "      <td>90.0</td>\n",
       "      <td>358641.741</td>\n",
       "      <td>0.000000</td>\n",
       "      <td>38400.2</td>\n",
       "      <td>4WA0</td>\n",
       "    </tr>\n",
       "    <tr>\n",
       "      <th>1</th>\n",
       "      <td>0</td>\n",
       "      <td>0</td>\n",
       "      <td>4</td>\n",
       "      <td>370.026</td>\n",
       "      <td>3.63324</td>\n",
       "      <td>380.3290</td>\n",
       "      <td>0.0</td>\n",
       "      <td>0.998620</td>\n",
       "      <td>19.36150</td>\n",
       "      <td>0</td>\n",
       "      <td>...</td>\n",
       "      <td>61.507</td>\n",
       "      <td>75.29</td>\n",
       "      <td>77.446</td>\n",
       "      <td>90.0</td>\n",
       "      <td>90.0</td>\n",
       "      <td>90.0</td>\n",
       "      <td>358641.741</td>\n",
       "      <td>3.010420</td>\n",
       "      <td>38400.2</td>\n",
       "      <td>4WA0</td>\n",
       "    </tr>\n",
       "    <tr>\n",
       "      <th>2</th>\n",
       "      <td>0</td>\n",
       "      <td>0</td>\n",
       "      <td>6</td>\n",
       "      <td>220.973</td>\n",
       "      <td>3.39928</td>\n",
       "      <td>173.1680</td>\n",
       "      <td>180.0</td>\n",
       "      <td>0.757121</td>\n",
       "      <td>12.90770</td>\n",
       "      <td>0</td>\n",
       "      <td>...</td>\n",
       "      <td>61.507</td>\n",
       "      <td>75.29</td>\n",
       "      <td>77.446</td>\n",
       "      <td>90.0</td>\n",
       "      <td>90.0</td>\n",
       "      <td>90.0</td>\n",
       "      <td>358641.741</td>\n",
       "      <td>40.788955</td>\n",
       "      <td>38400.2</td>\n",
       "      <td>4WA0</td>\n",
       "    </tr>\n",
       "    <tr>\n",
       "      <th>3</th>\n",
       "      <td>0</td>\n",
       "      <td>0</td>\n",
       "      <td>8</td>\n",
       "      <td>262.233</td>\n",
       "      <td>4.45675</td>\n",
       "      <td>18.4543</td>\n",
       "      <td>180.0</td>\n",
       "      <td>0.124482</td>\n",
       "      <td>9.68075</td>\n",
       "      <td>0</td>\n",
       "      <td>...</td>\n",
       "      <td>61.507</td>\n",
       "      <td>75.29</td>\n",
       "      <td>77.446</td>\n",
       "      <td>90.0</td>\n",
       "      <td>90.0</td>\n",
       "      <td>90.0</td>\n",
       "      <td>358641.741</td>\n",
       "      <td>82.849157</td>\n",
       "      <td>38400.2</td>\n",
       "      <td>4WA0</td>\n",
       "    </tr>\n",
       "    <tr>\n",
       "      <th>4</th>\n",
       "      <td>0</td>\n",
       "      <td>0</td>\n",
       "      <td>10</td>\n",
       "      <td>253.624</td>\n",
       "      <td>5.92648</td>\n",
       "      <td>390.3500</td>\n",
       "      <td>0.0</td>\n",
       "      <td>0.988117</td>\n",
       "      <td>7.74460</td>\n",
       "      <td>0</td>\n",
       "      <td>...</td>\n",
       "      <td>61.507</td>\n",
       "      <td>75.29</td>\n",
       "      <td>77.446</td>\n",
       "      <td>90.0</td>\n",
       "      <td>90.0</td>\n",
       "      <td>90.0</td>\n",
       "      <td>358641.741</td>\n",
       "      <td>8.841617</td>\n",
       "      <td>38400.2</td>\n",
       "      <td>4WA0</td>\n",
       "    </tr>\n",
       "  </tbody>\n",
       "</table>\n",
       "<p>5 rows × 27 columns</p>\n",
       "</div>"
      ],
      "text/plain": [
       "   index_h  index_k  index_l      FOBS   SIGFOBS     FMODEL  PHIMODEL  \\\n",
       "0        0        0        2  2875.680  27.17410  2655.7000     180.0   \n",
       "1        0        0        4   370.026   3.63324   380.3290       0.0   \n",
       "2        0        0        6   220.973   3.39928   173.1680     180.0   \n",
       "3        0        0        8   262.233   4.45675    18.4543     180.0   \n",
       "4        0        0       10   253.624   5.92648   390.3500       0.0   \n",
       "\n",
       "        FOM     RESOL  pdbx_r_free_flag  ...  length_a  length_b length_c  \\\n",
       "0  1.000000  38.72300                 0  ...    61.507     75.29   77.446   \n",
       "1  0.998620  19.36150                 0  ...    61.507     75.29   77.446   \n",
       "2  0.757121  12.90770                 0  ...    61.507     75.29   77.446   \n",
       "3  0.124482   9.68075                 0  ...    61.507     75.29   77.446   \n",
       "4  0.988117   7.74460                 0  ...    61.507     75.29   77.446   \n",
       "\n",
       "  angle_alpha angle_beta angle_gamma      volume  PHI_ERROR       MW    ID  \n",
       "0        90.0       90.0        90.0  358641.741   0.000000  38400.2  4WA0  \n",
       "1        90.0       90.0        90.0  358641.741   3.010420  38400.2  4WA0  \n",
       "2        90.0       90.0        90.0  358641.741  40.788955  38400.2  4WA0  \n",
       "3        90.0       90.0        90.0  358641.741  82.849157  38400.2  4WA0  \n",
       "4        90.0       90.0        90.0  358641.741   8.841617  38400.2  4WA0  \n",
       "\n",
       "[5 rows x 27 columns]"
      ]
     },
     "execution_count": 34,
     "metadata": {},
     "output_type": "execute_result"
    }
   ],
   "source": [
    "s2_df.head()"
   ]
  },
  {
   "cell_type": "code",
   "execution_count": 35,
   "metadata": {},
   "outputs": [
    {
     "data": {
      "text/plain": [
       "(1195772, 27)"
      ]
     },
     "execution_count": 35,
     "metadata": {},
     "output_type": "execute_result"
    }
   ],
   "source": [
    "s2_df.shape"
   ]
  },
  {
   "cell_type": "markdown",
   "metadata": {},
   "source": [
    "**Saving as** ```.csv```"
   ]
  },
  {
   "cell_type": "code",
   "execution_count": 36,
   "metadata": {},
   "outputs": [],
   "source": [
    "s2_df.to_csv(user_path + '/exploration/data/processed/sample2.csv')"
   ]
  },
  {
   "cell_type": "markdown",
   "metadata": {},
   "source": [
    "### Sample 3\n",
    "\n",
    "* Contains $79$ structures uniformly sampled from the $10^5$ first. I will save it on my computer to keep a backup."
   ]
  },
  {
   "cell_type": "code",
   "execution_count": 30,
   "metadata": {},
   "outputs": [],
   "source": [
    "MAX_INDEX = 10**5"
   ]
  },
  {
   "cell_type": "code",
   "execution_count": 31,
   "metadata": {},
   "outputs": [],
   "source": [
    "s3_size = 100"
   ]
  },
  {
   "cell_type": "code",
   "execution_count": 32,
   "metadata": {},
   "outputs": [],
   "source": [
    "s3_rcsb = np.array(glob.glob('F:/INPUT/*RCSB.pdb'))[:MAX_INDEX]"
   ]
  },
  {
   "cell_type": "markdown",
   "metadata": {},
   "source": [
    "**Sampling PDB**"
   ]
  },
  {
   "cell_type": "code",
   "execution_count": 55,
   "metadata": {},
   "outputs": [],
   "source": [
    "np.random.seed = 4"
   ]
  },
  {
   "cell_type": "code",
   "execution_count": 56,
   "metadata": {},
   "outputs": [],
   "source": [
    "s3_sampled_pdb_files = np.random.choice(s3_rcsb, size=s3_size, replace=False)"
   ]
  },
  {
   "cell_type": "markdown",
   "metadata": {},
   "source": [
    "**Get CIFs and pair with PDBs**"
   ]
  },
  {
   "cell_type": "code",
   "execution_count": 57,
   "metadata": {},
   "outputs": [],
   "source": [
    "s3_cif = np.array(glob.glob('F:/OUTPUT/*/2-PHASES_CIF/*RCSB_phases.cif'))"
   ]
  },
  {
   "cell_type": "code",
   "execution_count": 58,
   "metadata": {},
   "outputs": [],
   "source": [
    "s3_cif_files = []\n",
    "s3_pdb_files = []"
   ]
  },
  {
   "cell_type": "code",
   "execution_count": 59,
   "metadata": {},
   "outputs": [],
   "source": [
    "for pdb in s3_sampled_pdb_files:\n",
    "    filename = os.path.split(pdb)[-1][:-4] + '_phases.cif'\n",
    "    for cif in s3_cif:\n",
    "        if filename in cif:\n",
    "            s3_cif_files.append(cif)\n",
    "            s3_pdb_files.append(pdb)\n",
    "            break"
   ]
  },
  {
   "cell_type": "code",
   "execution_count": 60,
   "metadata": {},
   "outputs": [
    {
     "data": {
      "text/plain": [
       "79"
      ]
     },
     "execution_count": 60,
     "metadata": {},
     "output_type": "execute_result"
    }
   ],
   "source": [
    "len(s3_cif_files)"
   ]
  },
  {
   "cell_type": "code",
   "execution_count": 61,
   "metadata": {},
   "outputs": [
    {
     "data": {
      "text/plain": [
       "79"
      ]
     },
     "execution_count": 61,
     "metadata": {},
     "output_type": "execute_result"
    }
   ],
   "source": [
    "len(s3_pdb_files)"
   ]
  },
  {
   "cell_type": "markdown",
   "metadata": {},
   "source": [
    "**Using build sample**"
   ]
  },
  {
   "cell_type": "code",
   "execution_count": 62,
   "metadata": {},
   "outputs": [],
   "source": [
    "s3 = SampleBuilder(s3_pdb_files, s3_cif_files, mwext)"
   ]
  },
  {
   "cell_type": "code",
   "execution_count": 63,
   "metadata": {},
   "outputs": [],
   "source": [
    "s3_df = s3.build_sample()"
   ]
  },
  {
   "cell_type": "markdown",
   "metadata": {},
   "source": [
    "**Saving as** ```.csv```"
   ]
  },
  {
   "cell_type": "code",
   "execution_count": 64,
   "metadata": {},
   "outputs": [],
   "source": [
    "s3_df.to_csv(user_path + '/exploration/data/processed/sample3.csv')"
   ]
  },
  {
   "cell_type": "markdown",
   "metadata": {},
   "source": [
    "### Sample 4"
   ]
  },
  {
   "cell_type": "code",
   "execution_count": 72,
   "metadata": {},
   "outputs": [],
   "source": [
    "s4_size = 50"
   ]
  },
  {
   "cell_type": "code",
   "execution_count": 73,
   "metadata": {},
   "outputs": [],
   "source": [
    "s4_rcsb = np.array(glob.glob('F:/INPUT/*RCSB.pdb'))[:MAX_INDEX]"
   ]
  },
  {
   "cell_type": "markdown",
   "metadata": {},
   "source": [
    "**Sampling PDB**"
   ]
  },
  {
   "cell_type": "code",
   "execution_count": 74,
   "metadata": {},
   "outputs": [],
   "source": [
    "np.random.seed = 4"
   ]
  },
  {
   "cell_type": "code",
   "execution_count": 75,
   "metadata": {},
   "outputs": [],
   "source": [
    "s4_sampled_pdb_files = np.random.choice(s4_rcsb, size=s4_size, replace=False)"
   ]
  },
  {
   "cell_type": "markdown",
   "metadata": {},
   "source": [
    "**Get CIFs and pair with PDBs**"
   ]
  },
  {
   "cell_type": "code",
   "execution_count": 76,
   "metadata": {},
   "outputs": [],
   "source": [
    "s4_cif = np.array(glob.glob('F:/OUTPUT/*/2-PHASES_CIF/*RCSB_phases.cif'))"
   ]
  },
  {
   "cell_type": "code",
   "execution_count": 77,
   "metadata": {},
   "outputs": [],
   "source": [
    "s4_cif_files = []\n",
    "s4_pdb_files = []"
   ]
  },
  {
   "cell_type": "code",
   "execution_count": 78,
   "metadata": {},
   "outputs": [],
   "source": [
    "for pdb in s4_sampled_pdb_files:\n",
    "    filename = os.path.split(pdb)[-1][:-4] + '_phases.cif'\n",
    "    for cif in s4_cif:\n",
    "        if filename in cif:\n",
    "            s4_cif_files.append(cif)\n",
    "            s4_pdb_files.append(pdb)\n",
    "            break"
   ]
  },
  {
   "cell_type": "code",
   "execution_count": 79,
   "metadata": {},
   "outputs": [
    {
     "data": {
      "text/plain": [
       "34"
      ]
     },
     "execution_count": 79,
     "metadata": {},
     "output_type": "execute_result"
    }
   ],
   "source": [
    "len(s4_cif_files)"
   ]
  },
  {
   "cell_type": "code",
   "execution_count": 80,
   "metadata": {},
   "outputs": [
    {
     "data": {
      "text/plain": [
       "34"
      ]
     },
     "execution_count": 80,
     "metadata": {},
     "output_type": "execute_result"
    }
   ],
   "source": [
    "len(s4_pdb_files)"
   ]
  },
  {
   "cell_type": "markdown",
   "metadata": {},
   "source": [
    "**Using build sample**"
   ]
  },
  {
   "cell_type": "code",
   "execution_count": 81,
   "metadata": {},
   "outputs": [],
   "source": [
    "s4 = SampleBuilder(s4_pdb_files, s4_cif_files, mwext)"
   ]
  },
  {
   "cell_type": "code",
   "execution_count": 82,
   "metadata": {},
   "outputs": [],
   "source": [
    "s4_df = s4.build_sample()"
   ]
  },
  {
   "cell_type": "markdown",
   "metadata": {},
   "source": [
    "**Saving as** ```.csv```"
   ]
  },
  {
   "cell_type": "code",
   "execution_count": 83,
   "metadata": {},
   "outputs": [],
   "source": [
    "s4_df.to_csv(user_path + '/exploration/data/processed/sample4.csv')"
   ]
  },
  {
   "cell_type": "markdown",
   "metadata": {},
   "source": [
    "## Evaluating performance\n",
    "\n",
    "Using ```timeit``` library to compare if building the dataframe from start is more performant than loading it. \n",
    "\n",
    "* Test the code along 10 executions."
   ]
  },
  {
   "cell_type": "code",
   "execution_count": 84,
   "metadata": {},
   "outputs": [],
   "source": [
    "import timeit "
   ]
  },
  {
   "cell_type": "code",
   "execution_count": 85,
   "metadata": {},
   "outputs": [],
   "source": [
    "def build_df(pdbs, cifs, mwext):\n",
    "    return SampleBuilder(pdbs, cifs, mwext).build_sample()"
   ]
  },
  {
   "cell_type": "code",
   "execution_count": 86,
   "metadata": {},
   "outputs": [],
   "source": [
    "def load_df(filename):\n",
    "    return pd.read_csv(filename)"
   ]
  },
  {
   "cell_type": "markdown",
   "metadata": {},
   "source": [
    "### Sample 1"
   ]
  },
  {
   "cell_type": "markdown",
   "metadata": {},
   "source": [
    "**Building**"
   ]
  },
  {
   "cell_type": "code",
   "execution_count": 87,
   "metadata": {},
   "outputs": [
    {
     "data": {
      "text/plain": [
       "[17.842001334000088,\n",
       " 17.360007184000096,\n",
       " 17.71039513599999,\n",
       " 17.253738903000112,\n",
       " 17.201121773000068]"
      ]
     },
     "execution_count": 87,
     "metadata": {},
     "output_type": "execute_result"
    }
   ],
   "source": [
    "timeit.repeat('build_df(s1_pdbs, s1_cifs, mw)', setup='from __main__ import build_df, pdbs, cifs, mwext; s1_pdbs = pdbs[:10]; s1_cifs = cifs[:10]; mw = mwext',\n",
    "             repeat=5, number=1)"
   ]
  },
  {
   "cell_type": "markdown",
   "metadata": {},
   "source": [
    "**Loading**"
   ]
  },
  {
   "cell_type": "code",
   "execution_count": 88,
   "metadata": {},
   "outputs": [],
   "source": [
    "s1_filename = user_path + '/exploration/data/processed/sample1.csv'"
   ]
  },
  {
   "cell_type": "code",
   "execution_count": 89,
   "metadata": {},
   "outputs": [
    {
     "data": {
      "text/plain": [
       "[12.84332631999996,\n",
       " 12.670949864000022,\n",
       " 12.89070098000002,\n",
       " 13.347422897000115,\n",
       " 12.584156616999962]"
      ]
     },
     "execution_count": 89,
     "metadata": {},
     "output_type": "execute_result"
    }
   ],
   "source": [
    "timeit.repeat('load_df(file)', setup='from __main__ import load_df, s1_filename; file = s1_filename',\n",
    "             repeat=5, number=1)"
   ]
  },
  {
   "cell_type": "markdown",
   "metadata": {},
   "source": [
    "### Sample 2"
   ]
  },
  {
   "cell_type": "markdown",
   "metadata": {},
   "source": [
    "**Building**"
   ]
  },
  {
   "cell_type": "code",
   "execution_count": 90,
   "metadata": {},
   "outputs": [
    {
     "data": {
      "text/plain": [
       "[43.92777441399994,\n",
       " 42.76588648799998,\n",
       " 41.66368912600001,\n",
       " 41.67722481599981,\n",
       " 41.349960999999894]"
      ]
     },
     "execution_count": 90,
     "metadata": {},
     "output_type": "execute_result"
    }
   ],
   "source": [
    "timeit.repeat('build_df(s2_pdbs, s2_cifs, mw)', setup='from __main__ import build_df, pdbs, cifs, mwext; s2_pdbs = pdbs; s2_cifs = cifs; mw = mwext',\n",
    "             repeat=5, number=1)"
   ]
  },
  {
   "cell_type": "markdown",
   "metadata": {},
   "source": [
    "**Loading**"
   ]
  },
  {
   "cell_type": "code",
   "execution_count": 91,
   "metadata": {},
   "outputs": [],
   "source": [
    "s2_filename = user_path + '/exploration/data/processed/sample2.csv'"
   ]
  },
  {
   "cell_type": "code",
   "execution_count": 92,
   "metadata": {},
   "outputs": [
    {
     "data": {
      "text/plain": [
       "[23.32826961600017,\n",
       " 21.041737568000144,\n",
       " 20.13232000799985,\n",
       " 19.771335762000035,\n",
       " 19.382442653999988]"
      ]
     },
     "execution_count": 92,
     "metadata": {},
     "output_type": "execute_result"
    }
   ],
   "source": [
    "timeit.repeat('load_df(file)', setup='from __main__ import load_df, s2_filename; file = s2_filename',\n",
    "             repeat=5, number=1)"
   ]
  },
  {
   "cell_type": "markdown",
   "metadata": {},
   "source": [
    "### Sample 3"
   ]
  },
  {
   "cell_type": "markdown",
   "metadata": {},
   "source": [
    "**Building**"
   ]
  },
  {
   "cell_type": "code",
   "execution_count": 93,
   "metadata": {},
   "outputs": [
    {
     "data": {
      "text/plain": [
       "[245.11618412200005,\n",
       " 243.9052316929999,\n",
       " 244.4624888389999,\n",
       " 231.70197567600007,\n",
       " 230.30998614500004]"
      ]
     },
     "execution_count": 93,
     "metadata": {},
     "output_type": "execute_result"
    }
   ],
   "source": [
    "timeit.repeat('build_df(s3_pdbs, s3_cifs, mw)', setup='from __main__ import build_df, s3_pdb_files, s3_cif_files, mwext; s3_pdbs = s3_pdb_files; s3_cifs = s3_cif_files; mw = mwext',\n",
    "             repeat=5, number=1)"
   ]
  },
  {
   "cell_type": "code",
   "execution_count": 24,
   "metadata": {},
   "outputs": [],
   "source": [
    "a = np.array([245.11618412200005,\n",
    " 243.9052316929999,\n",
    " 244.4624888389999,\n",
    " 231.70197567600007,\n",
    " 230.30998614500004])"
   ]
  },
  {
   "cell_type": "code",
   "execution_count": 25,
   "metadata": {},
   "outputs": [
    {
     "data": {
      "text/plain": [
       "239.09917329499999"
      ]
     },
     "execution_count": 25,
     "metadata": {},
     "output_type": "execute_result"
    }
   ],
   "source": [
    "a.mean()"
   ]
  },
  {
   "cell_type": "code",
   "execution_count": 26,
   "metadata": {},
   "outputs": [
    {
     "data": {
      "text/plain": [
       "6.633793991585731"
      ]
     },
     "execution_count": 26,
     "metadata": {},
     "output_type": "execute_result"
    }
   ],
   "source": [
    "a.std()"
   ]
  },
  {
   "cell_type": "markdown",
   "metadata": {},
   "source": [
    "**Loading**"
   ]
  },
  {
   "cell_type": "code",
   "execution_count": 94,
   "metadata": {},
   "outputs": [],
   "source": [
    "s3_filename = user_path + '/exploration/data/processed/sample3.csv'"
   ]
  },
  {
   "cell_type": "code",
   "execution_count": 95,
   "metadata": {},
   "outputs": [
    {
     "data": {
      "text/plain": [
       "[87.17082362600013,\n",
       " 80.62643711200008,\n",
       " 74.85143942100012,\n",
       " 74.65908657099999,\n",
       " 73.83560732800015]"
      ]
     },
     "execution_count": 95,
     "metadata": {},
     "output_type": "execute_result"
    }
   ],
   "source": [
    "timeit.repeat('load_df(file)', setup='from __main__ import load_df, s3_filename; file = s3_filename',\n",
    "             repeat=5, number=1)"
   ]
  },
  {
   "cell_type": "code",
   "execution_count": 28,
   "metadata": {},
   "outputs": [],
   "source": [
    "a = np.array([87.17082362600013,\n",
    " 80.62643711200008,\n",
    " 74.85143942100012,\n",
    " 74.65908657099999,\n",
    " 73.83560732800015])"
   ]
  },
  {
   "cell_type": "code",
   "execution_count": 29,
   "metadata": {},
   "outputs": [
    {
     "data": {
      "text/plain": [
       "(78.22867881160009, 5.082479915836953)"
      ]
     },
     "execution_count": 29,
     "metadata": {},
     "output_type": "execute_result"
    }
   ],
   "source": [
    "a.mean(), a.std()"
   ]
  },
  {
   "cell_type": "code",
   "execution_count": null,
   "metadata": {},
   "outputs": [],
   "source": []
  },
  {
   "cell_type": "markdown",
   "metadata": {},
   "source": [
    "### Sample 4"
   ]
  },
  {
   "cell_type": "markdown",
   "metadata": {},
   "source": [
    "**Building**"
   ]
  },
  {
   "cell_type": "code",
   "execution_count": 96,
   "metadata": {},
   "outputs": [
    {
     "data": {
      "text/plain": [
       "[50.57140144799996,\n",
       " 47.47726330400019,\n",
       " 46.16879509399996,\n",
       " 45.926410428000054,\n",
       " 45.1438846420001]"
      ]
     },
     "execution_count": 96,
     "metadata": {},
     "output_type": "execute_result"
    }
   ],
   "source": [
    "timeit.repeat('build_df(s4_pdbs, s4_cifs, mw)', setup='from __main__ import build_df, s4_pdb_files, s4_cif_files, mwext; s4_pdbs = s4_pdb_files; s4_cifs = s4_cif_files; mw = mwext',\n",
    "             repeat=5, number=1)"
   ]
  },
  {
   "cell_type": "code",
   "execution_count": 32,
   "metadata": {},
   "outputs": [],
   "source": [
    "a = np.array([24.54291168499958,\n",
    " 24.504560475999824,\n",
    " 24.17345871600037,\n",
    " 23.89132242000005,\n",
    " 23.90044491200024])"
   ]
  },
  {
   "cell_type": "code",
   "execution_count": 33,
   "metadata": {},
   "outputs": [
    {
     "data": {
      "text/plain": [
       "(24.202539641800012, 0.2814365993418935)"
      ]
     },
     "execution_count": 33,
     "metadata": {},
     "output_type": "execute_result"
    }
   ],
   "source": [
    "a.mean(), a.std()"
   ]
  },
  {
   "cell_type": "code",
   "execution_count": null,
   "metadata": {},
   "outputs": [],
   "source": []
  },
  {
   "cell_type": "markdown",
   "metadata": {},
   "source": [
    "**Loading**"
   ]
  },
  {
   "cell_type": "code",
   "execution_count": 97,
   "metadata": {},
   "outputs": [],
   "source": [
    "s4_filename = user_path + '/exploration/data/processed/sample4.csv'"
   ]
  },
  {
   "cell_type": "code",
   "execution_count": 98,
   "metadata": {},
   "outputs": [
    {
     "data": {
      "text/plain": [
       "[24.54291168499958,\n",
       " 24.504560475999824,\n",
       " 24.17345871600037,\n",
       " 23.89132242000005,\n",
       " 23.90044491200024]"
      ]
     },
     "execution_count": 98,
     "metadata": {},
     "output_type": "execute_result"
    }
   ],
   "source": [
    "timeit.repeat('load_df(file)', setup='from __main__ import load_df, s4_filename; file = s4_filename',\n",
    "             repeat=5, number=1)"
   ]
  },
  {
   "cell_type": "markdown",
   "metadata": {},
   "source": [
    "---"
   ]
  },
  {
   "cell_type": "markdown",
   "metadata": {},
   "source": [
    "## Conclusions "
   ]
  },
  {
   "cell_type": "markdown",
   "metadata": {},
   "source": [
    "* Keep PHIERROR in ```preprocessing.py```. No need to include this after loading (it would increase our processing time; moreover, if it's not need, just drop that column).\n",
    "* Some PDB and CIF files contains no useful information and are formatted in a way that cannot be parsed by our classes. \n",
    "    * Problems in getting cif name (returning ```Out of index error``` because no name was found).\n",
    "    * Problems in interpreting uncommon chars (returning enconding errors). Tried to fix by manually setting the enconding on ```_gather_data```. \n",
    "* Saving the dataframes as ```.csv``` improves loading time significantly.\n",
    "\n",
    "\n",
    "**Future Objectives in this step**\n",
    "\n",
    "* Think about number of decimal places and the data representation (```float64, int32```)\n",
    "* Improve regular expressions (e.g., verify if ```findall``` or loading entire file as string is truly needed).\n",
    "* Search for new storage libraries (e.g., optmized pandas for large datasets or another library)"
   ]
  }
 ],
 "metadata": {
  "kernelspec": {
   "display_name": "Python 3",
   "language": "python",
   "name": "python3"
  },
  "language_info": {
   "codemirror_mode": {
    "name": "ipython",
    "version": 3
   },
   "file_extension": ".py",
   "mimetype": "text/x-python",
   "name": "python",
   "nbconvert_exporter": "python",
   "pygments_lexer": "ipython3",
   "version": "3.7.3"
  }
 },
 "nbformat": 4,
 "nbformat_minor": 2
}
